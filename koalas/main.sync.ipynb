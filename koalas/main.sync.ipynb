{
 "cells": [
  {
   "cell_type": "code",
   "execution_count": 71,
   "id": "155ca379",
   "metadata": {},
   "outputs": [],
   "source": [
    "import time\n",
    "import datetime\n",
    "import sys\n",
    "import databricks.koalas as ks\n",
    "from pyspark.sql import SparkSession"
   ]
  },
  {
   "cell_type": "code",
   "execution_count": 72,
   "id": "f0d5a78c",
   "metadata": {},
   "outputs": [
    {
     "data": {
      "application/javascript": [
       "(function(on) {\n",
       "    const e = $(\"<a>Setup failed</a>\");\n",
       "    const ns = \"js_jupyter_suppress_warnings\";\n",
       "    var cssrules = $(\"#\" + ns);\n",
       "    if(!cssrules.length)\n",
       "        cssrules = $(\"<style id='\" + ns + \"' type='text/css'>div.output_stderr { } </style>\").appendTo(\"head\");\n",
       "    e.click(function() {\n",
       "        var s = 'Showing';\n",
       "        cssrules.empty()\n",
       "        if(on) {\n",
       "            s = 'Hiding';\n",
       "            cssrules.append(\"div.output_stderr, div[data-mime-type*='.stderr'] { display:none; }\");\n",
       "        }\n",
       "        e.text(s + ' warnings (click to toggle)');\n",
       "        on = !on;\n",
       "    }).click();\n",
       "    $(element).append(e);\n",
       "})(true);\n"
      ],
      "text/plain": [
       "<IPython.core.display.Javascript object>"
      ]
     },
     "metadata": {},
     "output_type": "display_data"
    }
   ],
   "source": [
    "%%javascript\n",
    "(function(on) {\n",
    "    const e = $(\"<a>Setup failed</a>\");\n",
    "    const ns = \"js_jupyter_suppress_warnings\";\n",
    "    var cssrules = $(\"#\" + ns);\n",
    "    if(!cssrules.length)\n",
    "        cssrules = $(\"<style id='\" + ns + \"' type='text/css'>div.output_stderr { } </style>\").appendTo(\"head\");\n",
    "    e.click(function() {\n",
    "        var s = 'Showing';\n",
    "        cssrules.empty()\n",
    "        if(on) {\n",
    "            s = 'Hiding';\n",
    "            cssrules.append(\"div.output_stderr, div[data-mime-type*='.stderr'] { display:none; }\");\n",
    "        }\n",
    "        e.text(s + ' warnings (click to toggle)');\n",
    "        on = !on;\n",
    "    }).click();\n",
    "    $(element).append(e);\n",
    "})(true);"
   ]
  },
  {
   "cell_type": "code",
   "execution_count": 73,
   "id": "a5ae8633",
   "metadata": {},
   "outputs": [
    {
     "name": "stdout",
     "output_type": "stream",
     "text": [
      "0:00:00.325730\n"
     ]
    }
   ],
   "source": [
    "prev = datetime.datetime.now()\n",
    "description = ks.read_csv(\"Course_info.csv\")\n",
    "now = datetime.datetime.now()\n",
    "print(now - prev)"
   ]
  },
  {
   "cell_type": "code",
   "execution_count": 74,
   "id": "65ae8453",
   "metadata": {},
   "outputs": [
    {
     "name": "stderr",
     "output_type": "stream",
     "text": [
      "\r",
      "[Stage 302:>                                                      (0 + 16) / 16]\r"
     ]
    },
    {
     "name": "stdout",
     "output_type": "stream",
     "text": [
      "0:00:02.499003\n"
     ]
    },
    {
     "name": "stderr",
     "output_type": "stream",
     "text": [
      "\r",
      "[Stage 302:===>                                                   (1 + 15) / 16]\r",
      "\r",
      "                                                                                \r"
     ]
    }
   ],
   "source": [
    "prev = datetime.datetime.now()\n",
    "comments = ks.read_csv(\"Comments.csv\")\n",
    "now = datetime.datetime.now()\n",
    "print(now - prev)"
   ]
  },
  {
   "cell_type": "code",
   "execution_count": 75,
   "id": "49994b28",
   "metadata": {},
   "outputs": [
    {
     "name": "stdout",
     "output_type": "stream",
     "text": [
      "23/01/02 04:20:18 WARN WindowExec: No Partition Defined for Window operation! Moving all data to a single partition, this can cause serious performance degradation.\n",
      "23/01/02 04:20:18 WARN WindowExec: No Partition Defined for Window operation! Moving all data to a single partition, this can cause serious performance degradation.\n",
      "23/01/02 04:20:18 WARN WindowExec: No Partition Defined for Window operation! Moving all data to a single partition, this can cause serious performance degradation.\n"
     ]
    },
    {
     "data": {
      "text/html": [
       "<div>\n",
       "<style scoped>\n",
       "    .dataframe tbody tr th:only-of-type {\n",
       "        vertical-align: middle;\n",
       "    }\n",
       "\n",
       "    .dataframe tbody tr th {\n",
       "        vertical-align: top;\n",
       "    }\n",
       "\n",
       "    .dataframe thead th {\n",
       "        text-align: right;\n",
       "    }\n",
       "</style>\n",
       "<table border=\"1\" class=\"dataframe\">\n",
       "  <thead>\n",
       "    <tr style=\"text-align: right;\">\n",
       "      <th></th>\n",
       "      <th>id</th>\n",
       "      <th>title</th>\n",
       "      <th>is_paid</th>\n",
       "      <th>price</th>\n",
       "      <th>headline</th>\n",
       "      <th>num_subscribers</th>\n",
       "      <th>avg_rating</th>\n",
       "      <th>num_reviews</th>\n",
       "      <th>num_comments</th>\n",
       "      <th>num_lectures</th>\n",
       "      <th>content_length_min</th>\n",
       "      <th>published_time</th>\n",
       "      <th>last_update_date</th>\n",
       "      <th>category</th>\n",
       "      <th>subcategory</th>\n",
       "      <th>topic</th>\n",
       "      <th>language</th>\n",
       "      <th>course_url</th>\n",
       "      <th>instructor_name</th>\n",
       "      <th>instructor_url</th>\n",
       "    </tr>\n",
       "  </thead>\n",
       "  <tbody>\n",
       "    <tr>\n",
       "      <th>0</th>\n",
       "      <td>4715.0</td>\n",
       "      <td>Online Vegan Vegetarian Cooking School</td>\n",
       "      <td>True</td>\n",
       "      <td>24.99</td>\n",
       "      <td>Learn to cook delicious vegan recipes. Filmed ...</td>\n",
       "      <td>2231.0</td>\n",
       "      <td>3.75</td>\n",
       "      <td>134.0</td>\n",
       "      <td>42.0</td>\n",
       "      <td>37.0</td>\n",
       "      <td>1268.0</td>\n",
       "      <td>2010-08-05T22:06:13Z</td>\n",
       "      <td>2020-11-06</td>\n",
       "      <td>Lifestyle</td>\n",
       "      <td>Food &amp; Beverage</td>\n",
       "      <td>Vegan Cooking</td>\n",
       "      <td>English</td>\n",
       "      <td>/course/vegan-vegetarian-cooking-school/</td>\n",
       "      <td>Angela Poch</td>\n",
       "      <td>/user/angelapoch/</td>\n",
       "    </tr>\n",
       "    <tr>\n",
       "      <th>1</th>\n",
       "      <td>1769.0</td>\n",
       "      <td>The Lean Startup Talk at Stanford E-Corner</td>\n",
       "      <td>False</td>\n",
       "      <td>0.0</td>\n",
       "      <td>\"Debunking Myths of Entrepreneurship A startup...</td>\n",
       "      <td>26474.0</td>\n",
       "      <td>4.5</td>\n",
       "      <td>709.0</td>\n",
       "      <td>112.0</td>\n",
       "      <td>9.0</td>\n",
       "      <td>88.0</td>\n",
       "      <td>2010-01-12T18:09:46Z</td>\n",
       "      <td>None</td>\n",
       "      <td>Business</td>\n",
       "      <td>Entrepreneurship</td>\n",
       "      <td>Lean Startup</td>\n",
       "      <td>English</td>\n",
       "      <td>/course/the-lean-startup-debunking-myths-of-en...</td>\n",
       "      <td>Eric Ries</td>\n",
       "      <td>/user/ericries/</td>\n",
       "    </tr>\n",
       "    <tr>\n",
       "      <th>2</th>\n",
       "      <td>5664.0</td>\n",
       "      <td>How To Become a Vegan, Vegetarian, or Flexitarian</td>\n",
       "      <td>True</td>\n",
       "      <td>19.99</td>\n",
       "      <td>Get the tools you need for a lifestyle change ...</td>\n",
       "      <td>1713.0</td>\n",
       "      <td>4.4</td>\n",
       "      <td>41.0</td>\n",
       "      <td>13.0</td>\n",
       "      <td>14.0</td>\n",
       "      <td>82.0</td>\n",
       "      <td>2010-10-13T18:07:17Z</td>\n",
       "      <td>2019-10-09</td>\n",
       "      <td>Lifestyle</td>\n",
       "      <td>Other Lifestyle</td>\n",
       "      <td>Vegan Cooking</td>\n",
       "      <td>English</td>\n",
       "      <td>/course/see-my-personal-motivation-for-becomin...</td>\n",
       "      <td>Angela Poch</td>\n",
       "      <td>/user/angelapoch/</td>\n",
       "    </tr>\n",
       "    <tr>\n",
       "      <th>3</th>\n",
       "      <td>7723.0</td>\n",
       "      <td>How to Train a Puppy</td>\n",
       "      <td>True</td>\n",
       "      <td>199.99</td>\n",
       "      <td>Train your puppy the right way with Dr. Ian Du...</td>\n",
       "      <td>4988.0</td>\n",
       "      <td>4.8</td>\n",
       "      <td>395.0</td>\n",
       "      <td>88.0</td>\n",
       "      <td>36.0</td>\n",
       "      <td>1511.0</td>\n",
       "      <td>2011-06-20T20:08:38Z</td>\n",
       "      <td>2016-01-13</td>\n",
       "      <td>Lifestyle</td>\n",
       "      <td>Pet Care &amp; Training</td>\n",
       "      <td>Pet Training</td>\n",
       "      <td>English</td>\n",
       "      <td>/course/complete-dunbar-collection/</td>\n",
       "      <td>Ian Dunbar</td>\n",
       "      <td>/user/ian-dunbar/</td>\n",
       "    </tr>\n",
       "    <tr>\n",
       "      <th>4</th>\n",
       "      <td>8157.0</td>\n",
       "      <td>Web Design from the Ground Up</td>\n",
       "      <td>True</td>\n",
       "      <td>159.99</td>\n",
       "      <td>Learn web design online: Everything you need t...</td>\n",
       "      <td>1266.0</td>\n",
       "      <td>4.75</td>\n",
       "      <td>38.0</td>\n",
       "      <td>12.0</td>\n",
       "      <td>38.0</td>\n",
       "      <td>569.0</td>\n",
       "      <td>2011-06-23T18:31:20Z</td>\n",
       "      <td>None</td>\n",
       "      <td>Design</td>\n",
       "      <td>Web Design</td>\n",
       "      <td>Web Design</td>\n",
       "      <td>English</td>\n",
       "      <td>/course/web-design-from-the-ground-up/</td>\n",
       "      <td>E Learning Lab</td>\n",
       "      <td>/user/edwin-ang-2/</td>\n",
       "    </tr>\n",
       "  </tbody>\n",
       "</table>\n",
       "</div>"
      ],
      "text/plain": [
       "       id                                              title is_paid   price                                                                                                                  headline num_subscribers avg_rating num_reviews num_comments num_lectures  content_length_min        published_time last_update_date   category          subcategory          topic language                                                     course_url instructor_name      instructor_url\n",
       "0  4715.0             Online Vegan Vegetarian Cooking School    True   24.99  Learn to cook delicious vegan recipes. Filmed over 15 years ago, watch the first 2hrs FREE to see if it's right for you.          2231.0       3.75       134.0         42.0         37.0              1268.0  2010-08-05T22:06:13Z       2020-11-06  Lifestyle      Food & Beverage  Vegan Cooking  English                       /course/vegan-vegetarian-cooking-school/     Angela Poch   /user/angelapoch/\n",
       "1  1769.0         The Lean Startup Talk at Stanford E-Corner   False     0.0                   \"Debunking Myths of Entrepreneurship A startup is not a \"\"doll house\"\" version of a larger enterprise.\"         26474.0        4.5       709.0        112.0          9.0                88.0  2010-01-12T18:09:46Z             None   Business     Entrepreneurship   Lean Startup  English  /course/the-lean-startup-debunking-myths-of-entrepreneurship/       Eric Ries     /user/ericries/\n",
       "2  5664.0  How To Become a Vegan, Vegetarian, or Flexitarian    True   19.99                          Get the tools you need for a lifestyle change that will bring you health and a clear conscience.          1713.0        4.4        41.0         13.0         14.0                82.0  2010-10-13T18:07:17Z       2019-10-09  Lifestyle      Other Lifestyle  Vegan Cooking  English    /course/see-my-personal-motivation-for-becoming-vegetarian/     Angela Poch   /user/angelapoch/\n",
       "3  7723.0                               How to Train a Puppy    True  199.99              Train your puppy the right way with Dr. Ian Dunbar. Includes 13 videos, 4 books, and 16 behavior blueprints.          4988.0        4.8       395.0         88.0         36.0              1511.0  2011-06-20T20:08:38Z       2016-01-13  Lifestyle  Pet Care & Training   Pet Training  English                            /course/complete-dunbar-collection/      Ian Dunbar   /user/ian-dunbar/\n",
       "4  8157.0                      Web Design from the Ground Up    True  159.99        Learn web design online: Everything you need to know about XHTML and CSS, the basic building blocks of web design.          1266.0       4.75        38.0         12.0         38.0               569.0  2011-06-23T18:31:20Z             None     Design           Web Design     Web Design  English                         /course/web-design-from-the-ground-up/  E Learning Lab  /user/edwin-ang-2/"
      ]
     },
     "execution_count": 75,
     "metadata": {},
     "output_type": "execute_result"
    }
   ],
   "source": [
    "description.head()"
   ]
  },
  {
   "cell_type": "code",
   "execution_count": 76,
   "id": "82f588bd",
   "metadata": {},
   "outputs": [
    {
     "data": {
      "text/html": [
       "<div>\n",
       "<style scoped>\n",
       "    .dataframe tbody tr th:only-of-type {\n",
       "        vertical-align: middle;\n",
       "    }\n",
       "\n",
       "    .dataframe tbody tr th {\n",
       "        vertical-align: top;\n",
       "    }\n",
       "\n",
       "    .dataframe thead th {\n",
       "        text-align: right;\n",
       "    }\n",
       "</style>\n",
       "<table border=\"1\" class=\"dataframe\">\n",
       "  <thead>\n",
       "    <tr style=\"text-align: right;\">\n",
       "      <th></th>\n",
       "      <th>id</th>\n",
       "      <th>content_length_min</th>\n",
       "    </tr>\n",
       "  </thead>\n",
       "  <tbody>\n",
       "    <tr>\n",
       "      <th>count</th>\n",
       "      <td>2.097340e+05</td>\n",
       "      <td>209733.000000</td>\n",
       "    </tr>\n",
       "    <tr>\n",
       "      <th>mean</th>\n",
       "      <td>3.015403e+06</td>\n",
       "      <td>265.409569</td>\n",
       "    </tr>\n",
       "    <tr>\n",
       "      <th>std</th>\n",
       "      <td>1.342558e+06</td>\n",
       "      <td>461.272831</td>\n",
       "    </tr>\n",
       "    <tr>\n",
       "      <th>min</th>\n",
       "      <td>1.769000e+03</td>\n",
       "      <td>0.000000</td>\n",
       "    </tr>\n",
       "    <tr>\n",
       "      <th>25%</th>\n",
       "      <td>1.950382e+06</td>\n",
       "      <td>68.000000</td>\n",
       "    </tr>\n",
       "    <tr>\n",
       "      <th>50%</th>\n",
       "      <td>3.292810e+06</td>\n",
       "      <td>133.000000</td>\n",
       "    </tr>\n",
       "    <tr>\n",
       "      <th>75%</th>\n",
       "      <td>4.189386e+06</td>\n",
       "      <td>289.000000</td>\n",
       "    </tr>\n",
       "    <tr>\n",
       "      <th>max</th>\n",
       "      <td>4.914146e+06</td>\n",
       "      <td>36899.000000</td>\n",
       "    </tr>\n",
       "  </tbody>\n",
       "</table>\n",
       "</div>"
      ],
      "text/plain": [
       "                 id  content_length_min\n",
       "count  2.097340e+05       209733.000000\n",
       "mean   3.015403e+06          265.409569\n",
       "std    1.342558e+06          461.272831\n",
       "min    1.769000e+03            0.000000\n",
       "25%    1.950382e+06           68.000000\n",
       "50%    3.292810e+06          133.000000\n",
       "75%    4.189386e+06          289.000000\n",
       "max    4.914146e+06        36899.000000"
      ]
     },
     "execution_count": 76,
     "metadata": {},
     "output_type": "execute_result"
    }
   ],
   "source": [
    "description.describe()"
   ]
  },
  {
   "cell_type": "code",
   "execution_count": 77,
   "id": "19e8d105",
   "metadata": {},
   "outputs": [
    {
     "name": "stderr",
     "output_type": "stream",
     "text": [
      "/home/rockhight/Documents/gitRepos/bigDataUdemyDataframe/koalas/venv/lib/python3.8/site-packages/databricks/koalas/internal.py:1430: FutureWarning:\n",
      "\n",
      "iteritems is deprecated and will be removed in a future version. Use .items instead.\n",
      "\n",
      "/home/rockhight/Documents/gitRepos/bigDataUdemyDataframe/koalas/venv/lib/python3.8/site-packages/databricks/koalas/internal.py:1356: FutureWarning:\n",
      "\n",
      "iteritems is deprecated and will be removed in a future version. Use .items instead.\n",
      "\n",
      "/home/rockhight/Documents/gitRepos/bigDataUdemyDataframe/koalas/venv/lib/python3.8/site-packages/pyspark/sql/pandas/conversion.py:486: FutureWarning:\n",
      "\n",
      "iteritems is deprecated and will be removed in a future version. Use .items instead.\n",
      "\n"
     ]
    },
    {
     "name": "stdout",
     "output_type": "stream",
     "text": [
      "23/01/02 04:20:19 WARN WindowExec: No Partition Defined for Window operation! Moving all data to a single partition, this can cause serious performance degradation.\n",
      "23/01/02 04:20:19 WARN WindowExec: No Partition Defined for Window operation! Moving all data to a single partition, this can cause serious performance degradation.\n",
      "23/01/02 04:20:19 WARN WindowExec: No Partition Defined for Window operation! Moving all data to a single partition, this can cause serious performance degradation.\n",
      "23/01/02 04:20:19 WARN WindowExec: No Partition Defined for Window operation! Moving all data to a single partition, this can cause serious performance degradation.\n",
      "<class 'databricks.koalas.frame.DataFrame'>\n",
      "Int64Index: 209734 entries, 0 to 209733\n",
      "Data columns (total 20 columns):\n",
      " #   Column              Non-Null Count   Dtype  \n",
      "---  ------              --------------   -----  \n",
      " 0   id                  209734 non-null  float64\n",
      " 1   title               209734 non-null  object \n",
      " 2   is_paid             209734 non-null  object \n",
      " 3   price               209734 non-null  object \n",
      " 4   headline            209707 non-null  object \n",
      " 5   num_subscribers     209734 non-null  object \n",
      " 6   avg_rating          209734 non-null  object \n",
      " 7   num_reviews         209734 non-null  object \n",
      " 8   num_comments        209733 non-null  object \n",
      " 9   num_lectures        209733 non-null  object \n",
      " 10  content_length_min  209733 non-null  float64\n",
      " 11  published_time      209733 non-null  object \n",
      " 12  last_update_date    209596 non-null  object \n",
      " 13  category            209733 non-null  object \n",
      " 14  subcategory         209733 non-null  object \n",
      " 15  topic               208775 non-null  object \n",
      " 16  language            209733 non-null  object \n",
      " 17  course_url          209733 non-null  object \n",
      " 18  instructor_name     209728 non-null  object \n",
      " 19  instructor_url      209306 non-null  object \n",
      "dtypes: float64(2), object(18)"
     ]
    }
   ],
   "source": [
    "description.info()"
   ]
  },
  {
   "cell_type": "code",
   "execution_count": 78,
   "id": "19072985",
   "metadata": {},
   "outputs": [
    {
     "name": "stdout",
     "output_type": "stream",
     "text": [
      "0:00:00.236774\n"
     ]
    }
   ],
   "source": [
    "# change the dataframe data type\n",
    "prev = datetime.datetime.now()\n",
    "description['num_subscribers'] = description['num_subscribers'].astype('int64')\n",
    "description['num_reviews'] = description['num_reviews'].astype('int64')\n",
    "description['num_comments'] = description['num_comments'].astype('int64')\n",
    "description['num_lectures'] = description['num_lectures'].astype('int64')\n",
    "description['num_reviews'] = description['num_reviews'].astype('int64')\n",
    "now = datetime.datetime.now()\n",
    "print(now - prev)"
   ]
  },
  {
   "cell_type": "code",
   "execution_count": 79,
   "id": "14dab78d",
   "metadata": {},
   "outputs": [],
   "source": [
    "import pyspark.pandas as ps"
   ]
  },
  {
   "cell_type": "code",
   "execution_count": 80,
   "id": "a67365be",
   "metadata": {},
   "outputs": [
    {
     "name": "stderr",
     "output_type": "stream",
     "text": [
      "/home/rockhight/Documents/gitRepos/bigDataUdemyDataframe/koalas/venv/lib/python3.8/site-packages/databricks/koalas/internal.py:1430: FutureWarning:\n",
      "\n",
      "iteritems is deprecated and will be removed in a future version. Use .items instead.\n",
      "\n",
      "/home/rockhight/Documents/gitRepos/bigDataUdemyDataframe/koalas/venv/lib/python3.8/site-packages/databricks/koalas/internal.py:1356: FutureWarning:\n",
      "\n",
      "iteritems is deprecated and will be removed in a future version. Use .items instead.\n",
      "\n",
      "/home/rockhight/Documents/gitRepos/bigDataUdemyDataframe/koalas/venv/lib/python3.8/site-packages/pyspark/sql/pandas/conversion.py:486: FutureWarning:\n",
      "\n",
      "iteritems is deprecated and will be removed in a future version. Use .items instead.\n",
      "\n"
     ]
    },
    {
     "name": "stdout",
     "output_type": "stream",
     "text": [
      "23/01/02 04:20:20 WARN WindowExec: No Partition Defined for Window operation! Moving all data to a single partition, this can cause serious performance degradation.\n",
      "23/01/02 04:20:20 WARN WindowExec: No Partition Defined for Window operation! Moving all data to a single partition, this can cause serious performance degradation.\n",
      "23/01/02 04:20:20 WARN WindowExec: No Partition Defined for Window operation! Moving all data to a single partition, this can cause serious performance degradation.\n",
      "23/01/02 04:20:20 WARN WindowExec: No Partition Defined for Window operation! Moving all data to a single partition, this can cause serious performance degradation.\n",
      "<class 'databricks.koalas.frame.DataFrame'>\n",
      "Int64Index: 209734 entries, 0 to 209733\n",
      "Data columns (total 20 columns):\n",
      " #   Column              Non-Null Count   Dtype  \n",
      "---  ------              --------------   -----  \n",
      " 0   id                  209734 non-null  float64\n",
      " 1   title               209734 non-null  object \n",
      " 2   is_paid             209734 non-null  object \n",
      " 3   price               209734 non-null  object \n",
      " 4   headline            209707 non-null  object \n",
      " 5   num_subscribers     209440 non-null  int64  \n",
      " 6   avg_rating          209734 non-null  object \n",
      " 7   num_reviews         209687 non-null  int64  \n",
      " 8   num_comments        209715 non-null  int64  \n",
      " 9   num_lectures        209729 non-null  int64  \n",
      " 10  content_length_min  209733 non-null  float64\n",
      " 11  published_time      209733 non-null  object \n",
      " 12  last_update_date    209596 non-null  object \n",
      " 13  category            209733 non-null  object \n",
      " 14  subcategory         209733 non-null  object \n",
      " 15  topic               208775 non-null  object \n",
      " 16  language            209733 non-null  object \n",
      " 17  course_url          209733 non-null  object \n",
      " 18  instructor_name     209728 non-null  object \n",
      " 19  instructor_url      209306 non-null  object \n",
      "dtypes: float64(2), int64(4), object(14)"
     ]
    }
   ],
   "source": [
    "description.info()"
   ]
  },
  {
   "cell_type": "code",
   "execution_count": 81,
   "id": "7a6993e0",
   "metadata": {},
   "outputs": [],
   "source": [
    "def get_instructor_username(instructor_url):\n",
    "\treturn str(instructor_url)[6:-2]"
   ]
  },
  {
   "cell_type": "code",
   "execution_count": 82,
   "id": "ddb42668",
   "metadata": {},
   "outputs": [
    {
     "name": "stdout",
     "output_type": "stream",
     "text": [
      "23/01/02 04:20:21 WARN WindowExec: No Partition Defined for Window operation! Moving all data to a single partition, this can cause serious performance degradation.\n",
      "23/01/02 04:20:21 WARN WindowExec: No Partition Defined for Window operation! Moving all data to a single partition, this can cause serious performance degradation.\n",
      "23/01/02 04:20:21 WARN WindowExec: No Partition Defined for Window operation! Moving all data to a single partition, this can cause serious performance degradation.\n"
     ]
    },
    {
     "name": "stderr",
     "output_type": "stream",
     "text": [
      "/home/rockhight/Documents/gitRepos/bigDataUdemyDataframe/koalas/venv/lib/python3.8/site-packages/databricks/koalas/internal.py:1430: FutureWarning:\n",
      "\n",
      "iteritems is deprecated and will be removed in a future version. Use .items instead.\n",
      "\n",
      "/home/rockhight/Documents/gitRepos/bigDataUdemyDataframe/koalas/venv/lib/python3.8/site-packages/databricks/koalas/internal.py:1356: FutureWarning:\n",
      "\n",
      "iteritems is deprecated and will be removed in a future version. Use .items instead.\n",
      "\n",
      "/home/rockhight/Documents/gitRepos/bigDataUdemyDataframe/koalas/venv/lib/python3.8/site-packages/pyspark/sql/pandas/conversion.py:486: FutureWarning:\n",
      "\n",
      "iteritems is deprecated and will be removed in a future version. Use .items instead.\n",
      "\n",
      "/home/rockhight/Documents/gitRepos/bigDataUdemyDataframe/koalas/venv/lib/python3.8/site-packages/pyspark/sql/pandas/functions.py:394: UserWarning:\n",
      "\n",
      "In Python 3.6+ and Spark 3.0+, it is preferred to specify type hints for pandas UDF instead of specifying pandas UDF type which will be deprecated in the future releases. See SPARK-28264 for more details.\n",
      "\n"
     ]
    }
   ],
   "source": [
    "description['instructor_url'] = description['instructor_url'].map(get_instructor_username)"
   ]
  },
  {
   "cell_type": "code",
   "execution_count": 83,
   "id": "34a85ffd",
   "metadata": {},
   "outputs": [],
   "source": [
    "def get_curse_name(course_url):\n",
    "\treturn str(course_url)[8:-1]"
   ]
  },
  {
   "cell_type": "code",
   "execution_count": 84,
   "id": "7497a2f2",
   "metadata": {},
   "outputs": [
    {
     "name": "stdout",
     "output_type": "stream",
     "text": [
      "23/01/02 04:20:21 WARN WindowExec: No Partition Defined for Window operation! Moving all data to a single partition, this can cause serious performance degradation.\n",
      "23/01/02 04:20:21 WARN WindowExec: No Partition Defined for Window operation! Moving all data to a single partition, this can cause serious performance degradation.\n",
      "23/01/02 04:20:21 WARN WindowExec: No Partition Defined for Window operation! Moving all data to a single partition, this can cause serious performance degradation.\n"
     ]
    },
    {
     "name": "stderr",
     "output_type": "stream",
     "text": [
      "/home/rockhight/Documents/gitRepos/bigDataUdemyDataframe/koalas/venv/lib/python3.8/site-packages/databricks/koalas/internal.py:1430: FutureWarning:\n",
      "\n",
      "iteritems is deprecated and will be removed in a future version. Use .items instead.\n",
      "\n",
      "/home/rockhight/Documents/gitRepos/bigDataUdemyDataframe/koalas/venv/lib/python3.8/site-packages/databricks/koalas/internal.py:1356: FutureWarning:\n",
      "\n",
      "iteritems is deprecated and will be removed in a future version. Use .items instead.\n",
      "\n",
      "/home/rockhight/Documents/gitRepos/bigDataUdemyDataframe/koalas/venv/lib/python3.8/site-packages/pyspark/sql/pandas/conversion.py:486: FutureWarning:\n",
      "\n",
      "iteritems is deprecated and will be removed in a future version. Use .items instead.\n",
      "\n",
      "/home/rockhight/Documents/gitRepos/bigDataUdemyDataframe/koalas/venv/lib/python3.8/site-packages/pyspark/sql/pandas/functions.py:394: UserWarning:\n",
      "\n",
      "In Python 3.6+ and Spark 3.0+, it is preferred to specify type hints for pandas UDF instead of specifying pandas UDF type which will be deprecated in the future releases. See SPARK-28264 for more details.\n",
      "\n"
     ]
    }
   ],
   "source": [
    "description['course_url'] = description['course_url'].map(get_curse_name)"
   ]
  },
  {
   "cell_type": "code",
   "execution_count": 85,
   "id": "f4563c2e",
   "metadata": {},
   "outputs": [],
   "source": [
    "description.rename(columns={'instructor_url':'instructor_username'},inplace=True)"
   ]
  },
  {
   "cell_type": "code",
   "execution_count": 86,
   "id": "84f5af08",
   "metadata": {},
   "outputs": [],
   "source": [
    "description.rename(columns={'course_url':'course_name'},inplace=True)"
   ]
  },
  {
   "cell_type": "code",
   "execution_count": 87,
   "id": "d42bb3fd",
   "metadata": {},
   "outputs": [],
   "source": [
    "english_dataframe = description[description['language'] == 'English']"
   ]
  },
  {
   "cell_type": "code",
   "execution_count": 88,
   "id": "02510725",
   "metadata": {},
   "outputs": [
    {
     "name": "stdout",
     "output_type": "stream",
     "text": [
      "23/01/02 04:20:22 WARN WindowExec: No Partition Defined for Window operation! Moving all data to a single partition, this can cause serious performance degradation.\n",
      "23/01/02 04:20:22 WARN WindowExec: No Partition Defined for Window operation! Moving all data to a single partition, this can cause serious performance degradation.\n",
      "23/01/02 04:20:22 WARN WindowExec: No Partition Defined for Window operation! Moving all data to a single partition, this can cause serious performance degradation.\n",
      "23/01/02 04:20:22 WARN WindowExec: No Partition Defined for Window operation! Moving all data to a single partition, this can cause serious performance degradation.\n"
     ]
    },
    {
     "name": "stderr",
     "output_type": "stream",
     "text": [
      "/home/rockhight/Documents/gitRepos/bigDataUdemyDataframe/koalas/venv/lib/python3.8/site-packages/databricks/koalas/internal.py:1430: FutureWarning: iteritems is deprecated and will be removed in a future version. Use .items instead.\n",
      "  for name, col in reset_index.iteritems():\n",
      "/home/rockhight/Documents/gitRepos/bigDataUdemyDataframe/koalas/venv/lib/python3.8/site-packages/databricks/koalas/internal.py:1430: FutureWarning: iteritems is deprecated and will be removed in a future version. Use .items instead.\n",
      "  for name, col in reset_index.iteritems():\n",
      "/home/rockhight/Documents/gitRepos/bigDataUdemyDataframe/koalas/venv/lib/python3.8/site-packages/databricks/koalas/internal.py:1430: FutureWarning: iteritems is deprecated and will be removed in a future version. Use .items instead.\n",
      "  for name, col in reset_index.iteritems():\n",
      "/home/rockhight/Documents/gitRepos/bigDataUdemyDataframe/koalas/venv/lib/python3.8/site-packages/databricks/koalas/internal.py:1430: FutureWarning: iteritems is deprecated and will be removed in a future version. Use .items instead.\n",
      "  for name, col in reset_index.iteritems():\n",
      "/home/rockhight/Documents/gitRepos/bigDataUdemyDataframe/koalas/venv/lib/python3.8/site-packages/databricks/koalas/internal.py:1430: FutureWarning: iteritems is deprecated and will be removed in a future version. Use .items instead.\n",
      "  for name, col in reset_index.iteritems():\n",
      "/home/rockhight/Documents/gitRepos/bigDataUdemyDataframe/koalas/venv/lib/python3.8/site-packages/databricks/koalas/internal.py:1430: FutureWarning: iteritems is deprecated and will be removed in a future version. Use .items instead.\n",
      "  for name, col in reset_index.iteritems():\n",
      "/home/rockhight/Documents/gitRepos/bigDataUdemyDataframe/koalas/venv/lib/python3.8/site-packages/databricks/koalas/internal.py:1430: FutureWarning: iteritems is deprecated and will be removed in a future version. Use .items instead.\n",
      "  for name, col in reset_index.iteritems():\n",
      "/home/rockhight/Documents/gitRepos/bigDataUdemyDataframe/koalas/venv/lib/python3.8/site-packages/databricks/koalas/internal.py:1430: FutureWarning: iteritems is deprecated and will be removed in a future version. Use .items instead.\n",
      "  for name, col in reset_index.iteritems():\n",
      "/home/rockhight/Documents/gitRepos/bigDataUdemyDataframe/koalas/venv/lib/python3.8/site-packages/databricks/koalas/internal.py:1430: FutureWarning: iteritems is deprecated and will be removed in a future version. Use .items instead.\n",
      "  for name, col in reset_index.iteritems():\n",
      "/home/rockhight/Documents/gitRepos/bigDataUdemyDataframe/koalas/venv/lib/python3.8/site-packages/databricks/koalas/internal.py:1430: FutureWarning: iteritems is deprecated and will be removed in a future version. Use .items instead.\n",
      "  for name, col in reset_index.iteritems():\n",
      "/home/rockhight/Documents/gitRepos/bigDataUdemyDataframe/koalas/venv/lib/python3.8/site-packages/databricks/koalas/internal.py:1430: FutureWarning: iteritems is deprecated and will be removed in a future version. Use .items instead.\n",
      "  for name, col in reset_index.iteritems():\n",
      "/home/rockhight/Documents/gitRepos/bigDataUdemyDataframe/koalas/venv/lib/python3.8/site-packages/databricks/koalas/internal.py:1430: FutureWarning: iteritems is deprecated and will be removed in a future version. Use .items instead.\n",
      "  for name, col in reset_index.iteritems():\n",
      "/home/rockhight/Documents/gitRepos/bigDataUdemyDataframe/koalas/venv/lib/python3.8/site-packages/databricks/koalas/internal.py:1430: FutureWarning: iteritems is deprecated and will be removed in a future version. Use .items instead.\n",
      "  for name, col in reset_index.iteritems():\n",
      "/home/rockhight/Documents/gitRepos/bigDataUdemyDataframe/koalas/venv/lib/python3.8/site-packages/databricks/koalas/internal.py:1430: FutureWarning: iteritems is deprecated and will be removed in a future version. Use .items instead.\n",
      "  for name, col in reset_index.iteritems():\n",
      "/home/rockhight/Documents/gitRepos/bigDataUdemyDataframe/koalas/venv/lib/python3.8/site-packages/databricks/koalas/internal.py:1430: FutureWarning: iteritems is deprecated and will be removed in a future version. Use .items instead.\n",
      "  for name, col in reset_index.iteritems():\n",
      "/home/rockhight/Documents/gitRepos/bigDataUdemyDataframe/koalas/venv/lib/python3.8/site-packages/databricks/koalas/internal.py:1430: FutureWarning: iteritems is deprecated and will be removed in a future version. Use .items instead.\n",
      "  for name, col in reset_index.iteritems():\n",
      "/home/rockhight/Documents/gitRepos/bigDataUdemyDataframe/koalas/venv/lib/python3.8/site-packages/databricks/koalas/internal.py:1430: FutureWarning: iteritems is deprecated and will be removed in a future version. Use .items instead.\n",
      "  for name, col in reset_index.iteritems():\n",
      "/home/rockhight/Documents/gitRepos/bigDataUdemyDataframe/koalas/venv/lib/python3.8/site-packages/databricks/koalas/internal.py:1430: FutureWarning: iteritems is deprecated and will be removed in a future version. Use .items instead.\n",
      "  for name, col in reset_index.iteritems():\n",
      "/home/rockhight/Documents/gitRepos/bigDataUdemyDataframe/koalas/venv/lib/python3.8/site-packages/databricks/koalas/internal.py:1430: FutureWarning: iteritems is deprecated and will be removed in a future version. Use .items instead.\n",
      "  for name, col in reset_index.iteritems():\n",
      "/home/rockhight/Documents/gitRepos/bigDataUdemyDataframe/koalas/venv/lib/python3.8/site-packages/databricks/koalas/internal.py:1430: FutureWarning: iteritems is deprecated and will be removed in a future version. Use .items instead.\n",
      "  for name, col in reset_index.iteritems():\n",
      "/home/rockhight/Documents/gitRepos/bigDataUdemyDataframe/koalas/venv/lib/python3.8/site-packages/databricks/koalas/internal.py:1430: FutureWarning: iteritems is deprecated and will be removed in a future version. Use .items instead.\n",
      "  for name, col in reset_index.iteritems():\n",
      "/home/rockhight/Documents/gitRepos/bigDataUdemyDataframe/koalas/venv/lib/python3.8/site-packages/databricks/koalas/internal.py:1430: FutureWarning: iteritems is deprecated and will be removed in a future version. Use .items instead.\n",
      "  for name, col in reset_index.iteritems():\n",
      "/home/rockhight/Documents/gitRepos/bigDataUdemyDataframe/koalas/venv/lib/python3.8/site-packages/databricks/koalas/internal.py:1430: FutureWarning: iteritems is deprecated and will be removed in a future version. Use .items instead.\n",
      "  for name, col in reset_index.iteritems():\n",
      "/home/rockhight/Documents/gitRepos/bigDataUdemyDataframe/koalas/venv/lib/python3.8/site-packages/databricks/koalas/internal.py:1430: FutureWarning: iteritems is deprecated and will be removed in a future version. Use .items instead.\n",
      "  for name, col in reset_index.iteritems():\n",
      "/home/rockhight/Documents/gitRepos/bigDataUdemyDataframe/koalas/venv/lib/python3.8/site-packages/databricks/koalas/internal.py:1430: FutureWarning: iteritems is deprecated and will be removed in a future version. Use .items instead.\n",
      "  for name, col in reset_index.iteritems():\n",
      "/home/rockhight/Documents/gitRepos/bigDataUdemyDataframe/koalas/venv/lib/python3.8/site-packages/databricks/koalas/internal.py:1430: FutureWarning: iteritems is deprecated and will be removed in a future version. Use .items instead.\n",
      "  for name, col in reset_index.iteritems():\n",
      "/home/rockhight/Documents/gitRepos/bigDataUdemyDataframe/koalas/venv/lib/python3.8/site-packages/databricks/koalas/internal.py:1430: FutureWarning:\n",
      "\n",
      "iteritems is deprecated and will be removed in a future version. Use .items instead.\n",
      "\n",
      "/home/rockhight/Documents/gitRepos/bigDataUdemyDataframe/koalas/venv/lib/python3.8/site-packages/databricks/koalas/internal.py:1356: FutureWarning:\n",
      "\n",
      "iteritems is deprecated and will be removed in a future version. Use .items instead.\n",
      "\n",
      "/home/rockhight/Documents/gitRepos/bigDataUdemyDataframe/koalas/venv/lib/python3.8/site-packages/pyspark/sql/pandas/conversion.py:486: FutureWarning:\n",
      "\n",
      "iteritems is deprecated and will be removed in a future version. Use .items instead.\n",
      "\n"
     ]
    },
    {
     "name": "stdout",
     "output_type": "stream",
     "text": [
      "23/01/02 04:20:23 WARN WindowExec: No Partition Defined for Window operation! Moving all data to a single partition, this can cause serious performance degradation.\n",
      "23/01/02 04:20:23 WARN WindowExec: No Partition Defined for Window operation! Moving all data to a single partition, this can cause serious performance degradation.\n",
      "23/01/02 04:20:23 WARN WindowExec: No Partition Defined for Window operation! Moving all data to a single partition, this can cause serious performance degradation.\n",
      "23/01/02 04:20:23 WARN WindowExec: No Partition Defined for Window operation! Moving all data to a single partition, this can cause serious performance degradation.\n",
      "<class 'databricks.koalas.frame.DataFrame'>\n",
      "Int64Index: 123758 entries, 0 to 209733\n",
      "Data columns (total 20 columns):\n",
      " #   Column               Non-Null Count   Dtype  \n",
      "---  ------               --------------   -----  \n",
      " 0   id                   123758 non-null  float64\n",
      " 1   title                123758 non-null  object \n",
      " 2   is_paid              123758 non-null  object \n",
      " 3   price                123758 non-null  object \n",
      " 4   headline             123742 non-null  object \n",
      " 5   num_subscribers      123758 non-null  int64  \n",
      " 6   avg_rating           123758 non-null  object \n",
      " 7   num_reviews          123758 non-null  int64  \n",
      " 8   num_comments         123758 non-null  int64  \n",
      " 9   num_lectures         123758 non-null  int64  \n",
      " 10  content_length_min   123758 non-null  float64\n",
      " 11  published_time       123758 non-null  object \n",
      " 12  last_update_date     123631 non-null  object \n",
      " 13  category             123758 non-null  object \n",
      " 14  subcategory          123758 non-null  object \n",
      " 15  topic                123208 non-null  object \n",
      " 16  language             123758 non-null  object \n",
      " 17  course_name          123758 non-null  object \n",
      " 18  instructor_name      123755 non-null  object \n",
      " 19  instructor_username  123758 non-null  object \n",
      "dtypes: float64(2), int64(4), object(14)"
     ]
    }
   ],
   "source": [
    "english_dataframe.info()"
   ]
  },
  {
   "cell_type": "code",
   "execution_count": 89,
   "id": "bf3a03f8",
   "metadata": {},
   "outputs": [],
   "source": [
    "instructors_df = english_dataframe.groupby(['instructor_username','instructor_name']).agg({'num_subscribers':'mean','avg_rating':'mean','price':'mean'})\n",
    "\n"
   ]
  },
  {
   "cell_type": "code",
   "execution_count": 90,
   "id": "b633a8b4",
   "metadata": {},
   "outputs": [],
   "source": [
    "instructors_df.reset_index(inplace=True)"
   ]
  },
  {
   "cell_type": "code",
   "execution_count": 91,
   "id": "c7d6575d",
   "metadata": {},
   "outputs": [],
   "source": [
    "instructors_df = instructors_df.rename(columns={'instructor_username':'username','instructor_name':'name','num_subscribers':'avg_num_subscribers','price':'avg_price'})"
   ]
  },
  {
   "cell_type": "code",
   "execution_count": 92,
   "id": "7c2d22b7",
   "metadata": {},
   "outputs": [],
   "source": [
    "def getFirstName(name):\n",
    "\tif name is None:\n",
    "\t\treturn \"None\"\n",
    "\tsname = name.split()\n",
    "\tprefix = ['mr.','mrs.','ms.','dr.','prof.','sr.','jr.','.',',','mr','mrs','ms','dr','prof','sr','jr']\n",
    "\tfor i in range(len(sname)):\n",
    "\t\tsname[i] = sname[i].lower()\n",
    "\tif len(sname) > 0 and sname[0] not in prefix:\n",
    "\t\treturn sname[0]\n",
    "\telif len(sname) > 1 and sname[1] not in prefix:\n",
    "\t\treturn sname[1]\n",
    "\telif len(sname) > 2 and sname[2] not in prefix:\n",
    "\t\treturn sname[2]"
   ]
  },
  {
   "cell_type": "code",
   "execution_count": 93,
   "id": "a423e9e8",
   "metadata": {},
   "outputs": [
    {
     "name": "stdout",
     "output_type": "stream",
     "text": [
      "23/01/02 04:20:23 WARN WindowExec: No Partition Defined for Window operation! Moving all data to a single partition, this can cause serious performance degradation.\n",
      "23/01/02 04:20:23 WARN WindowExec: No Partition Defined for Window operation! Moving all data to a single partition, this can cause serious performance degradation.\n",
      "23/01/02 04:20:23 WARN WindowExec: No Partition Defined for Window operation! Moving all data to a single partition, this can cause serious performance degradation.\n",
      "23/01/02 04:20:23 WARN WindowExec: No Partition Defined for Window operation! Moving all data to a single partition, this can cause serious performance degradation.\n",
      "23/01/02 04:20:23 WARN WindowExec: No Partition Defined for Window operation! Moving all data to a single partition, this can cause serious performance degradation.\n",
      "23/01/02 04:20:23 WARN WindowExec: No Partition Defined for Window operation! Moving all data to a single partition, this can cause serious performance degradation.\n",
      "23/01/02 04:20:23 WARN WindowExec: No Partition Defined for Window operation! Moving all data to a single partition, this can cause serious performance degradation.\n",
      "23/01/02 04:20:23 WARN WindowExec: No Partition Defined for Window operation! Moving all data to a single partition, this can cause serious performance degradation.\n",
      "23/01/02 04:20:23 WARN WindowExec: No Partition Defined for Window operation! Moving all data to a single partition, this can cause serious performance degradation.\n"
     ]
    },
    {
     "name": "stderr",
     "output_type": "stream",
     "text": [
      "/home/rockhight/Documents/gitRepos/bigDataUdemyDataframe/koalas/venv/lib/python3.8/site-packages/databricks/koalas/internal.py:1430: FutureWarning: iteritems is deprecated and will be removed in a future version. Use .items instead.\n",
      "  for name, col in reset_index.iteritems():\n",
      "/home/rockhight/Documents/gitRepos/bigDataUdemyDataframe/koalas/venv/lib/python3.8/site-packages/databricks/koalas/internal.py:1430: FutureWarning: iteritems is deprecated and will be removed in a future version. Use .items instead.\n",
      "  for name, col in reset_index.iteritems():\n",
      "/home/rockhight/Documents/gitRepos/bigDataUdemyDataframe/koalas/venv/lib/python3.8/site-packages/databricks/koalas/internal.py:1430: FutureWarning: iteritems is deprecated and will be removed in a future version. Use .items instead.\n",
      "  for name, col in reset_index.iteritems():\n",
      "/home/rockhight/Documents/gitRepos/bigDataUdemyDataframe/koalas/venv/lib/python3.8/site-packages/databricks/koalas/internal.py:1430: FutureWarning: iteritems is deprecated and will be removed in a future version. Use .items instead.\n",
      "  for name, col in reset_index.iteritems():\n",
      "/home/rockhight/Documents/gitRepos/bigDataUdemyDataframe/koalas/venv/lib/python3.8/site-packages/databricks/koalas/internal.py:1430: FutureWarning: iteritems is deprecated and will be removed in a future version. Use .items instead.\n",
      "  for name, col in reset_index.iteritems():\n",
      "/home/rockhight/Documents/gitRepos/bigDataUdemyDataframe/koalas/venv/lib/python3.8/site-packages/databricks/koalas/internal.py:1430: FutureWarning: iteritems is deprecated and will be removed in a future version. Use .items instead.\n",
      "  for name, col in reset_index.iteritems():\n",
      "/home/rockhight/Documents/gitRepos/bigDataUdemyDataframe/koalas/venv/lib/python3.8/site-packages/databricks/koalas/internal.py:1430: FutureWarning: iteritems is deprecated and will be removed in a future version. Use .items instead.\n",
      "  for name, col in reset_index.iteritems():\n",
      "/home/rockhight/Documents/gitRepos/bigDataUdemyDataframe/koalas/venv/lib/python3.8/site-packages/databricks/koalas/internal.py:1430: FutureWarning: iteritems is deprecated and will be removed in a future version. Use .items instead.\n",
      "  for name, col in reset_index.iteritems():\n",
      "/home/rockhight/Documents/gitRepos/bigDataUdemyDataframe/koalas/venv/lib/python3.8/site-packages/databricks/koalas/internal.py:1430: FutureWarning: iteritems is deprecated and will be removed in a future version. Use .items instead.\n",
      "  for name, col in reset_index.iteritems():\n",
      "/home/rockhight/Documents/gitRepos/bigDataUdemyDataframe/koalas/venv/lib/python3.8/site-packages/databricks/koalas/internal.py:1430: FutureWarning: iteritems is deprecated and will be removed in a future version. Use .items instead.\n",
      "  for name, col in reset_index.iteritems():\n",
      "/home/rockhight/Documents/gitRepos/bigDataUdemyDataframe/koalas/venv/lib/python3.8/site-packages/databricks/koalas/internal.py:1430: FutureWarning: iteritems is deprecated and will be removed in a future version. Use .items instead.\n",
      "  for name, col in reset_index.iteritems():\n",
      "/home/rockhight/Documents/gitRepos/bigDataUdemyDataframe/koalas/venv/lib/python3.8/site-packages/databricks/koalas/internal.py:1430: FutureWarning: iteritems is deprecated and will be removed in a future version. Use .items instead.\n",
      "  for name, col in reset_index.iteritems():\n",
      "/home/rockhight/Documents/gitRepos/bigDataUdemyDataframe/koalas/venv/lib/python3.8/site-packages/databricks/koalas/internal.py:1430: FutureWarning: iteritems is deprecated and will be removed in a future version. Use .items instead.\n",
      "  for name, col in reset_index.iteritems():\n",
      "/home/rockhight/Documents/gitRepos/bigDataUdemyDataframe/koalas/venv/lib/python3.8/site-packages/databricks/koalas/internal.py:1430: FutureWarning: iteritems is deprecated and will be removed in a future version. Use .items instead.\n",
      "  for name, col in reset_index.iteritems():\n",
      "/home/rockhight/Documents/gitRepos/bigDataUdemyDataframe/koalas/venv/lib/python3.8/site-packages/databricks/koalas/internal.py:1430: FutureWarning: iteritems is deprecated and will be removed in a future version. Use .items instead.\n",
      "  for name, col in reset_index.iteritems():\n",
      "/home/rockhight/Documents/gitRepos/bigDataUdemyDataframe/koalas/venv/lib/python3.8/site-packages/databricks/koalas/internal.py:1430: FutureWarning: iteritems is deprecated and will be removed in a future version. Use .items instead.\n",
      "  for name, col in reset_index.iteritems():\n",
      "/home/rockhight/Documents/gitRepos/bigDataUdemyDataframe/koalas/venv/lib/python3.8/site-packages/databricks/koalas/internal.py:1430: FutureWarning: iteritems is deprecated and will be removed in a future version. Use .items instead.\n",
      "  for name, col in reset_index.iteritems():\n",
      "/home/rockhight/Documents/gitRepos/bigDataUdemyDataframe/koalas/venv/lib/python3.8/site-packages/databricks/koalas/internal.py:1430: FutureWarning: iteritems is deprecated and will be removed in a future version. Use .items instead.\n",
      "  for name, col in reset_index.iteritems():\n",
      "/home/rockhight/Documents/gitRepos/bigDataUdemyDataframe/koalas/venv/lib/python3.8/site-packages/databricks/koalas/internal.py:1430: FutureWarning: iteritems is deprecated and will be removed in a future version. Use .items instead.\n",
      "  for name, col in reset_index.iteritems():\n",
      "/home/rockhight/Documents/gitRepos/bigDataUdemyDataframe/koalas/venv/lib/python3.8/site-packages/databricks/koalas/internal.py:1430: FutureWarning: iteritems is deprecated and will be removed in a future version. Use .items instead.\n",
      "  for name, col in reset_index.iteritems():\n",
      "/home/rockhight/Documents/gitRepos/bigDataUdemyDataframe/koalas/venv/lib/python3.8/site-packages/databricks/koalas/internal.py:1430: FutureWarning: iteritems is deprecated and will be removed in a future version. Use .items instead.\n",
      "  for name, col in reset_index.iteritems():\n",
      "/home/rockhight/Documents/gitRepos/bigDataUdemyDataframe/koalas/venv/lib/python3.8/site-packages/databricks/koalas/internal.py:1430: FutureWarning: iteritems is deprecated and will be removed in a future version. Use .items instead.\n",
      "  for name, col in reset_index.iteritems():\n",
      "/home/rockhight/Documents/gitRepos/bigDataUdemyDataframe/koalas/venv/lib/python3.8/site-packages/databricks/koalas/internal.py:1430: FutureWarning: iteritems is deprecated and will be removed in a future version. Use .items instead.\n",
      "  for name, col in reset_index.iteritems():\n",
      "/home/rockhight/Documents/gitRepos/bigDataUdemyDataframe/koalas/venv/lib/python3.8/site-packages/databricks/koalas/internal.py:1430: FutureWarning: iteritems is deprecated and will be removed in a future version. Use .items instead.\n",
      "  for name, col in reset_index.iteritems():\n",
      "/home/rockhight/Documents/gitRepos/bigDataUdemyDataframe/koalas/venv/lib/python3.8/site-packages/databricks/koalas/internal.py:1430: FutureWarning: iteritems is deprecated and will be removed in a future version. Use .items instead.\n",
      "  for name, col in reset_index.iteritems():\n",
      "/home/rockhight/Documents/gitRepos/bigDataUdemyDataframe/koalas/venv/lib/python3.8/site-packages/databricks/koalas/internal.py:1430: FutureWarning: iteritems is deprecated and will be removed in a future version. Use .items instead.\n",
      "  for name, col in reset_index.iteritems():\n"
     ]
    },
    {
     "name": "stdout",
     "output_type": "stream",
     "text": [
      "23/01/02 04:20:24 WARN WindowExec: No Partition Defined for Window operation! Moving all data to a single partition, this can cause serious performance degradation.\n",
      "23/01/02 04:20:24 WARN WindowExec: No Partition Defined for Window operation! Moving all data to a single partition, this can cause serious performance degradation.\n",
      "23/01/02 04:20:24 WARN WindowExec: No Partition Defined for Window operation! Moving all data to a single partition, this can cause serious performance degradation.\n"
     ]
    },
    {
     "name": "stderr",
     "output_type": "stream",
     "text": [
      "/home/rockhight/Documents/gitRepos/bigDataUdemyDataframe/koalas/venv/lib/python3.8/site-packages/databricks/koalas/internal.py:1430: FutureWarning:\n",
      "\n",
      "iteritems is deprecated and will be removed in a future version. Use .items instead.\n",
      "\n",
      "/home/rockhight/Documents/gitRepos/bigDataUdemyDataframe/koalas/venv/lib/python3.8/site-packages/databricks/koalas/internal.py:1356: FutureWarning:\n",
      "\n",
      "iteritems is deprecated and will be removed in a future version. Use .items instead.\n",
      "\n",
      "/home/rockhight/Documents/gitRepos/bigDataUdemyDataframe/koalas/venv/lib/python3.8/site-packages/pyspark/sql/pandas/conversion.py:486: FutureWarning:\n",
      "\n",
      "iteritems is deprecated and will be removed in a future version. Use .items instead.\n",
      "\n",
      "/home/rockhight/Documents/gitRepos/bigDataUdemyDataframe/koalas/venv/lib/python3.8/site-packages/pyspark/sql/pandas/functions.py:394: UserWarning:\n",
      "\n",
      "In Python 3.6+ and Spark 3.0+, it is preferred to specify type hints for pandas UDF instead of specifying pandas UDF type which will be deprecated in the future releases. See SPARK-28264 for more details.\n",
      "\n"
     ]
    }
   ],
   "source": [
    "instructors_df['name']= instructors_df['name'].map(getFirstName)"
   ]
  },
  {
   "cell_type": "code",
   "execution_count": 94,
   "id": "412c66ee",
   "metadata": {},
   "outputs": [
    {
     "name": "stdout",
     "output_type": "stream",
     "text": [
      "23/01/02 04:20:24 WARN WindowExec: No Partition Defined for Window operation! Moving all data to a single partition, this can cause serious performance degradation.\n",
      "23/01/02 04:20:24 WARN WindowExec: No Partition Defined for Window operation! Moving all data to a single partition, this can cause serious performance degradation.\n",
      "23/01/02 04:20:24 WARN WindowExec: No Partition Defined for Window operation! Moving all data to a single partition, this can cause serious performance degradation.\n",
      "23/01/02 04:20:24 WARN WindowExec: No Partition Defined for Window operation! Moving all data to a single partition, this can cause serious performance degradation.\n",
      "23/01/02 04:20:24 WARN WindowExec: No Partition Defined for Window operation! Moving all data to a single partition, this can cause serious performance degradation.\n",
      "23/01/02 04:20:24 WARN WindowExec: No Partition Defined for Window operation! Moving all data to a single partition, this can cause serious performance degradation.\n",
      "23/01/02 04:20:24 WARN WindowExec: No Partition Defined for Window operation! Moving all data to a single partition, this can cause serious performance degradation.\n",
      "23/01/02 04:20:24 WARN WindowExec: No Partition Defined for Window operation! Moving all data to a single partition, this can cause serious performance degradation.\n",
      "23/01/02 04:20:24 WARN WindowExec: No Partition Defined for Window operation! Moving all data to a single partition, this can cause serious performance degradation.\n"
     ]
    },
    {
     "name": "stderr",
     "output_type": "stream",
     "text": [
      "/home/rockhight/Documents/gitRepos/bigDataUdemyDataframe/koalas/venv/lib/python3.8/site-packages/databricks/koalas/internal.py:1430: FutureWarning: iteritems is deprecated and will be removed in a future version. Use .items instead.\n",
      "  for name, col in reset_index.iteritems():\n",
      "/home/rockhight/Documents/gitRepos/bigDataUdemyDataframe/koalas/venv/lib/python3.8/site-packages/databricks/koalas/internal.py:1430: FutureWarning: iteritems is deprecated and will be removed in a future version. Use .items instead.\n",
      "  for name, col in reset_index.iteritems():\n",
      "/home/rockhight/Documents/gitRepos/bigDataUdemyDataframe/koalas/venv/lib/python3.8/site-packages/databricks/koalas/internal.py:1430: FutureWarning: iteritems is deprecated and will be removed in a future version. Use .items instead.\n",
      "  for name, col in reset_index.iteritems():\n",
      "/home/rockhight/Documents/gitRepos/bigDataUdemyDataframe/koalas/venv/lib/python3.8/site-packages/databricks/koalas/internal.py:1430: FutureWarning: iteritems is deprecated and will be removed in a future version. Use .items instead.\n",
      "  for name, col in reset_index.iteritems():\n",
      "/home/rockhight/Documents/gitRepos/bigDataUdemyDataframe/koalas/venv/lib/python3.8/site-packages/databricks/koalas/internal.py:1430: FutureWarning: iteritems is deprecated and will be removed in a future version. Use .items instead.\n",
      "  for name, col in reset_index.iteritems():\n",
      "/home/rockhight/Documents/gitRepos/bigDataUdemyDataframe/koalas/venv/lib/python3.8/site-packages/databricks/koalas/internal.py:1430: FutureWarning: iteritems is deprecated and will be removed in a future version. Use .items instead.\n",
      "  for name, col in reset_index.iteritems():\n",
      "/home/rockhight/Documents/gitRepos/bigDataUdemyDataframe/koalas/venv/lib/python3.8/site-packages/databricks/koalas/internal.py:1430: FutureWarning: iteritems is deprecated and will be removed in a future version. Use .items instead.\n",
      "  for name, col in reset_index.iteritems():\n",
      "/home/rockhight/Documents/gitRepos/bigDataUdemyDataframe/koalas/venv/lib/python3.8/site-packages/databricks/koalas/internal.py:1430: FutureWarning: iteritems is deprecated and will be removed in a future version. Use .items instead.\n",
      "  for name, col in reset_index.iteritems():\n",
      "/home/rockhight/Documents/gitRepos/bigDataUdemyDataframe/koalas/venv/lib/python3.8/site-packages/databricks/koalas/internal.py:1430: FutureWarning: iteritems is deprecated and will be removed in a future version. Use .items instead.\n",
      "  for name, col in reset_index.iteritems():\n",
      "/home/rockhight/Documents/gitRepos/bigDataUdemyDataframe/koalas/venv/lib/python3.8/site-packages/databricks/koalas/internal.py:1430: FutureWarning: iteritems is deprecated and will be removed in a future version. Use .items instead.\n",
      "  for name, col in reset_index.iteritems():\n",
      "/home/rockhight/Documents/gitRepos/bigDataUdemyDataframe/koalas/venv/lib/python3.8/site-packages/databricks/koalas/internal.py:1430: FutureWarning: iteritems is deprecated and will be removed in a future version. Use .items instead.\n",
      "  for name, col in reset_index.iteritems():\n",
      "/home/rockhight/Documents/gitRepos/bigDataUdemyDataframe/koalas/venv/lib/python3.8/site-packages/databricks/koalas/internal.py:1430: FutureWarning: iteritems is deprecated and will be removed in a future version. Use .items instead.\n",
      "  for name, col in reset_index.iteritems():\n",
      "/home/rockhight/Documents/gitRepos/bigDataUdemyDataframe/koalas/venv/lib/python3.8/site-packages/databricks/koalas/internal.py:1430: FutureWarning: iteritems is deprecated and will be removed in a future version. Use .items instead.\n",
      "  for name, col in reset_index.iteritems():\n",
      "/home/rockhight/Documents/gitRepos/bigDataUdemyDataframe/koalas/venv/lib/python3.8/site-packages/databricks/koalas/internal.py:1430: FutureWarning: iteritems is deprecated and will be removed in a future version. Use .items instead.\n",
      "  for name, col in reset_index.iteritems():\n",
      "/home/rockhight/Documents/gitRepos/bigDataUdemyDataframe/koalas/venv/lib/python3.8/site-packages/databricks/koalas/internal.py:1430: FutureWarning: iteritems is deprecated and will be removed in a future version. Use .items instead.\n",
      "  for name, col in reset_index.iteritems():\n",
      "/home/rockhight/Documents/gitRepos/bigDataUdemyDataframe/koalas/venv/lib/python3.8/site-packages/databricks/koalas/internal.py:1430: FutureWarning: iteritems is deprecated and will be removed in a future version. Use .items instead.\n",
      "  for name, col in reset_index.iteritems():\n",
      "/home/rockhight/Documents/gitRepos/bigDataUdemyDataframe/koalas/venv/lib/python3.8/site-packages/databricks/koalas/internal.py:1430: FutureWarning: iteritems is deprecated and will be removed in a future version. Use .items instead.\n",
      "  for name, col in reset_index.iteritems():\n",
      "/home/rockhight/Documents/gitRepos/bigDataUdemyDataframe/koalas/venv/lib/python3.8/site-packages/databricks/koalas/internal.py:1430: FutureWarning: iteritems is deprecated and will be removed in a future version. Use .items instead.\n",
      "  for name, col in reset_index.iteritems():\n",
      "/home/rockhight/Documents/gitRepos/bigDataUdemyDataframe/koalas/venv/lib/python3.8/site-packages/databricks/koalas/internal.py:1430: FutureWarning: iteritems is deprecated and will be removed in a future version. Use .items instead.\n",
      "  for name, col in reset_index.iteritems():\n",
      "/home/rockhight/Documents/gitRepos/bigDataUdemyDataframe/koalas/venv/lib/python3.8/site-packages/databricks/koalas/internal.py:1430: FutureWarning: iteritems is deprecated and will be removed in a future version. Use .items instead.\n",
      "  for name, col in reset_index.iteritems():\n",
      "/home/rockhight/Documents/gitRepos/bigDataUdemyDataframe/koalas/venv/lib/python3.8/site-packages/databricks/koalas/internal.py:1430: FutureWarning: iteritems is deprecated and will be removed in a future version. Use .items instead.\n",
      "  for name, col in reset_index.iteritems():\n",
      "/home/rockhight/Documents/gitRepos/bigDataUdemyDataframe/koalas/venv/lib/python3.8/site-packages/databricks/koalas/internal.py:1430: FutureWarning: iteritems is deprecated and will be removed in a future version. Use .items instead.\n",
      "  for name, col in reset_index.iteritems():\n",
      "/home/rockhight/Documents/gitRepos/bigDataUdemyDataframe/koalas/venv/lib/python3.8/site-packages/databricks/koalas/internal.py:1430: FutureWarning: iteritems is deprecated and will be removed in a future version. Use .items instead.\n",
      "  for name, col in reset_index.iteritems():\n",
      "/home/rockhight/Documents/gitRepos/bigDataUdemyDataframe/koalas/venv/lib/python3.8/site-packages/databricks/koalas/internal.py:1430: FutureWarning: iteritems is deprecated and will be removed in a future version. Use .items instead.\n",
      "  for name, col in reset_index.iteritems():\n",
      "/home/rockhight/Documents/gitRepos/bigDataUdemyDataframe/koalas/venv/lib/python3.8/site-packages/databricks/koalas/internal.py:1430: FutureWarning: iteritems is deprecated and will be removed in a future version. Use .items instead.\n",
      "  for name, col in reset_index.iteritems():\n",
      "/home/rockhight/Documents/gitRepos/bigDataUdemyDataframe/koalas/venv/lib/python3.8/site-packages/databricks/koalas/internal.py:1430: FutureWarning: iteritems is deprecated and will be removed in a future version. Use .items instead.\n",
      "  for name, col in reset_index.iteritems():\n"
     ]
    },
    {
     "name": "stdout",
     "output_type": "stream",
     "text": [
      "23/01/02 04:20:24 WARN WindowExec: No Partition Defined for Window operation! Moving all data to a single partition, this can cause serious performance degradation.\n",
      "23/01/02 04:20:24 WARN WindowExec: No Partition Defined for Window operation! Moving all data to a single partition, this can cause serious performance degradation.\n",
      "23/01/02 04:20:25 WARN WindowExec: No Partition Defined for Window operation! Moving all data to a single partition, this can cause serious performance degradation.\n",
      "23/01/02 04:20:25 WARN WindowExec: No Partition Defined for Window operation! Moving all data to a single partition, this can cause serious performance degradation.\n"
     ]
    },
    {
     "name": "stderr",
     "output_type": "stream",
     "text": [
      "/home/rockhight/Documents/gitRepos/bigDataUdemyDataframe/koalas/venv/lib/python3.8/site-packages/databricks/koalas/internal.py:1430: FutureWarning: iteritems is deprecated and will be removed in a future version. Use .items instead.\n",
      "  for name, col in reset_index.iteritems():\n",
      "/home/rockhight/Documents/gitRepos/bigDataUdemyDataframe/koalas/venv/lib/python3.8/site-packages/databricks/koalas/internal.py:1430: FutureWarning: iteritems is deprecated and will be removed in a future version. Use .items instead.\n",
      "  for name, col in reset_index.iteritems():\n",
      "/home/rockhight/Documents/gitRepos/bigDataUdemyDataframe/koalas/venv/lib/python3.8/site-packages/databricks/koalas/internal.py:1430: FutureWarning: iteritems is deprecated and will be removed in a future version. Use .items instead.\n",
      "  for name, col in reset_index.iteritems():\n"
     ]
    },
    {
     "data": {
      "text/html": [
       "<div>\n",
       "<style scoped>\n",
       "    .dataframe tbody tr th:only-of-type {\n",
       "        vertical-align: middle;\n",
       "    }\n",
       "\n",
       "    .dataframe tbody tr th {\n",
       "        vertical-align: top;\n",
       "    }\n",
       "\n",
       "    .dataframe thead th {\n",
       "        text-align: right;\n",
       "    }\n",
       "</style>\n",
       "<table border=\"1\" class=\"dataframe\">\n",
       "  <thead>\n",
       "    <tr style=\"text-align: right;\">\n",
       "      <th></th>\n",
       "      <th>username</th>\n",
       "      <th>name</th>\n",
       "      <th>avg_num_subscribers</th>\n",
       "      <th>avg_rating</th>\n",
       "      <th>avg_price</th>\n",
       "    </tr>\n",
       "  </thead>\n",
       "  <tbody>\n",
       "    <tr>\n",
       "      <th>0</th>\n",
       "      <td>carolinejenkins</td>\n",
       "      <td>caroline</td>\n",
       "      <td>911.0</td>\n",
       "      <td>4.150000</td>\n",
       "      <td>49.99</td>\n",
       "    </tr>\n",
       "    <tr>\n",
       "      <th>1</th>\n",
       "      <td>jeremyschoemake</td>\n",
       "      <td>jeremy</td>\n",
       "      <td>16130.0</td>\n",
       "      <td>3.450000</td>\n",
       "      <td>27.49</td>\n",
       "    </tr>\n",
       "    <tr>\n",
       "      <th>2</th>\n",
       "      <td>markbailey</td>\n",
       "      <td>mark</td>\n",
       "      <td>193.0</td>\n",
       "      <td>4.825000</td>\n",
       "      <td>134.99</td>\n",
       "    </tr>\n",
       "    <tr>\n",
       "      <th>3</th>\n",
       "      <td>katyaseberso</td>\n",
       "      <td>katya</td>\n",
       "      <td>4855.0</td>\n",
       "      <td>4.372597</td>\n",
       "      <td>199.99</td>\n",
       "    </tr>\n",
       "    <tr>\n",
       "      <th>4</th>\n",
       "      <td>isabelkumer</td>\n",
       "      <td>kumerz</td>\n",
       "      <td>972.0</td>\n",
       "      <td>4.800000</td>\n",
       "      <td>129.99</td>\n",
       "    </tr>\n",
       "  </tbody>\n",
       "</table>\n",
       "</div>"
      ],
      "text/plain": [
       "          username      name  avg_num_subscribers  avg_rating  avg_price\n",
       "0  carolinejenkins  caroline                911.0    4.150000      49.99\n",
       "1  jeremyschoemake    jeremy              16130.0    3.450000      27.49\n",
       "2       markbailey      mark                193.0    4.825000     134.99\n",
       "3     katyaseberso     katya               4855.0    4.372597     199.99\n",
       "4      isabelkumer    kumerz                972.0    4.800000     129.99"
      ]
     },
     "execution_count": 94,
     "metadata": {},
     "output_type": "execute_result"
    }
   ],
   "source": [
    "instructors_df.head()"
   ]
  },
  {
   "cell_type": "code",
   "execution_count": 95,
   "id": "4130707b",
   "metadata": {},
   "outputs": [],
   "source": [
    "import gender_guesser.detector as gender\n",
    "gd = gender.Detector()"
   ]
  },
  {
   "cell_type": "code",
   "execution_count": 96,
   "id": "737e871e",
   "metadata": {},
   "outputs": [
    {
     "name": "stdout",
     "output_type": "stream",
     "text": [
      "23/01/02 04:20:25 WARN WindowExec: No Partition Defined for Window operation! Moving all data to a single partition, this can cause serious performance degradation.\n",
      "23/01/02 04:20:25 WARN WindowExec: No Partition Defined for Window operation! Moving all data to a single partition, this can cause serious performance degradation.\n",
      "23/01/02 04:20:25 WARN WindowExec: No Partition Defined for Window operation! Moving all data to a single partition, this can cause serious performance degradation.\n",
      "23/01/02 04:20:25 WARN WindowExec: No Partition Defined for Window operation! Moving all data to a single partition, this can cause serious performance degradation.\n",
      "23/01/02 04:20:25 WARN WindowExec: No Partition Defined for Window operation! Moving all data to a single partition, this can cause serious performance degradation.\n",
      "23/01/02 04:20:25 WARN WindowExec: No Partition Defined for Window operation! Moving all data to a single partition, this can cause serious performance degradation.\n",
      "23/01/02 04:20:25 WARN WindowExec: No Partition Defined for Window operation! Moving all data to a single partition, this can cause serious performance degradation.\n",
      "23/01/02 04:20:25 WARN WindowExec: No Partition Defined for Window operation! Moving all data to a single partition, this can cause serious performance degradation.\n",
      "23/01/02 04:20:25 WARN WindowExec: No Partition Defined for Window operation! Moving all data to a single partition, this can cause serious performance degradation.\n"
     ]
    },
    {
     "name": "stderr",
     "output_type": "stream",
     "text": [
      "/home/rockhight/Documents/gitRepos/bigDataUdemyDataframe/koalas/venv/lib/python3.8/site-packages/databricks/koalas/internal.py:1430: FutureWarning: iteritems is deprecated and will be removed in a future version. Use .items instead.\n",
      "  for name, col in reset_index.iteritems():\n",
      "/home/rockhight/Documents/gitRepos/bigDataUdemyDataframe/koalas/venv/lib/python3.8/site-packages/databricks/koalas/internal.py:1430: FutureWarning: iteritems is deprecated and will be removed in a future version. Use .items instead.\n",
      "  for name, col in reset_index.iteritems():\n",
      "/home/rockhight/Documents/gitRepos/bigDataUdemyDataframe/koalas/venv/lib/python3.8/site-packages/databricks/koalas/internal.py:1430: FutureWarning: iteritems is deprecated and will be removed in a future version. Use .items instead.\n",
      "  for name, col in reset_index.iteritems():\n",
      "/home/rockhight/Documents/gitRepos/bigDataUdemyDataframe/koalas/venv/lib/python3.8/site-packages/databricks/koalas/internal.py:1430: FutureWarning: iteritems is deprecated and will be removed in a future version. Use .items instead.\n",
      "  for name, col in reset_index.iteritems():\n",
      "/home/rockhight/Documents/gitRepos/bigDataUdemyDataframe/koalas/venv/lib/python3.8/site-packages/databricks/koalas/internal.py:1430: FutureWarning: iteritems is deprecated and will be removed in a future version. Use .items instead.\n",
      "  for name, col in reset_index.iteritems():\n",
      "/home/rockhight/Documents/gitRepos/bigDataUdemyDataframe/koalas/venv/lib/python3.8/site-packages/databricks/koalas/internal.py:1430: FutureWarning: iteritems is deprecated and will be removed in a future version. Use .items instead.\n",
      "  for name, col in reset_index.iteritems():\n",
      "/home/rockhight/Documents/gitRepos/bigDataUdemyDataframe/koalas/venv/lib/python3.8/site-packages/databricks/koalas/internal.py:1430: FutureWarning: iteritems is deprecated and will be removed in a future version. Use .items instead.\n",
      "  for name, col in reset_index.iteritems():\n",
      "/home/rockhight/Documents/gitRepos/bigDataUdemyDataframe/koalas/venv/lib/python3.8/site-packages/databricks/koalas/internal.py:1430: FutureWarning: iteritems is deprecated and will be removed in a future version. Use .items instead.\n",
      "  for name, col in reset_index.iteritems():\n",
      "/home/rockhight/Documents/gitRepos/bigDataUdemyDataframe/koalas/venv/lib/python3.8/site-packages/databricks/koalas/internal.py:1430: FutureWarning: iteritems is deprecated and will be removed in a future version. Use .items instead.\n",
      "  for name, col in reset_index.iteritems():\n",
      "/home/rockhight/Documents/gitRepos/bigDataUdemyDataframe/koalas/venv/lib/python3.8/site-packages/databricks/koalas/internal.py:1430: FutureWarning: iteritems is deprecated and will be removed in a future version. Use .items instead.\n",
      "  for name, col in reset_index.iteritems():\n",
      "/home/rockhight/Documents/gitRepos/bigDataUdemyDataframe/koalas/venv/lib/python3.8/site-packages/databricks/koalas/internal.py:1430: FutureWarning: iteritems is deprecated and will be removed in a future version. Use .items instead.\n",
      "  for name, col in reset_index.iteritems():\n",
      "/home/rockhight/Documents/gitRepos/bigDataUdemyDataframe/koalas/venv/lib/python3.8/site-packages/databricks/koalas/internal.py:1430: FutureWarning: iteritems is deprecated and will be removed in a future version. Use .items instead.\n",
      "  for name, col in reset_index.iteritems():\n",
      "/home/rockhight/Documents/gitRepos/bigDataUdemyDataframe/koalas/venv/lib/python3.8/site-packages/databricks/koalas/internal.py:1430: FutureWarning: iteritems is deprecated and will be removed in a future version. Use .items instead.\n",
      "  for name, col in reset_index.iteritems():\n",
      "/home/rockhight/Documents/gitRepos/bigDataUdemyDataframe/koalas/venv/lib/python3.8/site-packages/databricks/koalas/internal.py:1430: FutureWarning: iteritems is deprecated and will be removed in a future version. Use .items instead.\n",
      "  for name, col in reset_index.iteritems():\n",
      "/home/rockhight/Documents/gitRepos/bigDataUdemyDataframe/koalas/venv/lib/python3.8/site-packages/databricks/koalas/internal.py:1430: FutureWarning: iteritems is deprecated and will be removed in a future version. Use .items instead.\n",
      "  for name, col in reset_index.iteritems():\n",
      "/home/rockhight/Documents/gitRepos/bigDataUdemyDataframe/koalas/venv/lib/python3.8/site-packages/databricks/koalas/internal.py:1430: FutureWarning: iteritems is deprecated and will be removed in a future version. Use .items instead.\n",
      "  for name, col in reset_index.iteritems():\n",
      "/home/rockhight/Documents/gitRepos/bigDataUdemyDataframe/koalas/venv/lib/python3.8/site-packages/databricks/koalas/internal.py:1430: FutureWarning: iteritems is deprecated and will be removed in a future version. Use .items instead.\n",
      "  for name, col in reset_index.iteritems():\n",
      "/home/rockhight/Documents/gitRepos/bigDataUdemyDataframe/koalas/venv/lib/python3.8/site-packages/databricks/koalas/internal.py:1430: FutureWarning: iteritems is deprecated and will be removed in a future version. Use .items instead.\n",
      "  for name, col in reset_index.iteritems():\n",
      "/home/rockhight/Documents/gitRepos/bigDataUdemyDataframe/koalas/venv/lib/python3.8/site-packages/databricks/koalas/internal.py:1430: FutureWarning: iteritems is deprecated and will be removed in a future version. Use .items instead.\n",
      "  for name, col in reset_index.iteritems():\n",
      "/home/rockhight/Documents/gitRepos/bigDataUdemyDataframe/koalas/venv/lib/python3.8/site-packages/databricks/koalas/internal.py:1430: FutureWarning: iteritems is deprecated and will be removed in a future version. Use .items instead.\n",
      "  for name, col in reset_index.iteritems():\n",
      "/home/rockhight/Documents/gitRepos/bigDataUdemyDataframe/koalas/venv/lib/python3.8/site-packages/databricks/koalas/internal.py:1430: FutureWarning: iteritems is deprecated and will be removed in a future version. Use .items instead.\n",
      "  for name, col in reset_index.iteritems():\n",
      "/home/rockhight/Documents/gitRepos/bigDataUdemyDataframe/koalas/venv/lib/python3.8/site-packages/databricks/koalas/internal.py:1430: FutureWarning: iteritems is deprecated and will be removed in a future version. Use .items instead.\n",
      "  for name, col in reset_index.iteritems():\n",
      "/home/rockhight/Documents/gitRepos/bigDataUdemyDataframe/koalas/venv/lib/python3.8/site-packages/databricks/koalas/internal.py:1430: FutureWarning: iteritems is deprecated and will be removed in a future version. Use .items instead.\n",
      "  for name, col in reset_index.iteritems():\n",
      "/home/rockhight/Documents/gitRepos/bigDataUdemyDataframe/koalas/venv/lib/python3.8/site-packages/databricks/koalas/internal.py:1430: FutureWarning: iteritems is deprecated and will be removed in a future version. Use .items instead.\n",
      "  for name, col in reset_index.iteritems():\n",
      "/home/rockhight/Documents/gitRepos/bigDataUdemyDataframe/koalas/venv/lib/python3.8/site-packages/databricks/koalas/internal.py:1430: FutureWarning: iteritems is deprecated and will be removed in a future version. Use .items instead.\n",
      "  for name, col in reset_index.iteritems():\n",
      "/home/rockhight/Documents/gitRepos/bigDataUdemyDataframe/koalas/venv/lib/python3.8/site-packages/databricks/koalas/internal.py:1430: FutureWarning: iteritems is deprecated and will be removed in a future version. Use .items instead.\n",
      "  for name, col in reset_index.iteritems():\n"
     ]
    },
    {
     "name": "stdout",
     "output_type": "stream",
     "text": [
      "23/01/02 04:20:25 WARN WindowExec: No Partition Defined for Window operation! Moving all data to a single partition, this can cause serious performance degradation.\n",
      "23/01/02 04:20:25 WARN WindowExec: No Partition Defined for Window operation! Moving all data to a single partition, this can cause serious performance degradation.\n",
      "23/01/02 04:20:25 WARN WindowExec: No Partition Defined for Window operation! Moving all data to a single partition, this can cause serious performance degradation.\n",
      "23/01/02 04:20:25 WARN WindowExec: No Partition Defined for Window operation! Moving all data to a single partition, this can cause serious performance degradation.\n"
     ]
    },
    {
     "name": "stderr",
     "output_type": "stream",
     "text": [
      "/home/rockhight/Documents/gitRepos/bigDataUdemyDataframe/koalas/venv/lib/python3.8/site-packages/databricks/koalas/internal.py:1430: FutureWarning: iteritems is deprecated and will be removed in a future version. Use .items instead.\n",
      "  for name, col in reset_index.iteritems():\n",
      "/home/rockhight/Documents/gitRepos/bigDataUdemyDataframe/koalas/venv/lib/python3.8/site-packages/databricks/koalas/internal.py:1430: FutureWarning: iteritems is deprecated and will be removed in a future version. Use .items instead.\n",
      "  for name, col in reset_index.iteritems():\n",
      "/home/rockhight/Documents/gitRepos/bigDataUdemyDataframe/koalas/venv/lib/python3.8/site-packages/databricks/koalas/internal.py:1430: FutureWarning: iteritems is deprecated and will be removed in a future version. Use .items instead.\n",
      "  for name, col in reset_index.iteritems():\n",
      "/home/rockhight/Documents/gitRepos/bigDataUdemyDataframe/koalas/venv/lib/python3.8/site-packages/databricks/koalas/internal.py:1430: FutureWarning:\n",
      "\n",
      "iteritems is deprecated and will be removed in a future version. Use .items instead.\n",
      "\n",
      "/home/rockhight/Documents/gitRepos/bigDataUdemyDataframe/koalas/venv/lib/python3.8/site-packages/databricks/koalas/internal.py:1356: FutureWarning:\n",
      "\n",
      "iteritems is deprecated and will be removed in a future version. Use .items instead.\n",
      "\n",
      "/home/rockhight/Documents/gitRepos/bigDataUdemyDataframe/koalas/venv/lib/python3.8/site-packages/pyspark/sql/pandas/conversion.py:486: FutureWarning:\n",
      "\n",
      "iteritems is deprecated and will be removed in a future version. Use .items instead.\n",
      "\n",
      "/home/rockhight/Documents/gitRepos/bigDataUdemyDataframe/koalas/venv/lib/python3.8/site-packages/pyspark/sql/pandas/functions.py:394: UserWarning:\n",
      "\n",
      "In Python 3.6+ and Spark 3.0+, it is preferred to specify type hints for pandas UDF instead of specifying pandas UDF type which will be deprecated in the future releases. See SPARK-28264 for more details.\n",
      "\n"
     ]
    }
   ],
   "source": [
    "instructors_df['gender'] = instructors_df['name'].map(lambda x: gd.get_gender(x.capitalize()))"
   ]
  },
  {
   "cell_type": "code",
   "execution_count": 97,
   "id": "ff791a38",
   "metadata": {},
   "outputs": [
    {
     "name": "stdout",
     "output_type": "stream",
     "text": [
      "23/01/02 04:20:26 WARN WindowExec: No Partition Defined for Window operation! Moving all data to a single partition, this can cause serious performance degradation.\n",
      "23/01/02 04:20:26 WARN WindowExec: No Partition Defined for Window operation! Moving all data to a single partition, this can cause serious performance degradation.\n",
      "23/01/02 04:20:26 WARN WindowExec: No Partition Defined for Window operation! Moving all data to a single partition, this can cause serious performance degradation.\n",
      "23/01/02 04:20:26 WARN WindowExec: No Partition Defined for Window operation! Moving all data to a single partition, this can cause serious performance degradation.\n",
      "23/01/02 04:20:26 WARN WindowExec: No Partition Defined for Window operation! Moving all data to a single partition, this can cause serious performance degradation.\n",
      "23/01/02 04:20:26 WARN WindowExec: No Partition Defined for Window operation! Moving all data to a single partition, this can cause serious performance degradation.\n",
      "23/01/02 04:20:26 WARN WindowExec: No Partition Defined for Window operation! Moving all data to a single partition, this can cause serious performance degradation.\n",
      "23/01/02 04:20:26 WARN WindowExec: No Partition Defined for Window operation! Moving all data to a single partition, this can cause serious performance degradation.\n",
      "23/01/02 04:20:26 WARN WindowExec: No Partition Defined for Window operation! Moving all data to a single partition, this can cause serious performance degradation.\n"
     ]
    },
    {
     "name": "stderr",
     "output_type": "stream",
     "text": [
      "/home/rockhight/Documents/gitRepos/bigDataUdemyDataframe/koalas/venv/lib/python3.8/site-packages/databricks/koalas/internal.py:1430: FutureWarning: iteritems is deprecated and will be removed in a future version. Use .items instead.\n",
      "  for name, col in reset_index.iteritems():\n",
      "/home/rockhight/Documents/gitRepos/bigDataUdemyDataframe/koalas/venv/lib/python3.8/site-packages/databricks/koalas/internal.py:1430: FutureWarning: iteritems is deprecated and will be removed in a future version. Use .items instead.\n",
      "  for name, col in reset_index.iteritems():\n",
      "/home/rockhight/Documents/gitRepos/bigDataUdemyDataframe/koalas/venv/lib/python3.8/site-packages/databricks/koalas/internal.py:1430: FutureWarning: iteritems is deprecated and will be removed in a future version. Use .items instead.\n",
      "  for name, col in reset_index.iteritems():\n",
      "/home/rockhight/Documents/gitRepos/bigDataUdemyDataframe/koalas/venv/lib/python3.8/site-packages/databricks/koalas/internal.py:1430: FutureWarning: iteritems is deprecated and will be removed in a future version. Use .items instead.\n",
      "  for name, col in reset_index.iteritems():\n",
      "/home/rockhight/Documents/gitRepos/bigDataUdemyDataframe/koalas/venv/lib/python3.8/site-packages/databricks/koalas/internal.py:1430: FutureWarning: iteritems is deprecated and will be removed in a future version. Use .items instead.\n",
      "  for name, col in reset_index.iteritems():\n",
      "/home/rockhight/Documents/gitRepos/bigDataUdemyDataframe/koalas/venv/lib/python3.8/site-packages/databricks/koalas/internal.py:1430: FutureWarning: iteritems is deprecated and will be removed in a future version. Use .items instead.\n",
      "  for name, col in reset_index.iteritems():\n",
      "/home/rockhight/Documents/gitRepos/bigDataUdemyDataframe/koalas/venv/lib/python3.8/site-packages/databricks/koalas/internal.py:1430: FutureWarning: iteritems is deprecated and will be removed in a future version. Use .items instead.\n",
      "  for name, col in reset_index.iteritems():\n",
      "/home/rockhight/Documents/gitRepos/bigDataUdemyDataframe/koalas/venv/lib/python3.8/site-packages/databricks/koalas/internal.py:1430: FutureWarning: iteritems is deprecated and will be removed in a future version. Use .items instead.\n",
      "  for name, col in reset_index.iteritems():\n",
      "/home/rockhight/Documents/gitRepos/bigDataUdemyDataframe/koalas/venv/lib/python3.8/site-packages/databricks/koalas/internal.py:1430: FutureWarning: iteritems is deprecated and will be removed in a future version. Use .items instead.\n",
      "  for name, col in reset_index.iteritems():\n",
      "/home/rockhight/Documents/gitRepos/bigDataUdemyDataframe/koalas/venv/lib/python3.8/site-packages/databricks/koalas/internal.py:1430: FutureWarning: iteritems is deprecated and will be removed in a future version. Use .items instead.\n",
      "  for name, col in reset_index.iteritems():\n",
      "/home/rockhight/Documents/gitRepos/bigDataUdemyDataframe/koalas/venv/lib/python3.8/site-packages/databricks/koalas/internal.py:1430: FutureWarning: iteritems is deprecated and will be removed in a future version. Use .items instead.\n",
      "  for name, col in reset_index.iteritems():\n",
      "/home/rockhight/Documents/gitRepos/bigDataUdemyDataframe/koalas/venv/lib/python3.8/site-packages/databricks/koalas/internal.py:1430: FutureWarning: iteritems is deprecated and will be removed in a future version. Use .items instead.\n",
      "  for name, col in reset_index.iteritems():\n",
      "/home/rockhight/Documents/gitRepos/bigDataUdemyDataframe/koalas/venv/lib/python3.8/site-packages/databricks/koalas/internal.py:1430: FutureWarning: iteritems is deprecated and will be removed in a future version. Use .items instead.\n",
      "  for name, col in reset_index.iteritems():\n",
      "/home/rockhight/Documents/gitRepos/bigDataUdemyDataframe/koalas/venv/lib/python3.8/site-packages/databricks/koalas/internal.py:1430: FutureWarning: iteritems is deprecated and will be removed in a future version. Use .items instead.\n",
      "  for name, col in reset_index.iteritems():\n",
      "/home/rockhight/Documents/gitRepos/bigDataUdemyDataframe/koalas/venv/lib/python3.8/site-packages/databricks/koalas/internal.py:1430: FutureWarning: iteritems is deprecated and will be removed in a future version. Use .items instead.\n",
      "  for name, col in reset_index.iteritems():\n",
      "/home/rockhight/Documents/gitRepos/bigDataUdemyDataframe/koalas/venv/lib/python3.8/site-packages/databricks/koalas/internal.py:1430: FutureWarning: iteritems is deprecated and will be removed in a future version. Use .items instead.\n",
      "  for name, col in reset_index.iteritems():\n",
      "/home/rockhight/Documents/gitRepos/bigDataUdemyDataframe/koalas/venv/lib/python3.8/site-packages/databricks/koalas/internal.py:1430: FutureWarning: iteritems is deprecated and will be removed in a future version. Use .items instead.\n",
      "  for name, col in reset_index.iteritems():\n",
      "/home/rockhight/Documents/gitRepos/bigDataUdemyDataframe/koalas/venv/lib/python3.8/site-packages/databricks/koalas/internal.py:1430: FutureWarning: iteritems is deprecated and will be removed in a future version. Use .items instead.\n",
      "  for name, col in reset_index.iteritems():\n",
      "/home/rockhight/Documents/gitRepos/bigDataUdemyDataframe/koalas/venv/lib/python3.8/site-packages/databricks/koalas/internal.py:1430: FutureWarning: iteritems is deprecated and will be removed in a future version. Use .items instead.\n",
      "  for name, col in reset_index.iteritems():\n",
      "/home/rockhight/Documents/gitRepos/bigDataUdemyDataframe/koalas/venv/lib/python3.8/site-packages/databricks/koalas/internal.py:1430: FutureWarning: iteritems is deprecated and will be removed in a future version. Use .items instead.\n",
      "  for name, col in reset_index.iteritems():\n",
      "/home/rockhight/Documents/gitRepos/bigDataUdemyDataframe/koalas/venv/lib/python3.8/site-packages/databricks/koalas/internal.py:1430: FutureWarning: iteritems is deprecated and will be removed in a future version. Use .items instead.\n",
      "  for name, col in reset_index.iteritems():\n",
      "/home/rockhight/Documents/gitRepos/bigDataUdemyDataframe/koalas/venv/lib/python3.8/site-packages/databricks/koalas/internal.py:1430: FutureWarning: iteritems is deprecated and will be removed in a future version. Use .items instead.\n",
      "  for name, col in reset_index.iteritems():\n",
      "/home/rockhight/Documents/gitRepos/bigDataUdemyDataframe/koalas/venv/lib/python3.8/site-packages/databricks/koalas/internal.py:1430: FutureWarning: iteritems is deprecated and will be removed in a future version. Use .items instead.\n",
      "  for name, col in reset_index.iteritems():\n",
      "/home/rockhight/Documents/gitRepos/bigDataUdemyDataframe/koalas/venv/lib/python3.8/site-packages/databricks/koalas/internal.py:1430: FutureWarning: iteritems is deprecated and will be removed in a future version. Use .items instead.\n",
      "  for name, col in reset_index.iteritems():\n",
      "/home/rockhight/Documents/gitRepos/bigDataUdemyDataframe/koalas/venv/lib/python3.8/site-packages/databricks/koalas/internal.py:1430: FutureWarning: iteritems is deprecated and will be removed in a future version. Use .items instead.\n",
      "  for name, col in reset_index.iteritems():\n",
      "/home/rockhight/Documents/gitRepos/bigDataUdemyDataframe/koalas/venv/lib/python3.8/site-packages/databricks/koalas/internal.py:1430: FutureWarning: iteritems is deprecated and will be removed in a future version. Use .items instead.\n",
      "  for name, col in reset_index.iteritems():\n"
     ]
    },
    {
     "name": "stdout",
     "output_type": "stream",
     "text": [
      "23/01/02 04:20:26 WARN WindowExec: No Partition Defined for Window operation! Moving all data to a single partition, this can cause serious performance degradation.\n",
      "23/01/02 04:20:26 WARN WindowExec: No Partition Defined for Window operation! Moving all data to a single partition, this can cause serious performance degradation.\n",
      "23/01/02 04:20:26 WARN WindowExec: No Partition Defined for Window operation! Moving all data to a single partition, this can cause serious performance degradation.\n",
      "23/01/02 04:20:26 WARN WindowExec: No Partition Defined for Window operation! Moving all data to a single partition, this can cause serious performance degradation.\n"
     ]
    },
    {
     "name": "stderr",
     "output_type": "stream",
     "text": [
      "/home/rockhight/Documents/gitRepos/bigDataUdemyDataframe/koalas/venv/lib/python3.8/site-packages/databricks/koalas/internal.py:1430: FutureWarning: iteritems is deprecated and will be removed in a future version. Use .items instead.\n",
      "  for name, col in reset_index.iteritems():\n",
      "/home/rockhight/Documents/gitRepos/bigDataUdemyDataframe/koalas/venv/lib/python3.8/site-packages/databricks/koalas/internal.py:1430: FutureWarning: iteritems is deprecated and will be removed in a future version. Use .items instead.\n",
      "  for name, col in reset_index.iteritems():\n",
      "/home/rockhight/Documents/gitRepos/bigDataUdemyDataframe/koalas/venv/lib/python3.8/site-packages/databricks/koalas/internal.py:1430: FutureWarning: iteritems is deprecated and will be removed in a future version. Use .items instead.\n",
      "  for name, col in reset_index.iteritems():\n",
      "/home/rockhight/Documents/gitRepos/bigDataUdemyDataframe/koalas/venv/lib/python3.8/site-packages/databricks/koalas/internal.py:1430: FutureWarning: iteritems is deprecated and will be removed in a future version. Use .items instead.\n",
      "  for name, col in reset_index.iteritems():\n",
      "/home/rockhight/Documents/gitRepos/bigDataUdemyDataframe/koalas/venv/lib/python3.8/site-packages/databricks/koalas/internal.py:1430: FutureWarning: iteritems is deprecated and will be removed in a future version. Use .items instead.\n",
      "  for name, col in reset_index.iteritems():\n",
      "/home/rockhight/Documents/gitRepos/bigDataUdemyDataframe/koalas/venv/lib/python3.8/site-packages/databricks/koalas/internal.py:1430: FutureWarning: iteritems is deprecated and will be removed in a future version. Use .items instead.\n",
      "  for name, col in reset_index.iteritems():\n",
      "/home/rockhight/Documents/gitRepos/bigDataUdemyDataframe/koalas/venv/lib/python3.8/site-packages/databricks/koalas/internal.py:1430: FutureWarning: iteritems is deprecated and will be removed in a future version. Use .items instead.\n",
      "  for name, col in reset_index.iteritems():\n",
      "/home/rockhight/Documents/gitRepos/bigDataUdemyDataframe/koalas/venv/lib/python3.8/site-packages/databricks/koalas/internal.py:1430: FutureWarning: iteritems is deprecated and will be removed in a future version. Use .items instead.\n",
      "  for name, col in reset_index.iteritems():\n"
     ]
    },
    {
     "data": {
      "text/html": [
       "<div>\n",
       "<style scoped>\n",
       "    .dataframe tbody tr th:only-of-type {\n",
       "        vertical-align: middle;\n",
       "    }\n",
       "\n",
       "    .dataframe tbody tr th {\n",
       "        vertical-align: top;\n",
       "    }\n",
       "\n",
       "    .dataframe thead th {\n",
       "        text-align: right;\n",
       "    }\n",
       "</style>\n",
       "<table border=\"1\" class=\"dataframe\">\n",
       "  <thead>\n",
       "    <tr style=\"text-align: right;\">\n",
       "      <th></th>\n",
       "      <th>username</th>\n",
       "      <th>name</th>\n",
       "      <th>avg_num_subscribers</th>\n",
       "      <th>avg_rating</th>\n",
       "      <th>avg_price</th>\n",
       "      <th>gender</th>\n",
       "    </tr>\n",
       "  </thead>\n",
       "  <tbody>\n",
       "    <tr>\n",
       "      <th>0</th>\n",
       "      <td>carolinejenkins</td>\n",
       "      <td>caroline</td>\n",
       "      <td>911.0</td>\n",
       "      <td>4.150000</td>\n",
       "      <td>49.99</td>\n",
       "      <td>female</td>\n",
       "    </tr>\n",
       "    <tr>\n",
       "      <th>1</th>\n",
       "      <td>jeremyschoemake</td>\n",
       "      <td>jeremy</td>\n",
       "      <td>16130.0</td>\n",
       "      <td>3.450000</td>\n",
       "      <td>27.49</td>\n",
       "      <td>male</td>\n",
       "    </tr>\n",
       "    <tr>\n",
       "      <th>2</th>\n",
       "      <td>markbailey</td>\n",
       "      <td>mark</td>\n",
       "      <td>193.0</td>\n",
       "      <td>4.825000</td>\n",
       "      <td>134.99</td>\n",
       "      <td>male</td>\n",
       "    </tr>\n",
       "    <tr>\n",
       "      <th>3</th>\n",
       "      <td>katyaseberso</td>\n",
       "      <td>katya</td>\n",
       "      <td>4855.0</td>\n",
       "      <td>4.372597</td>\n",
       "      <td>199.99</td>\n",
       "      <td>female</td>\n",
       "    </tr>\n",
       "    <tr>\n",
       "      <th>4</th>\n",
       "      <td>isabelkumer</td>\n",
       "      <td>kumerz</td>\n",
       "      <td>972.0</td>\n",
       "      <td>4.800000</td>\n",
       "      <td>129.99</td>\n",
       "      <td>unknown</td>\n",
       "    </tr>\n",
       "  </tbody>\n",
       "</table>\n",
       "</div>"
      ],
      "text/plain": [
       "          username      name  avg_num_subscribers  avg_rating  avg_price   gender\n",
       "0  carolinejenkins  caroline                911.0    4.150000      49.99   female\n",
       "1  jeremyschoemake    jeremy              16130.0    3.450000      27.49     male\n",
       "2       markbailey      mark                193.0    4.825000     134.99     male\n",
       "3     katyaseberso     katya               4855.0    4.372597     199.99   female\n",
       "4      isabelkumer    kumerz                972.0    4.800000     129.99  unknown"
      ]
     },
     "execution_count": 97,
     "metadata": {},
     "output_type": "execute_result"
    }
   ],
   "source": [
    "instructors_df.head()"
   ]
  },
  {
   "cell_type": "code",
   "execution_count": 98,
   "id": "cb4dd75f",
   "metadata": {},
   "outputs": [],
   "source": [
    "unk_instructors = instructors_df[instructors_df['gender'] == 'unknown']"
   ]
  },
  {
   "cell_type": "code",
   "execution_count": 99,
   "id": "84018623",
   "metadata": {},
   "outputs": [
    {
     "name": "stdout",
     "output_type": "stream",
     "text": [
      "23/01/02 04:20:26 WARN WindowExec: No Partition Defined for Window operation! Moving all data to a single partition, this can cause serious performance degradation.\n",
      "23/01/02 04:20:26 WARN WindowExec: No Partition Defined for Window operation! Moving all data to a single partition, this can cause serious performance degradation.\n",
      "23/01/02 04:20:26 WARN WindowExec: No Partition Defined for Window operation! Moving all data to a single partition, this can cause serious performance degradation.\n",
      "23/01/02 04:20:26 WARN WindowExec: No Partition Defined for Window operation! Moving all data to a single partition, this can cause serious performance degradation.\n",
      "23/01/02 04:20:26 WARN WindowExec: No Partition Defined for Window operation! Moving all data to a single partition, this can cause serious performance degradation.\n",
      "23/01/02 04:20:26 WARN WindowExec: No Partition Defined for Window operation! Moving all data to a single partition, this can cause serious performance degradation.\n",
      "23/01/02 04:20:26 WARN WindowExec: No Partition Defined for Window operation! Moving all data to a single partition, this can cause serious performance degradation.\n",
      "23/01/02 04:20:26 WARN WindowExec: No Partition Defined for Window operation! Moving all data to a single partition, this can cause serious performance degradation.\n"
     ]
    },
    {
     "name": "stderr",
     "output_type": "stream",
     "text": [
      "/home/rockhight/Documents/gitRepos/bigDataUdemyDataframe/koalas/venv/lib/python3.8/site-packages/databricks/koalas/internal.py:1430: FutureWarning: iteritems is deprecated and will be removed in a future version. Use .items instead.\n",
      "  for name, col in reset_index.iteritems():\n",
      "/home/rockhight/Documents/gitRepos/bigDataUdemyDataframe/koalas/venv/lib/python3.8/site-packages/databricks/koalas/internal.py:1430: FutureWarning: iteritems is deprecated and will be removed in a future version. Use .items instead.\n",
      "  for name, col in reset_index.iteritems():\n",
      "/home/rockhight/Documents/gitRepos/bigDataUdemyDataframe/koalas/venv/lib/python3.8/site-packages/databricks/koalas/internal.py:1430: FutureWarning: iteritems is deprecated and will be removed in a future version. Use .items instead.\n",
      "  for name, col in reset_index.iteritems():\n",
      "/home/rockhight/Documents/gitRepos/bigDataUdemyDataframe/koalas/venv/lib/python3.8/site-packages/databricks/koalas/internal.py:1430: FutureWarning: iteritems is deprecated and will be removed in a future version. Use .items instead.\n",
      "  for name, col in reset_index.iteritems():\n",
      "/home/rockhight/Documents/gitRepos/bigDataUdemyDataframe/koalas/venv/lib/python3.8/site-packages/databricks/koalas/internal.py:1430: FutureWarning: iteritems is deprecated and will be removed in a future version. Use .items instead.\n",
      "  for name, col in reset_index.iteritems():\n",
      "/home/rockhight/Documents/gitRepos/bigDataUdemyDataframe/koalas/venv/lib/python3.8/site-packages/databricks/koalas/internal.py:1430: FutureWarning: iteritems is deprecated and will be removed in a future version. Use .items instead.\n",
      "  for name, col in reset_index.iteritems():\n",
      "/home/rockhight/Documents/gitRepos/bigDataUdemyDataframe/koalas/venv/lib/python3.8/site-packages/databricks/koalas/internal.py:1430: FutureWarning: iteritems is deprecated and will be removed in a future version. Use .items instead.\n",
      "  for name, col in reset_index.iteritems():\n",
      "/home/rockhight/Documents/gitRepos/bigDataUdemyDataframe/koalas/venv/lib/python3.8/site-packages/databricks/koalas/internal.py:1430: FutureWarning: iteritems is deprecated and will be removed in a future version. Use .items instead.\n",
      "  for name, col in reset_index.iteritems():\n",
      "/home/rockhight/Documents/gitRepos/bigDataUdemyDataframe/koalas/venv/lib/python3.8/site-packages/databricks/koalas/internal.py:1430: FutureWarning: iteritems is deprecated and will be removed in a future version. Use .items instead.\n",
      "  for name, col in reset_index.iteritems():\n",
      "/home/rockhight/Documents/gitRepos/bigDataUdemyDataframe/koalas/venv/lib/python3.8/site-packages/databricks/koalas/internal.py:1430: FutureWarning: iteritems is deprecated and will be removed in a future version. Use .items instead.\n",
      "  for name, col in reset_index.iteritems():\n",
      "/home/rockhight/Documents/gitRepos/bigDataUdemyDataframe/koalas/venv/lib/python3.8/site-packages/databricks/koalas/internal.py:1430: FutureWarning: iteritems is deprecated and will be removed in a future version. Use .items instead.\n",
      "  for name, col in reset_index.iteritems():\n",
      "/home/rockhight/Documents/gitRepos/bigDataUdemyDataframe/koalas/venv/lib/python3.8/site-packages/databricks/koalas/internal.py:1430: FutureWarning: iteritems is deprecated and will be removed in a future version. Use .items instead.\n",
      "  for name, col in reset_index.iteritems():\n",
      "/home/rockhight/Documents/gitRepos/bigDataUdemyDataframe/koalas/venv/lib/python3.8/site-packages/databricks/koalas/internal.py:1430: FutureWarning: iteritems is deprecated and will be removed in a future version. Use .items instead.\n",
      "  for name, col in reset_index.iteritems():\n",
      "WARNING:root:Found pyspark version \"3.3.1\" installed. The pyspark version 3.2 and above has a built-in \"pandas APIs on Spark\" module ported from Koalas. Try `import pyspark.pandas as ps` instead. \n",
      "/home/rockhight/Documents/gitRepos/bigDataUdemyDataframe/koalas/venv/lib/python3.8/site-packages/databricks/koalas/internal.py:1430: FutureWarning: iteritems is deprecated and will be removed in a future version. Use .items instead.\n",
      "  for name, col in reset_index.iteritems():\n",
      "/home/rockhight/Documents/gitRepos/bigDataUdemyDataframe/koalas/venv/lib/python3.8/site-packages/databricks/koalas/internal.py:1430: FutureWarning: iteritems is deprecated and will be removed in a future version. Use .items instead.\n",
      "  for name, col in reset_index.iteritems():\n",
      "/home/rockhight/Documents/gitRepos/bigDataUdemyDataframe/koalas/venv/lib/python3.8/site-packages/databricks/koalas/internal.py:1430: FutureWarning: iteritems is deprecated and will be removed in a future version. Use .items instead.\n",
      "  for name, col in reset_index.iteritems():\n",
      "/home/rockhight/Documents/gitRepos/bigDataUdemyDataframe/koalas/venv/lib/python3.8/site-packages/databricks/koalas/internal.py:1430: FutureWarning: iteritems is deprecated and will be removed in a future version. Use .items instead.\n",
      "  for name, col in reset_index.iteritems():\n",
      "/home/rockhight/Documents/gitRepos/bigDataUdemyDataframe/koalas/venv/lib/python3.8/site-packages/databricks/koalas/internal.py:1430: FutureWarning: iteritems is deprecated and will be removed in a future version. Use .items instead.\n",
      "  for name, col in reset_index.iteritems():\n",
      "/home/rockhight/Documents/gitRepos/bigDataUdemyDataframe/koalas/venv/lib/python3.8/site-packages/databricks/koalas/internal.py:1430: FutureWarning: iteritems is deprecated and will be removed in a future version. Use .items instead.\n",
      "  for name, col in reset_index.iteritems():\n",
      "/home/rockhight/Documents/gitRepos/bigDataUdemyDataframe/koalas/venv/lib/python3.8/site-packages/databricks/koalas/internal.py:1430: FutureWarning: iteritems is deprecated and will be removed in a future version. Use .items instead.\n",
      "  for name, col in reset_index.iteritems():\n",
      "/home/rockhight/Documents/gitRepos/bigDataUdemyDataframe/koalas/venv/lib/python3.8/site-packages/databricks/koalas/internal.py:1430: FutureWarning: iteritems is deprecated and will be removed in a future version. Use .items instead.\n",
      "  for name, col in reset_index.iteritems():\n",
      "/home/rockhight/Documents/gitRepos/bigDataUdemyDataframe/koalas/venv/lib/python3.8/site-packages/databricks/koalas/internal.py:1430: FutureWarning: iteritems is deprecated and will be removed in a future version. Use .items instead.\n",
      "  for name, col in reset_index.iteritems():\n",
      "/home/rockhight/Documents/gitRepos/bigDataUdemyDataframe/koalas/venv/lib/python3.8/site-packages/databricks/koalas/internal.py:1430: FutureWarning: iteritems is deprecated and will be removed in a future version. Use .items instead.\n",
      "  for name, col in reset_index.iteritems():\n",
      "/home/rockhight/Documents/gitRepos/bigDataUdemyDataframe/koalas/venv/lib/python3.8/site-packages/databricks/koalas/internal.py:1430: FutureWarning: iteritems is deprecated and will be removed in a future version. Use .items instead.\n",
      "  for name, col in reset_index.iteritems():\n",
      "/home/rockhight/Documents/gitRepos/bigDataUdemyDataframe/koalas/venv/lib/python3.8/site-packages/databricks/koalas/internal.py:1430: FutureWarning: iteritems is deprecated and will be removed in a future version. Use .items instead.\n",
      "  for name, col in reset_index.iteritems():\n",
      "/home/rockhight/Documents/gitRepos/bigDataUdemyDataframe/koalas/venv/lib/python3.8/site-packages/databricks/koalas/internal.py:1430: FutureWarning: iteritems is deprecated and will be removed in a future version. Use .items instead.\n",
      "  for name, col in reset_index.iteritems():\n"
     ]
    },
    {
     "name": "stdout",
     "output_type": "stream",
     "text": [
      "23/01/02 04:20:27 WARN WindowExec: No Partition Defined for Window operation! Moving all data to a single partition, this can cause serious performance degradation.\n",
      "23/01/02 04:20:27 WARN WindowExec: No Partition Defined for Window operation! Moving all data to a single partition, this can cause serious performance degradation.\n",
      "23/01/02 04:20:27 WARN WindowExec: No Partition Defined for Window operation! Moving all data to a single partition, this can cause serious performance degradation.\n",
      "23/01/02 04:20:27 WARN WindowExec: No Partition Defined for Window operation! Moving all data to a single partition, this can cause serious performance degradation.\n"
     ]
    },
    {
     "name": "stderr",
     "output_type": "stream",
     "text": [
      "/home/rockhight/Documents/gitRepos/bigDataUdemyDataframe/koalas/venv/lib/python3.8/site-packages/databricks/koalas/internal.py:1430: FutureWarning: iteritems is deprecated and will be removed in a future version. Use .items instead.\n",
      "  for name, col in reset_index.iteritems():\n",
      "/home/rockhight/Documents/gitRepos/bigDataUdemyDataframe/koalas/venv/lib/python3.8/site-packages/databricks/koalas/internal.py:1430: FutureWarning: iteritems is deprecated and will be removed in a future version. Use .items instead.\n",
      "  for name, col in reset_index.iteritems():\n",
      "/home/rockhight/Documents/gitRepos/bigDataUdemyDataframe/koalas/venv/lib/python3.8/site-packages/databricks/koalas/internal.py:1430: FutureWarning: iteritems is deprecated and will be removed in a future version. Use .items instead.\n",
      "  for name, col in reset_index.iteritems():\n",
      "/home/rockhight/Documents/gitRepos/bigDataUdemyDataframe/koalas/venv/lib/python3.8/site-packages/databricks/koalas/internal.py:1430: FutureWarning: iteritems is deprecated and will be removed in a future version. Use .items instead.\n",
      "  for name, col in reset_index.iteritems():\n",
      "/home/rockhight/Documents/gitRepos/bigDataUdemyDataframe/koalas/venv/lib/python3.8/site-packages/databricks/koalas/internal.py:1430: FutureWarning: iteritems is deprecated and will be removed in a future version. Use .items instead.\n",
      "  for name, col in reset_index.iteritems():\n",
      "/home/rockhight/Documents/gitRepos/bigDataUdemyDataframe/koalas/venv/lib/python3.8/site-packages/databricks/koalas/internal.py:1430: FutureWarning: iteritems is deprecated and will be removed in a future version. Use .items instead.\n",
      "  for name, col in reset_index.iteritems():\n",
      "/home/rockhight/Documents/gitRepos/bigDataUdemyDataframe/koalas/venv/lib/python3.8/site-packages/databricks/koalas/internal.py:1430: FutureWarning: iteritems is deprecated and will be removed in a future version. Use .items instead.\n",
      "  for name, col in reset_index.iteritems():\n",
      "/home/rockhight/Documents/gitRepos/bigDataUdemyDataframe/koalas/venv/lib/python3.8/site-packages/databricks/koalas/internal.py:1430: FutureWarning: iteritems is deprecated and will be removed in a future version. Use .items instead.\n",
      "  for name, col in reset_index.iteritems():\n",
      "/home/rockhight/Documents/gitRepos/bigDataUdemyDataframe/koalas/venv/lib/python3.8/site-packages/databricks/koalas/internal.py:1430: FutureWarning: iteritems is deprecated and will be removed in a future version. Use .items instead.\n",
      "  for name, col in reset_index.iteritems():\n",
      "/home/rockhight/Documents/gitRepos/bigDataUdemyDataframe/koalas/venv/lib/python3.8/site-packages/databricks/koalas/internal.py:1430: FutureWarning: iteritems is deprecated and will be removed in a future version. Use .items instead.\n",
      "  for name, col in reset_index.iteritems():\n",
      "                                                                                \r"
     ]
    },
    {
     "data": {
      "text/html": [
       "<div>\n",
       "<style scoped>\n",
       "    .dataframe tbody tr th:only-of-type {\n",
       "        vertical-align: middle;\n",
       "    }\n",
       "\n",
       "    .dataframe tbody tr th {\n",
       "        vertical-align: top;\n",
       "    }\n",
       "\n",
       "    .dataframe thead th {\n",
       "        text-align: right;\n",
       "    }\n",
       "</style>\n",
       "<table border=\"1\" class=\"dataframe\">\n",
       "  <thead>\n",
       "    <tr style=\"text-align: right;\">\n",
       "      <th></th>\n",
       "      <th>avg_num_subscribers</th>\n",
       "      <th>avg_rating</th>\n",
       "      <th>avg_price</th>\n",
       "    </tr>\n",
       "  </thead>\n",
       "  <tbody>\n",
       "    <tr>\n",
       "      <th>count</th>\n",
       "      <td>13586.000000</td>\n",
       "      <td>13586.000000</td>\n",
       "      <td>13586.000000</td>\n",
       "    </tr>\n",
       "    <tr>\n",
       "      <th>mean</th>\n",
       "      <td>2789.077010</td>\n",
       "      <td>3.558307</td>\n",
       "      <td>62.988251</td>\n",
       "    </tr>\n",
       "    <tr>\n",
       "      <th>std</th>\n",
       "      <td>9472.286815</td>\n",
       "      <td>1.490966</td>\n",
       "      <td>119.943831</td>\n",
       "    </tr>\n",
       "    <tr>\n",
       "      <th>min</th>\n",
       "      <td>0.000000</td>\n",
       "      <td>0.000000</td>\n",
       "      <td>0.000000</td>\n",
       "    </tr>\n",
       "    <tr>\n",
       "      <th>25%</th>\n",
       "      <td>27.000000</td>\n",
       "      <td>3.425000</td>\n",
       "      <td>19.990000</td>\n",
       "    </tr>\n",
       "    <tr>\n",
       "      <th>50%</th>\n",
       "      <td>306.000000</td>\n",
       "      <td>4.137412</td>\n",
       "      <td>24.990000</td>\n",
       "    </tr>\n",
       "    <tr>\n",
       "      <th>75%</th>\n",
       "      <td>1871.333333</td>\n",
       "      <td>4.500000</td>\n",
       "      <td>64.990000</td>\n",
       "    </tr>\n",
       "    <tr>\n",
       "      <th>max</th>\n",
       "      <td>294159.000000</td>\n",
       "      <td>5.000000</td>\n",
       "      <td>999.000000</td>\n",
       "    </tr>\n",
       "  </tbody>\n",
       "</table>\n",
       "</div>"
      ],
      "text/plain": [
       "       avg_num_subscribers    avg_rating     avg_price\n",
       "count         13586.000000  13586.000000  13586.000000\n",
       "mean           2789.077010      3.558307     62.988251\n",
       "std            9472.286815      1.490966    119.943831\n",
       "min               0.000000      0.000000      0.000000\n",
       "25%              27.000000      3.425000     19.990000\n",
       "50%             306.000000      4.137412     24.990000\n",
       "75%            1871.333333      4.500000     64.990000\n",
       "max          294159.000000      5.000000    999.000000"
      ]
     },
     "execution_count": 99,
     "metadata": {},
     "output_type": "execute_result"
    }
   ],
   "source": [
    "unk_instructors.describe()"
   ]
  },
  {
   "cell_type": "code",
   "execution_count": 100,
   "id": "59f0709a",
   "metadata": {},
   "outputs": [
    {
     "name": "stdout",
     "output_type": "stream",
     "text": [
      "23/01/02 04:20:28 WARN WindowExec: No Partition Defined for Window operation! Moving all data to a single partition, this can cause serious performance degradation.\n",
      "23/01/02 04:20:28 WARN WindowExec: No Partition Defined for Window operation! Moving all data to a single partition, this can cause serious performance degradation.\n",
      "23/01/02 04:20:28 WARN WindowExec: No Partition Defined for Window operation! Moving all data to a single partition, this can cause serious performance degradation.\n",
      "23/01/02 04:20:28 WARN WindowExec: No Partition Defined for Window operation! Moving all data to a single partition, this can cause serious performance degradation.\n",
      "23/01/02 04:20:28 WARN WindowExec: No Partition Defined for Window operation! Moving all data to a single partition, this can cause serious performance degradation.\n",
      "23/01/02 04:20:28 WARN WindowExec: No Partition Defined for Window operation! Moving all data to a single partition, this can cause serious performance degradation.\n",
      "23/01/02 04:20:28 WARN WindowExec: No Partition Defined for Window operation! Moving all data to a single partition, this can cause serious performance degradation.\n",
      "23/01/02 04:20:28 WARN WindowExec: No Partition Defined for Window operation! Moving all data to a single partition, this can cause serious performance degradation.\n"
     ]
    },
    {
     "name": "stderr",
     "output_type": "stream",
     "text": [
      "/home/rockhight/Documents/gitRepos/bigDataUdemyDataframe/koalas/venv/lib/python3.8/site-packages/databricks/koalas/internal.py:1430: FutureWarning: iteritems is deprecated and will be removed in a future version. Use .items instead.\n",
      "  for name, col in reset_index.iteritems():\n",
      "/home/rockhight/Documents/gitRepos/bigDataUdemyDataframe/koalas/venv/lib/python3.8/site-packages/databricks/koalas/internal.py:1430: FutureWarning: iteritems is deprecated and will be removed in a future version. Use .items instead.\n",
      "  for name, col in reset_index.iteritems():\n",
      "/home/rockhight/Documents/gitRepos/bigDataUdemyDataframe/koalas/venv/lib/python3.8/site-packages/databricks/koalas/internal.py:1430: FutureWarning: iteritems is deprecated and will be removed in a future version. Use .items instead.\n",
      "  for name, col in reset_index.iteritems():\n",
      "/home/rockhight/Documents/gitRepos/bigDataUdemyDataframe/koalas/venv/lib/python3.8/site-packages/databricks/koalas/internal.py:1430: FutureWarning: iteritems is deprecated and will be removed in a future version. Use .items instead.\n",
      "  for name, col in reset_index.iteritems():\n",
      "/home/rockhight/Documents/gitRepos/bigDataUdemyDataframe/koalas/venv/lib/python3.8/site-packages/databricks/koalas/internal.py:1430: FutureWarning: iteritems is deprecated and will be removed in a future version. Use .items instead.\n",
      "  for name, col in reset_index.iteritems():\n",
      "/home/rockhight/Documents/gitRepos/bigDataUdemyDataframe/koalas/venv/lib/python3.8/site-packages/databricks/koalas/internal.py:1430: FutureWarning: iteritems is deprecated and will be removed in a future version. Use .items instead.\n",
      "  for name, col in reset_index.iteritems():\n",
      "/home/rockhight/Documents/gitRepos/bigDataUdemyDataframe/koalas/venv/lib/python3.8/site-packages/databricks/koalas/internal.py:1430: FutureWarning: iteritems is deprecated and will be removed in a future version. Use .items instead.\n",
      "  for name, col in reset_index.iteritems():\n",
      "/home/rockhight/Documents/gitRepos/bigDataUdemyDataframe/koalas/venv/lib/python3.8/site-packages/databricks/koalas/internal.py:1430: FutureWarning: iteritems is deprecated and will be removed in a future version. Use .items instead.\n",
      "  for name, col in reset_index.iteritems():\n",
      "/home/rockhight/Documents/gitRepos/bigDataUdemyDataframe/koalas/venv/lib/python3.8/site-packages/databricks/koalas/internal.py:1430: FutureWarning: iteritems is deprecated and will be removed in a future version. Use .items instead.\n",
      "  for name, col in reset_index.iteritems():\n",
      "/home/rockhight/Documents/gitRepos/bigDataUdemyDataframe/koalas/venv/lib/python3.8/site-packages/databricks/koalas/internal.py:1430: FutureWarning: iteritems is deprecated and will be removed in a future version. Use .items instead.\n",
      "  for name, col in reset_index.iteritems():\n",
      "/home/rockhight/Documents/gitRepos/bigDataUdemyDataframe/koalas/venv/lib/python3.8/site-packages/databricks/koalas/internal.py:1430: FutureWarning: iteritems is deprecated and will be removed in a future version. Use .items instead.\n",
      "  for name, col in reset_index.iteritems():\n",
      "/home/rockhight/Documents/gitRepos/bigDataUdemyDataframe/koalas/venv/lib/python3.8/site-packages/databricks/koalas/internal.py:1430: FutureWarning: iteritems is deprecated and will be removed in a future version. Use .items instead.\n",
      "  for name, col in reset_index.iteritems():\n",
      "/home/rockhight/Documents/gitRepos/bigDataUdemyDataframe/koalas/venv/lib/python3.8/site-packages/databricks/koalas/internal.py:1430: FutureWarning: iteritems is deprecated and will be removed in a future version. Use .items instead.\n",
      "  for name, col in reset_index.iteritems():\n",
      "/home/rockhight/Documents/gitRepos/bigDataUdemyDataframe/koalas/venv/lib/python3.8/site-packages/databricks/koalas/internal.py:1430: FutureWarning: iteritems is deprecated and will be removed in a future version. Use .items instead.\n",
      "  for name, col in reset_index.iteritems():\n",
      "/home/rockhight/Documents/gitRepos/bigDataUdemyDataframe/koalas/venv/lib/python3.8/site-packages/databricks/koalas/internal.py:1430: FutureWarning: iteritems is deprecated and will be removed in a future version. Use .items instead.\n",
      "  for name, col in reset_index.iteritems():\n",
      "/home/rockhight/Documents/gitRepos/bigDataUdemyDataframe/koalas/venv/lib/python3.8/site-packages/databricks/koalas/internal.py:1430: FutureWarning: iteritems is deprecated and will be removed in a future version. Use .items instead.\n",
      "  for name, col in reset_index.iteritems():\n",
      "/home/rockhight/Documents/gitRepos/bigDataUdemyDataframe/koalas/venv/lib/python3.8/site-packages/databricks/koalas/internal.py:1430: FutureWarning: iteritems is deprecated and will be removed in a future version. Use .items instead.\n",
      "  for name, col in reset_index.iteritems():\n",
      "/home/rockhight/Documents/gitRepos/bigDataUdemyDataframe/koalas/venv/lib/python3.8/site-packages/databricks/koalas/internal.py:1430: FutureWarning: iteritems is deprecated and will be removed in a future version. Use .items instead.\n",
      "  for name, col in reset_index.iteritems():\n",
      "/home/rockhight/Documents/gitRepos/bigDataUdemyDataframe/koalas/venv/lib/python3.8/site-packages/databricks/koalas/internal.py:1430: FutureWarning: iteritems is deprecated and will be removed in a future version. Use .items instead.\n",
      "  for name, col in reset_index.iteritems():\n",
      "/home/rockhight/Documents/gitRepos/bigDataUdemyDataframe/koalas/venv/lib/python3.8/site-packages/databricks/koalas/internal.py:1430: FutureWarning: iteritems is deprecated and will be removed in a future version. Use .items instead.\n",
      "  for name, col in reset_index.iteritems():\n",
      "/home/rockhight/Documents/gitRepos/bigDataUdemyDataframe/koalas/venv/lib/python3.8/site-packages/databricks/koalas/internal.py:1430: FutureWarning: iteritems is deprecated and will be removed in a future version. Use .items instead.\n",
      "  for name, col in reset_index.iteritems():\n",
      "/home/rockhight/Documents/gitRepos/bigDataUdemyDataframe/koalas/venv/lib/python3.8/site-packages/databricks/koalas/internal.py:1430: FutureWarning: iteritems is deprecated and will be removed in a future version. Use .items instead.\n",
      "  for name, col in reset_index.iteritems():\n",
      "/home/rockhight/Documents/gitRepos/bigDataUdemyDataframe/koalas/venv/lib/python3.8/site-packages/databricks/koalas/internal.py:1430: FutureWarning: iteritems is deprecated and will be removed in a future version. Use .items instead.\n",
      "  for name, col in reset_index.iteritems():\n",
      "/home/rockhight/Documents/gitRepos/bigDataUdemyDataframe/koalas/venv/lib/python3.8/site-packages/databricks/koalas/internal.py:1430: FutureWarning: iteritems is deprecated and will be removed in a future version. Use .items instead.\n",
      "  for name, col in reset_index.iteritems():\n",
      "/home/rockhight/Documents/gitRepos/bigDataUdemyDataframe/koalas/venv/lib/python3.8/site-packages/databricks/koalas/internal.py:1430: FutureWarning: iteritems is deprecated and will be removed in a future version. Use .items instead.\n",
      "  for name, col in reset_index.iteritems():\n",
      "/home/rockhight/Documents/gitRepos/bigDataUdemyDataframe/koalas/venv/lib/python3.8/site-packages/databricks/koalas/internal.py:1430: FutureWarning: iteritems is deprecated and will be removed in a future version. Use .items instead.\n",
      "  for name, col in reset_index.iteritems():\n"
     ]
    },
    {
     "name": "stdout",
     "output_type": "stream",
     "text": [
      "23/01/02 04:20:28 WARN WindowExec: No Partition Defined for Window operation! Moving all data to a single partition, this can cause serious performance degradation.\n",
      "23/01/02 04:20:28 WARN WindowExec: No Partition Defined for Window operation! Moving all data to a single partition, this can cause serious performance degradation.\n",
      "23/01/02 04:20:28 WARN WindowExec: No Partition Defined for Window operation! Moving all data to a single partition, this can cause serious performance degradation.\n",
      "23/01/02 04:20:28 WARN WindowExec: No Partition Defined for Window operation! Moving all data to a single partition, this can cause serious performance degradation.\n"
     ]
    },
    {
     "name": "stderr",
     "output_type": "stream",
     "text": [
      "/home/rockhight/Documents/gitRepos/bigDataUdemyDataframe/koalas/venv/lib/python3.8/site-packages/databricks/koalas/internal.py:1430: FutureWarning: iteritems is deprecated and will be removed in a future version. Use .items instead.\n",
      "  for name, col in reset_index.iteritems():\n",
      "/home/rockhight/Documents/gitRepos/bigDataUdemyDataframe/koalas/venv/lib/python3.8/site-packages/databricks/koalas/internal.py:1430: FutureWarning: iteritems is deprecated and will be removed in a future version. Use .items instead.\n",
      "  for name, col in reset_index.iteritems():\n",
      "/home/rockhight/Documents/gitRepos/bigDataUdemyDataframe/koalas/venv/lib/python3.8/site-packages/databricks/koalas/internal.py:1430: FutureWarning: iteritems is deprecated and will be removed in a future version. Use .items instead.\n",
      "  for name, col in reset_index.iteritems():\n",
      "/home/rockhight/Documents/gitRepos/bigDataUdemyDataframe/koalas/venv/lib/python3.8/site-packages/databricks/koalas/internal.py:1430: FutureWarning: iteritems is deprecated and will be removed in a future version. Use .items instead.\n",
      "  for name, col in reset_index.iteritems():\n",
      "/home/rockhight/Documents/gitRepos/bigDataUdemyDataframe/koalas/venv/lib/python3.8/site-packages/databricks/koalas/internal.py:1430: FutureWarning: iteritems is deprecated and will be removed in a future version. Use .items instead.\n",
      "  for name, col in reset_index.iteritems():\n",
      "/home/rockhight/Documents/gitRepos/bigDataUdemyDataframe/koalas/venv/lib/python3.8/site-packages/databricks/koalas/internal.py:1430: FutureWarning: iteritems is deprecated and will be removed in a future version. Use .items instead.\n",
      "  for name, col in reset_index.iteritems():\n",
      "/home/rockhight/Documents/gitRepos/bigDataUdemyDataframe/koalas/venv/lib/python3.8/site-packages/databricks/koalas/internal.py:1430: FutureWarning: iteritems is deprecated and will be removed in a future version. Use .items instead.\n",
      "  for name, col in reset_index.iteritems():\n",
      "/home/rockhight/Documents/gitRepos/bigDataUdemyDataframe/koalas/venv/lib/python3.8/site-packages/databricks/koalas/internal.py:1430: FutureWarning: iteritems is deprecated and will be removed in a future version. Use .items instead.\n",
      "  for name, col in reset_index.iteritems():\n",
      "/home/rockhight/Documents/gitRepos/bigDataUdemyDataframe/koalas/venv/lib/python3.8/site-packages/databricks/koalas/internal.py:1430: FutureWarning: iteritems is deprecated and will be removed in a future version. Use .items instead.\n",
      "  for name, col in reset_index.iteritems():\n",
      "/home/rockhight/Documents/gitRepos/bigDataUdemyDataframe/koalas/venv/lib/python3.8/site-packages/databricks/koalas/internal.py:1430: FutureWarning: iteritems is deprecated and will be removed in a future version. Use .items instead.\n",
      "  for name, col in reset_index.iteritems():\n",
      "WARNING:root:Found pyspark version \"3.3.1\" installed. The pyspark version 3.2 and above has a built-in \"pandas APIs on Spark\" module ported from Koalas. Try `import pyspark.pandas as ps` instead. \n",
      "/home/rockhight/Documents/gitRepos/bigDataUdemyDataframe/koalas/venv/lib/python3.8/site-packages/databricks/koalas/internal.py:1430: FutureWarning: iteritems is deprecated and will be removed in a future version. Use .items instead.\n",
      "  for name, col in reset_index.iteritems():\n",
      "/home/rockhight/Documents/gitRepos/bigDataUdemyDataframe/koalas/venv/lib/python3.8/site-packages/databricks/koalas/internal.py:1430: FutureWarning: iteritems is deprecated and will be removed in a future version. Use .items instead.\n",
      "  for name, col in reset_index.iteritems():\n"
     ]
    },
    {
     "name": "stdout",
     "output_type": "stream",
     "text": [
      "0:00:01.462413\n"
     ]
    },
    {
     "name": "stderr",
     "output_type": "stream",
     "text": [
      "\r",
      "                                                                                \r"
     ]
    }
   ],
   "source": [
    "prev = datetime.datetime.now()\n",
    "# get all the unique names\n",
    "gbyname = unk_instructors.groupby('name').agg({'name':'count'})\n",
    "gbyname.rename(columns={'name':'count'},inplace=True)\n",
    "gbyname.describe()\n",
    "now = datetime.datetime.now()\n",
    "print(now - prev)"
   ]
  },
  {
   "cell_type": "code",
   "execution_count": 101,
   "id": "54eb42dd",
   "metadata": {},
   "outputs": [],
   "source": [
    "gbyname = gbyname.sort_values(by='count',ascending=False)"
   ]
  },
  {
   "cell_type": "code",
   "execution_count": 102,
   "id": "73767724",
   "metadata": {},
   "outputs": [
    {
     "name": "stdout",
     "output_type": "stream",
     "text": [
      "23/01/02 04:20:29 WARN WindowExec: No Partition Defined for Window operation! Moving all data to a single partition, this can cause serious performance degradation.\n",
      "23/01/02 04:20:29 WARN WindowExec: No Partition Defined for Window operation! Moving all data to a single partition, this can cause serious performance degradation.\n",
      "23/01/02 04:20:29 WARN WindowExec: No Partition Defined for Window operation! Moving all data to a single partition, this can cause serious performance degradation.\n",
      "23/01/02 04:20:29 WARN WindowExec: No Partition Defined for Window operation! Moving all data to a single partition, this can cause serious performance degradation.\n",
      "23/01/02 04:20:29 WARN WindowExec: No Partition Defined for Window operation! Moving all data to a single partition, this can cause serious performance degradation.\n",
      "23/01/02 04:20:29 WARN WindowExec: No Partition Defined for Window operation! Moving all data to a single partition, this can cause serious performance degradation.\n",
      "23/01/02 04:20:29 WARN WindowExec: No Partition Defined for Window operation! Moving all data to a single partition, this can cause serious performance degradation.\n",
      "23/01/02 04:20:29 WARN WindowExec: No Partition Defined for Window operation! Moving all data to a single partition, this can cause serious performance degradation.\n"
     ]
    },
    {
     "name": "stderr",
     "output_type": "stream",
     "text": [
      "/home/rockhight/Documents/gitRepos/bigDataUdemyDataframe/koalas/venv/lib/python3.8/site-packages/databricks/koalas/internal.py:1430: FutureWarning: iteritems is deprecated and will be removed in a future version. Use .items instead.\n",
      "  for name, col in reset_index.iteritems():\n",
      "/home/rockhight/Documents/gitRepos/bigDataUdemyDataframe/koalas/venv/lib/python3.8/site-packages/databricks/koalas/internal.py:1430: FutureWarning: iteritems is deprecated and will be removed in a future version. Use .items instead.\n",
      "  for name, col in reset_index.iteritems():\n",
      "/home/rockhight/Documents/gitRepos/bigDataUdemyDataframe/koalas/venv/lib/python3.8/site-packages/databricks/koalas/internal.py:1430: FutureWarning: iteritems is deprecated and will be removed in a future version. Use .items instead.\n",
      "  for name, col in reset_index.iteritems():\n",
      "/home/rockhight/Documents/gitRepos/bigDataUdemyDataframe/koalas/venv/lib/python3.8/site-packages/databricks/koalas/internal.py:1430: FutureWarning: iteritems is deprecated and will be removed in a future version. Use .items instead.\n",
      "  for name, col in reset_index.iteritems():\n",
      "/home/rockhight/Documents/gitRepos/bigDataUdemyDataframe/koalas/venv/lib/python3.8/site-packages/databricks/koalas/internal.py:1430: FutureWarning: iteritems is deprecated and will be removed in a future version. Use .items instead.\n",
      "  for name, col in reset_index.iteritems():\n",
      "/home/rockhight/Documents/gitRepos/bigDataUdemyDataframe/koalas/venv/lib/python3.8/site-packages/databricks/koalas/internal.py:1430: FutureWarning: iteritems is deprecated and will be removed in a future version. Use .items instead.\n",
      "  for name, col in reset_index.iteritems():\n",
      "/home/rockhight/Documents/gitRepos/bigDataUdemyDataframe/koalas/venv/lib/python3.8/site-packages/databricks/koalas/internal.py:1430: FutureWarning: iteritems is deprecated and will be removed in a future version. Use .items instead.\n",
      "  for name, col in reset_index.iteritems():\n",
      "/home/rockhight/Documents/gitRepos/bigDataUdemyDataframe/koalas/venv/lib/python3.8/site-packages/databricks/koalas/internal.py:1430: FutureWarning: iteritems is deprecated and will be removed in a future version. Use .items instead.\n",
      "  for name, col in reset_index.iteritems():\n",
      "/home/rockhight/Documents/gitRepos/bigDataUdemyDataframe/koalas/venv/lib/python3.8/site-packages/databricks/koalas/internal.py:1430: FutureWarning: iteritems is deprecated and will be removed in a future version. Use .items instead.\n",
      "  for name, col in reset_index.iteritems():\n",
      "/home/rockhight/Documents/gitRepos/bigDataUdemyDataframe/koalas/venv/lib/python3.8/site-packages/databricks/koalas/internal.py:1430: FutureWarning: iteritems is deprecated and will be removed in a future version. Use .items instead.\n",
      "  for name, col in reset_index.iteritems():\n",
      "/home/rockhight/Documents/gitRepos/bigDataUdemyDataframe/koalas/venv/lib/python3.8/site-packages/databricks/koalas/internal.py:1430: FutureWarning: iteritems is deprecated and will be removed in a future version. Use .items instead.\n",
      "  for name, col in reset_index.iteritems():\n",
      "/home/rockhight/Documents/gitRepos/bigDataUdemyDataframe/koalas/venv/lib/python3.8/site-packages/databricks/koalas/internal.py:1430: FutureWarning: iteritems is deprecated and will be removed in a future version. Use .items instead.\n",
      "  for name, col in reset_index.iteritems():\n",
      "/home/rockhight/Documents/gitRepos/bigDataUdemyDataframe/koalas/venv/lib/python3.8/site-packages/databricks/koalas/internal.py:1430: FutureWarning: iteritems is deprecated and will be removed in a future version. Use .items instead.\n",
      "  for name, col in reset_index.iteritems():\n",
      "/home/rockhight/Documents/gitRepos/bigDataUdemyDataframe/koalas/venv/lib/python3.8/site-packages/databricks/koalas/internal.py:1430: FutureWarning: iteritems is deprecated and will be removed in a future version. Use .items instead.\n",
      "  for name, col in reset_index.iteritems():\n",
      "/home/rockhight/Documents/gitRepos/bigDataUdemyDataframe/koalas/venv/lib/python3.8/site-packages/databricks/koalas/internal.py:1430: FutureWarning: iteritems is deprecated and will be removed in a future version. Use .items instead.\n",
      "  for name, col in reset_index.iteritems():\n",
      "/home/rockhight/Documents/gitRepos/bigDataUdemyDataframe/koalas/venv/lib/python3.8/site-packages/databricks/koalas/internal.py:1430: FutureWarning: iteritems is deprecated and will be removed in a future version. Use .items instead.\n",
      "  for name, col in reset_index.iteritems():\n",
      "/home/rockhight/Documents/gitRepos/bigDataUdemyDataframe/koalas/venv/lib/python3.8/site-packages/databricks/koalas/internal.py:1430: FutureWarning: iteritems is deprecated and will be removed in a future version. Use .items instead.\n",
      "  for name, col in reset_index.iteritems():\n",
      "/home/rockhight/Documents/gitRepos/bigDataUdemyDataframe/koalas/venv/lib/python3.8/site-packages/databricks/koalas/internal.py:1430: FutureWarning: iteritems is deprecated and will be removed in a future version. Use .items instead.\n",
      "  for name, col in reset_index.iteritems():\n",
      "/home/rockhight/Documents/gitRepos/bigDataUdemyDataframe/koalas/venv/lib/python3.8/site-packages/databricks/koalas/internal.py:1430: FutureWarning: iteritems is deprecated and will be removed in a future version. Use .items instead.\n",
      "  for name, col in reset_index.iteritems():\n",
      "/home/rockhight/Documents/gitRepos/bigDataUdemyDataframe/koalas/venv/lib/python3.8/site-packages/databricks/koalas/internal.py:1430: FutureWarning: iteritems is deprecated and will be removed in a future version. Use .items instead.\n",
      "  for name, col in reset_index.iteritems():\n",
      "/home/rockhight/Documents/gitRepos/bigDataUdemyDataframe/koalas/venv/lib/python3.8/site-packages/databricks/koalas/internal.py:1430: FutureWarning: iteritems is deprecated and will be removed in a future version. Use .items instead.\n",
      "  for name, col in reset_index.iteritems():\n",
      "/home/rockhight/Documents/gitRepos/bigDataUdemyDataframe/koalas/venv/lib/python3.8/site-packages/databricks/koalas/internal.py:1430: FutureWarning: iteritems is deprecated and will be removed in a future version. Use .items instead.\n",
      "  for name, col in reset_index.iteritems():\n",
      "/home/rockhight/Documents/gitRepos/bigDataUdemyDataframe/koalas/venv/lib/python3.8/site-packages/databricks/koalas/internal.py:1430: FutureWarning: iteritems is deprecated and will be removed in a future version. Use .items instead.\n",
      "  for name, col in reset_index.iteritems():\n",
      "/home/rockhight/Documents/gitRepos/bigDataUdemyDataframe/koalas/venv/lib/python3.8/site-packages/databricks/koalas/internal.py:1430: FutureWarning: iteritems is deprecated and will be removed in a future version. Use .items instead.\n",
      "  for name, col in reset_index.iteritems():\n",
      "/home/rockhight/Documents/gitRepos/bigDataUdemyDataframe/koalas/venv/lib/python3.8/site-packages/databricks/koalas/internal.py:1430: FutureWarning: iteritems is deprecated and will be removed in a future version. Use .items instead.\n",
      "  for name, col in reset_index.iteritems():\n",
      "/home/rockhight/Documents/gitRepos/bigDataUdemyDataframe/koalas/venv/lib/python3.8/site-packages/databricks/koalas/internal.py:1430: FutureWarning: iteritems is deprecated and will be removed in a future version. Use .items instead.\n",
      "  for name, col in reset_index.iteritems():\n"
     ]
    },
    {
     "name": "stdout",
     "output_type": "stream",
     "text": [
      "23/01/02 04:20:30 WARN WindowExec: No Partition Defined for Window operation! Moving all data to a single partition, this can cause serious performance degradation.\n",
      "23/01/02 04:20:30 WARN WindowExec: No Partition Defined for Window operation! Moving all data to a single partition, this can cause serious performance degradation.\n",
      "23/01/02 04:20:30 WARN WindowExec: No Partition Defined for Window operation! Moving all data to a single partition, this can cause serious performance degradation.\n",
      "23/01/02 04:20:30 WARN WindowExec: No Partition Defined for Window operation! Moving all data to a single partition, this can cause serious performance degradation.\n"
     ]
    },
    {
     "name": "stderr",
     "output_type": "stream",
     "text": [
      "/home/rockhight/Documents/gitRepos/bigDataUdemyDataframe/koalas/venv/lib/python3.8/site-packages/databricks/koalas/internal.py:1430: FutureWarning: iteritems is deprecated and will be removed in a future version. Use .items instead.\n",
      "  for name, col in reset_index.iteritems():\n",
      "/home/rockhight/Documents/gitRepos/bigDataUdemyDataframe/koalas/venv/lib/python3.8/site-packages/databricks/koalas/internal.py:1430: FutureWarning: iteritems is deprecated and will be removed in a future version. Use .items instead.\n",
      "  for name, col in reset_index.iteritems():\n",
      "/home/rockhight/Documents/gitRepos/bigDataUdemyDataframe/koalas/venv/lib/python3.8/site-packages/databricks/koalas/internal.py:1430: FutureWarning: iteritems is deprecated and will be removed in a future version. Use .items instead.\n",
      "  for name, col in reset_index.iteritems():\n",
      "/home/rockhight/Documents/gitRepos/bigDataUdemyDataframe/koalas/venv/lib/python3.8/site-packages/databricks/koalas/internal.py:1430: FutureWarning: iteritems is deprecated and will be removed in a future version. Use .items instead.\n",
      "  for name, col in reset_index.iteritems():\n",
      "/home/rockhight/Documents/gitRepos/bigDataUdemyDataframe/koalas/venv/lib/python3.8/site-packages/databricks/koalas/internal.py:1430: FutureWarning: iteritems is deprecated and will be removed in a future version. Use .items instead.\n",
      "  for name, col in reset_index.iteritems():\n",
      "/home/rockhight/Documents/gitRepos/bigDataUdemyDataframe/koalas/venv/lib/python3.8/site-packages/databricks/koalas/internal.py:1430: FutureWarning: iteritems is deprecated and will be removed in a future version. Use .items instead.\n",
      "  for name, col in reset_index.iteritems():\n",
      "/home/rockhight/Documents/gitRepos/bigDataUdemyDataframe/koalas/venv/lib/python3.8/site-packages/databricks/koalas/internal.py:1430: FutureWarning: iteritems is deprecated and will be removed in a future version. Use .items instead.\n",
      "  for name, col in reset_index.iteritems():\n",
      "/home/rockhight/Documents/gitRepos/bigDataUdemyDataframe/koalas/venv/lib/python3.8/site-packages/databricks/koalas/internal.py:1430: FutureWarning: iteritems is deprecated and will be removed in a future version. Use .items instead.\n",
      "  for name, col in reset_index.iteritems():\n",
      "/home/rockhight/Documents/gitRepos/bigDataUdemyDataframe/koalas/venv/lib/python3.8/site-packages/databricks/koalas/internal.py:1430: FutureWarning: iteritems is deprecated and will be removed in a future version. Use .items instead.\n",
      "  for name, col in reset_index.iteritems():\n",
      "/home/rockhight/Documents/gitRepos/bigDataUdemyDataframe/koalas/venv/lib/python3.8/site-packages/databricks/koalas/internal.py:1430: FutureWarning: iteritems is deprecated and will be removed in a future version. Use .items instead.\n",
      "  for name, col in reset_index.iteritems():\n",
      "/home/rockhight/Documents/gitRepos/bigDataUdemyDataframe/koalas/venv/lib/python3.8/site-packages/databricks/koalas/internal.py:1430: FutureWarning: iteritems is deprecated and will be removed in a future version. Use .items instead.\n",
      "  for name, col in reset_index.iteritems():\n",
      "/home/rockhight/Documents/gitRepos/bigDataUdemyDataframe/koalas/venv/lib/python3.8/site-packages/databricks/koalas/internal.py:1430: FutureWarning: iteritems is deprecated and will be removed in a future version. Use .items instead.\n",
      "  for name, col in reset_index.iteritems():\n"
     ]
    },
    {
     "data": {
      "text/html": [
       "<div>\n",
       "<style scoped>\n",
       "    .dataframe tbody tr th:only-of-type {\n",
       "        vertical-align: middle;\n",
       "    }\n",
       "\n",
       "    .dataframe tbody tr th {\n",
       "        vertical-align: top;\n",
       "    }\n",
       "\n",
       "    .dataframe thead th {\n",
       "        text-align: right;\n",
       "    }\n",
       "</style>\n",
       "<table border=\"1\" class=\"dataframe\">\n",
       "  <thead>\n",
       "    <tr style=\"text-align: right;\">\n",
       "      <th></th>\n",
       "      <th>count</th>\n",
       "    </tr>\n",
       "    <tr>\n",
       "      <th>name</th>\n",
       "      <th></th>\n",
       "    </tr>\n",
       "  </thead>\n",
       "  <tbody>\n",
       "    <tr>\n",
       "      <th>abhishek</th>\n",
       "      <td>55</td>\n",
       "    </tr>\n",
       "    <tr>\n",
       "      <th>gaurav</th>\n",
       "      <td>40</td>\n",
       "    </tr>\n",
       "    <tr>\n",
       "      <th>learn</th>\n",
       "      <td>37</td>\n",
       "    </tr>\n",
       "    <tr>\n",
       "      <th>tech</th>\n",
       "      <td>36</td>\n",
       "    </tr>\n",
       "    <tr>\n",
       "      <th>md</th>\n",
       "      <td>33</td>\n",
       "    </tr>\n",
       "  </tbody>\n",
       "</table>\n",
       "</div>"
      ],
      "text/plain": [
       "          count\n",
       "name           \n",
       "abhishek     55\n",
       "gaurav       40\n",
       "learn        37\n",
       "tech         36\n",
       "md           33"
      ]
     },
     "execution_count": 102,
     "metadata": {},
     "output_type": "execute_result"
    }
   ],
   "source": [
    "# se tendria que hacer una labor de identificarlos a mano o encontrar un diccionario en linea que contenga nombres de indios\n",
    "gbyname.head()"
   ]
  },
  {
   "cell_type": "code",
   "execution_count": 103,
   "id": "5da9b165",
   "metadata": {},
   "outputs": [],
   "source": [
    "known_instructors = instructors_df[instructors_df['gender'] != 'unknown']"
   ]
  },
  {
   "cell_type": "code",
   "execution_count": 104,
   "id": "4bd36565",
   "metadata": {},
   "outputs": [
    {
     "name": "stdout",
     "output_type": "stream",
     "text": [
      "23/01/02 04:20:30 WARN WindowExec: No Partition Defined for Window operation! Moving all data to a single partition, this can cause serious performance degradation.\n",
      "23/01/02 04:20:30 WARN WindowExec: No Partition Defined for Window operation! Moving all data to a single partition, this can cause serious performance degradation.\n",
      "23/01/02 04:20:30 WARN WindowExec: No Partition Defined for Window operation! Moving all data to a single partition, this can cause serious performance degradation.\n",
      "23/01/02 04:20:30 WARN WindowExec: No Partition Defined for Window operation! Moving all data to a single partition, this can cause serious performance degradation.\n",
      "23/01/02 04:20:30 WARN WindowExec: No Partition Defined for Window operation! Moving all data to a single partition, this can cause serious performance degradation.\n",
      "23/01/02 04:20:30 WARN WindowExec: No Partition Defined for Window operation! Moving all data to a single partition, this can cause serious performance degradation.\n",
      "23/01/02 04:20:30 WARN WindowExec: No Partition Defined for Window operation! Moving all data to a single partition, this can cause serious performance degradation.\n",
      "23/01/02 04:20:30 WARN WindowExec: No Partition Defined for Window operation! Moving all data to a single partition, this can cause serious performance degradation.\n"
     ]
    },
    {
     "name": "stderr",
     "output_type": "stream",
     "text": [
      "/home/rockhight/Documents/gitRepos/bigDataUdemyDataframe/koalas/venv/lib/python3.8/site-packages/databricks/koalas/internal.py:1430: FutureWarning: iteritems is deprecated and will be removed in a future version. Use .items instead.\n",
      "  for name, col in reset_index.iteritems():\n",
      "/home/rockhight/Documents/gitRepos/bigDataUdemyDataframe/koalas/venv/lib/python3.8/site-packages/databricks/koalas/internal.py:1430: FutureWarning: iteritems is deprecated and will be removed in a future version. Use .items instead.\n",
      "  for name, col in reset_index.iteritems():\n",
      "/home/rockhight/Documents/gitRepos/bigDataUdemyDataframe/koalas/venv/lib/python3.8/site-packages/databricks/koalas/internal.py:1430: FutureWarning: iteritems is deprecated and will be removed in a future version. Use .items instead.\n",
      "  for name, col in reset_index.iteritems():\n",
      "/home/rockhight/Documents/gitRepos/bigDataUdemyDataframe/koalas/venv/lib/python3.8/site-packages/databricks/koalas/internal.py:1430: FutureWarning: iteritems is deprecated and will be removed in a future version. Use .items instead.\n",
      "  for name, col in reset_index.iteritems():\n",
      "/home/rockhight/Documents/gitRepos/bigDataUdemyDataframe/koalas/venv/lib/python3.8/site-packages/databricks/koalas/internal.py:1430: FutureWarning: iteritems is deprecated and will be removed in a future version. Use .items instead.\n",
      "  for name, col in reset_index.iteritems():\n",
      "/home/rockhight/Documents/gitRepos/bigDataUdemyDataframe/koalas/venv/lib/python3.8/site-packages/databricks/koalas/internal.py:1430: FutureWarning: iteritems is deprecated and will be removed in a future version. Use .items instead.\n",
      "  for name, col in reset_index.iteritems():\n",
      "/home/rockhight/Documents/gitRepos/bigDataUdemyDataframe/koalas/venv/lib/python3.8/site-packages/databricks/koalas/internal.py:1430: FutureWarning: iteritems is deprecated and will be removed in a future version. Use .items instead.\n",
      "  for name, col in reset_index.iteritems():\n",
      "/home/rockhight/Documents/gitRepos/bigDataUdemyDataframe/koalas/venv/lib/python3.8/site-packages/databricks/koalas/internal.py:1430: FutureWarning: iteritems is deprecated and will be removed in a future version. Use .items instead.\n",
      "  for name, col in reset_index.iteritems():\n",
      "/home/rockhight/Documents/gitRepos/bigDataUdemyDataframe/koalas/venv/lib/python3.8/site-packages/databricks/koalas/internal.py:1430: FutureWarning: iteritems is deprecated and will be removed in a future version. Use .items instead.\n",
      "  for name, col in reset_index.iteritems():\n",
      "/home/rockhight/Documents/gitRepos/bigDataUdemyDataframe/koalas/venv/lib/python3.8/site-packages/databricks/koalas/internal.py:1430: FutureWarning: iteritems is deprecated and will be removed in a future version. Use .items instead.\n",
      "  for name, col in reset_index.iteritems():\n",
      "/home/rockhight/Documents/gitRepos/bigDataUdemyDataframe/koalas/venv/lib/python3.8/site-packages/databricks/koalas/internal.py:1430: FutureWarning: iteritems is deprecated and will be removed in a future version. Use .items instead.\n",
      "  for name, col in reset_index.iteritems():\n",
      "/home/rockhight/Documents/gitRepos/bigDataUdemyDataframe/koalas/venv/lib/python3.8/site-packages/databricks/koalas/internal.py:1430: FutureWarning: iteritems is deprecated and will be removed in a future version. Use .items instead.\n",
      "  for name, col in reset_index.iteritems():\n",
      "/home/rockhight/Documents/gitRepos/bigDataUdemyDataframe/koalas/venv/lib/python3.8/site-packages/databricks/koalas/internal.py:1430: FutureWarning: iteritems is deprecated and will be removed in a future version. Use .items instead.\n",
      "  for name, col in reset_index.iteritems():\n",
      "/home/rockhight/Documents/gitRepos/bigDataUdemyDataframe/koalas/venv/lib/python3.8/site-packages/databricks/koalas/internal.py:1430: FutureWarning: iteritems is deprecated and will be removed in a future version. Use .items instead.\n",
      "  for name, col in reset_index.iteritems():\n",
      "/home/rockhight/Documents/gitRepos/bigDataUdemyDataframe/koalas/venv/lib/python3.8/site-packages/databricks/koalas/internal.py:1430: FutureWarning: iteritems is deprecated and will be removed in a future version. Use .items instead.\n",
      "  for name, col in reset_index.iteritems():\n",
      "/home/rockhight/Documents/gitRepos/bigDataUdemyDataframe/koalas/venv/lib/python3.8/site-packages/databricks/koalas/internal.py:1430: FutureWarning: iteritems is deprecated and will be removed in a future version. Use .items instead.\n",
      "  for name, col in reset_index.iteritems():\n",
      "/home/rockhight/Documents/gitRepos/bigDataUdemyDataframe/koalas/venv/lib/python3.8/site-packages/databricks/koalas/internal.py:1430: FutureWarning: iteritems is deprecated and will be removed in a future version. Use .items instead.\n",
      "  for name, col in reset_index.iteritems():\n",
      "/home/rockhight/Documents/gitRepos/bigDataUdemyDataframe/koalas/venv/lib/python3.8/site-packages/databricks/koalas/internal.py:1430: FutureWarning: iteritems is deprecated and will be removed in a future version. Use .items instead.\n",
      "  for name, col in reset_index.iteritems():\n",
      "/home/rockhight/Documents/gitRepos/bigDataUdemyDataframe/koalas/venv/lib/python3.8/site-packages/databricks/koalas/internal.py:1430: FutureWarning: iteritems is deprecated and will be removed in a future version. Use .items instead.\n",
      "  for name, col in reset_index.iteritems():\n",
      "/home/rockhight/Documents/gitRepos/bigDataUdemyDataframe/koalas/venv/lib/python3.8/site-packages/databricks/koalas/internal.py:1430: FutureWarning: iteritems is deprecated and will be removed in a future version. Use .items instead.\n",
      "  for name, col in reset_index.iteritems():\n",
      "/home/rockhight/Documents/gitRepos/bigDataUdemyDataframe/koalas/venv/lib/python3.8/site-packages/databricks/koalas/internal.py:1430: FutureWarning: iteritems is deprecated and will be removed in a future version. Use .items instead.\n",
      "  for name, col in reset_index.iteritems():\n",
      "/home/rockhight/Documents/gitRepos/bigDataUdemyDataframe/koalas/venv/lib/python3.8/site-packages/databricks/koalas/internal.py:1430: FutureWarning: iteritems is deprecated and will be removed in a future version. Use .items instead.\n",
      "  for name, col in reset_index.iteritems():\n",
      "/home/rockhight/Documents/gitRepos/bigDataUdemyDataframe/koalas/venv/lib/python3.8/site-packages/databricks/koalas/internal.py:1430: FutureWarning: iteritems is deprecated and will be removed in a future version. Use .items instead.\n",
      "  for name, col in reset_index.iteritems():\n",
      "/home/rockhight/Documents/gitRepos/bigDataUdemyDataframe/koalas/venv/lib/python3.8/site-packages/databricks/koalas/internal.py:1430: FutureWarning: iteritems is deprecated and will be removed in a future version. Use .items instead.\n",
      "  for name, col in reset_index.iteritems():\n",
      "/home/rockhight/Documents/gitRepos/bigDataUdemyDataframe/koalas/venv/lib/python3.8/site-packages/databricks/koalas/internal.py:1430: FutureWarning: iteritems is deprecated and will be removed in a future version. Use .items instead.\n",
      "  for name, col in reset_index.iteritems():\n",
      "/home/rockhight/Documents/gitRepos/bigDataUdemyDataframe/koalas/venv/lib/python3.8/site-packages/databricks/koalas/internal.py:1430: FutureWarning: iteritems is deprecated and will be removed in a future version. Use .items instead.\n",
      "  for name, col in reset_index.iteritems():\n"
     ]
    },
    {
     "name": "stdout",
     "output_type": "stream",
     "text": [
      "23/01/02 04:20:31 WARN WindowExec: No Partition Defined for Window operation! Moving all data to a single partition, this can cause serious performance degradation.\n",
      "23/01/02 04:20:31 WARN WindowExec: No Partition Defined for Window operation! Moving all data to a single partition, this can cause serious performance degradation.\n",
      "23/01/02 04:20:31 WARN WindowExec: No Partition Defined for Window operation! Moving all data to a single partition, this can cause serious performance degradation.\n",
      "23/01/02 04:20:31 WARN WindowExec: No Partition Defined for Window operation! Moving all data to a single partition, this can cause serious performance degradation.\n"
     ]
    },
    {
     "name": "stderr",
     "output_type": "stream",
     "text": [
      "/home/rockhight/Documents/gitRepos/bigDataUdemyDataframe/koalas/venv/lib/python3.8/site-packages/databricks/koalas/internal.py:1430: FutureWarning: iteritems is deprecated and will be removed in a future version. Use .items instead.\n",
      "  for name, col in reset_index.iteritems():\n",
      "/home/rockhight/Documents/gitRepos/bigDataUdemyDataframe/koalas/venv/lib/python3.8/site-packages/databricks/koalas/internal.py:1430: FutureWarning: iteritems is deprecated and will be removed in a future version. Use .items instead.\n",
      "  for name, col in reset_index.iteritems():\n",
      "/home/rockhight/Documents/gitRepos/bigDataUdemyDataframe/koalas/venv/lib/python3.8/site-packages/databricks/koalas/internal.py:1430: FutureWarning: iteritems is deprecated and will be removed in a future version. Use .items instead.\n",
      "  for name, col in reset_index.iteritems():\n",
      "/home/rockhight/Documents/gitRepos/bigDataUdemyDataframe/koalas/venv/lib/python3.8/site-packages/databricks/koalas/internal.py:1430: FutureWarning: iteritems is deprecated and will be removed in a future version. Use .items instead.\n",
      "  for name, col in reset_index.iteritems():\n",
      "/home/rockhight/Documents/gitRepos/bigDataUdemyDataframe/koalas/venv/lib/python3.8/site-packages/databricks/koalas/internal.py:1430: FutureWarning: iteritems is deprecated and will be removed in a future version. Use .items instead.\n",
      "  for name, col in reset_index.iteritems():\n",
      "/home/rockhight/Documents/gitRepos/bigDataUdemyDataframe/koalas/venv/lib/python3.8/site-packages/databricks/koalas/internal.py:1430: FutureWarning: iteritems is deprecated and will be removed in a future version. Use .items instead.\n",
      "  for name, col in reset_index.iteritems():\n",
      "/home/rockhight/Documents/gitRepos/bigDataUdemyDataframe/koalas/venv/lib/python3.8/site-packages/databricks/koalas/internal.py:1430: FutureWarning: iteritems is deprecated and will be removed in a future version. Use .items instead.\n",
      "  for name, col in reset_index.iteritems():\n",
      "/home/rockhight/Documents/gitRepos/bigDataUdemyDataframe/koalas/venv/lib/python3.8/site-packages/databricks/koalas/internal.py:1430: FutureWarning: iteritems is deprecated and will be removed in a future version. Use .items instead.\n",
      "  for name, col in reset_index.iteritems():\n",
      "/home/rockhight/Documents/gitRepos/bigDataUdemyDataframe/koalas/venv/lib/python3.8/site-packages/databricks/koalas/internal.py:1430: FutureWarning: iteritems is deprecated and will be removed in a future version. Use .items instead.\n",
      "  for name, col in reset_index.iteritems():\n",
      "/home/rockhight/Documents/gitRepos/bigDataUdemyDataframe/koalas/venv/lib/python3.8/site-packages/databricks/koalas/internal.py:1430: FutureWarning: iteritems is deprecated and will be removed in a future version. Use .items instead.\n",
      "  for name, col in reset_index.iteritems():\n"
     ]
    },
    {
     "data": {
      "text/html": [
       "<div>\n",
       "<style scoped>\n",
       "    .dataframe tbody tr th:only-of-type {\n",
       "        vertical-align: middle;\n",
       "    }\n",
       "\n",
       "    .dataframe tbody tr th {\n",
       "        vertical-align: top;\n",
       "    }\n",
       "\n",
       "    .dataframe thead th {\n",
       "        text-align: right;\n",
       "    }\n",
       "</style>\n",
       "<table border=\"1\" class=\"dataframe\">\n",
       "  <thead>\n",
       "    <tr style=\"text-align: right;\">\n",
       "      <th></th>\n",
       "      <th>avg_num_subscribers</th>\n",
       "      <th>avg_rating</th>\n",
       "      <th>avg_price</th>\n",
       "    </tr>\n",
       "  </thead>\n",
       "  <tbody>\n",
       "    <tr>\n",
       "      <th>count</th>\n",
       "      <td>29101.000000</td>\n",
       "      <td>29101.000000</td>\n",
       "      <td>29101.000000</td>\n",
       "    </tr>\n",
       "    <tr>\n",
       "      <th>mean</th>\n",
       "      <td>2638.031215</td>\n",
       "      <td>3.697273</td>\n",
       "      <td>57.884448</td>\n",
       "    </tr>\n",
       "    <tr>\n",
       "      <th>std</th>\n",
       "      <td>10767.451304</td>\n",
       "      <td>1.481033</td>\n",
       "      <td>80.388481</td>\n",
       "    </tr>\n",
       "    <tr>\n",
       "      <th>min</th>\n",
       "      <td>0.000000</td>\n",
       "      <td>0.000000</td>\n",
       "      <td>0.000000</td>\n",
       "    </tr>\n",
       "    <tr>\n",
       "      <th>25%</th>\n",
       "      <td>28.500000</td>\n",
       "      <td>3.700000</td>\n",
       "      <td>19.990000</td>\n",
       "    </tr>\n",
       "    <tr>\n",
       "      <th>50%</th>\n",
       "      <td>264.500000</td>\n",
       "      <td>4.264286</td>\n",
       "      <td>29.990000</td>\n",
       "    </tr>\n",
       "    <tr>\n",
       "      <th>75%</th>\n",
       "      <td>1704.500000</td>\n",
       "      <td>4.550971</td>\n",
       "      <td>74.990000</td>\n",
       "    </tr>\n",
       "    <tr>\n",
       "      <th>max</th>\n",
       "      <td>601651.000000</td>\n",
       "      <td>5.000000</td>\n",
       "      <td>999.000000</td>\n",
       "    </tr>\n",
       "  </tbody>\n",
       "</table>\n",
       "</div>"
      ],
      "text/plain": [
       "       avg_num_subscribers    avg_rating     avg_price\n",
       "count         29101.000000  29101.000000  29101.000000\n",
       "mean           2638.031215      3.697273     57.884448\n",
       "std           10767.451304      1.481033     80.388481\n",
       "min               0.000000      0.000000      0.000000\n",
       "25%              28.500000      3.700000     19.990000\n",
       "50%             264.500000      4.264286     29.990000\n",
       "75%            1704.500000      4.550971     74.990000\n",
       "max          601651.000000      5.000000    999.000000"
      ]
     },
     "execution_count": 104,
     "metadata": {},
     "output_type": "execute_result"
    }
   ],
   "source": [
    "known_instructors.describe()"
   ]
  },
  {
   "cell_type": "code",
   "execution_count": 105,
   "id": "350e591e",
   "metadata": {},
   "outputs": [
    {
     "name": "stdout",
     "output_type": "stream",
     "text": [
      "23/01/02 04:20:31 WARN WindowExec: No Partition Defined for Window operation! Moving all data to a single partition, this can cause serious performance degradation.\n",
      "23/01/02 04:20:31 WARN WindowExec: No Partition Defined for Window operation! Moving all data to a single partition, this can cause serious performance degradation.\n",
      "23/01/02 04:20:31 WARN WindowExec: No Partition Defined for Window operation! Moving all data to a single partition, this can cause serious performance degradation.\n",
      "23/01/02 04:20:31 WARN WindowExec: No Partition Defined for Window operation! Moving all data to a single partition, this can cause serious performance degradation.\n",
      "23/01/02 04:20:31 WARN WindowExec: No Partition Defined for Window operation! Moving all data to a single partition, this can cause serious performance degradation.\n",
      "23/01/02 04:20:31 WARN WindowExec: No Partition Defined for Window operation! Moving all data to a single partition, this can cause serious performance degradation.\n",
      "23/01/02 04:20:31 WARN WindowExec: No Partition Defined for Window operation! Moving all data to a single partition, this can cause serious performance degradation.\n",
      "23/01/02 04:20:31 WARN WindowExec: No Partition Defined for Window operation! Moving all data to a single partition, this can cause serious performance degradation.\n",
      "23/01/02 04:20:31 WARN WindowExec: No Partition Defined for Window operation! Moving all data to a single partition, this can cause serious performance degradation.\n"
     ]
    },
    {
     "name": "stderr",
     "output_type": "stream",
     "text": [
      "/home/rockhight/Documents/gitRepos/bigDataUdemyDataframe/koalas/venv/lib/python3.8/site-packages/databricks/koalas/internal.py:1430: FutureWarning: iteritems is deprecated and will be removed in a future version. Use .items instead.\n",
      "  for name, col in reset_index.iteritems():\n",
      "/home/rockhight/Documents/gitRepos/bigDataUdemyDataframe/koalas/venv/lib/python3.8/site-packages/databricks/koalas/internal.py:1430: FutureWarning: iteritems is deprecated and will be removed in a future version. Use .items instead.\n",
      "  for name, col in reset_index.iteritems():\n",
      "/home/rockhight/Documents/gitRepos/bigDataUdemyDataframe/koalas/venv/lib/python3.8/site-packages/databricks/koalas/internal.py:1430: FutureWarning: iteritems is deprecated and will be removed in a future version. Use .items instead.\n",
      "  for name, col in reset_index.iteritems():\n",
      "/home/rockhight/Documents/gitRepos/bigDataUdemyDataframe/koalas/venv/lib/python3.8/site-packages/databricks/koalas/internal.py:1430: FutureWarning: iteritems is deprecated and will be removed in a future version. Use .items instead.\n",
      "  for name, col in reset_index.iteritems():\n",
      "/home/rockhight/Documents/gitRepos/bigDataUdemyDataframe/koalas/venv/lib/python3.8/site-packages/databricks/koalas/internal.py:1430: FutureWarning: iteritems is deprecated and will be removed in a future version. Use .items instead.\n",
      "  for name, col in reset_index.iteritems():\n",
      "/home/rockhight/Documents/gitRepos/bigDataUdemyDataframe/koalas/venv/lib/python3.8/site-packages/databricks/koalas/internal.py:1430: FutureWarning: iteritems is deprecated and will be removed in a future version. Use .items instead.\n",
      "  for name, col in reset_index.iteritems():\n",
      "/home/rockhight/Documents/gitRepos/bigDataUdemyDataframe/koalas/venv/lib/python3.8/site-packages/databricks/koalas/internal.py:1430: FutureWarning: iteritems is deprecated and will be removed in a future version. Use .items instead.\n",
      "  for name, col in reset_index.iteritems():\n",
      "/home/rockhight/Documents/gitRepos/bigDataUdemyDataframe/koalas/venv/lib/python3.8/site-packages/databricks/koalas/internal.py:1430: FutureWarning: iteritems is deprecated and will be removed in a future version. Use .items instead.\n",
      "  for name, col in reset_index.iteritems():\n",
      "/home/rockhight/Documents/gitRepos/bigDataUdemyDataframe/koalas/venv/lib/python3.8/site-packages/databricks/koalas/internal.py:1430: FutureWarning: iteritems is deprecated and will be removed in a future version. Use .items instead.\n",
      "  for name, col in reset_index.iteritems():\n",
      "/home/rockhight/Documents/gitRepos/bigDataUdemyDataframe/koalas/venv/lib/python3.8/site-packages/databricks/koalas/internal.py:1430: FutureWarning: iteritems is deprecated and will be removed in a future version. Use .items instead.\n",
      "  for name, col in reset_index.iteritems():\n",
      "/home/rockhight/Documents/gitRepos/bigDataUdemyDataframe/koalas/venv/lib/python3.8/site-packages/databricks/koalas/internal.py:1430: FutureWarning: iteritems is deprecated and will be removed in a future version. Use .items instead.\n",
      "  for name, col in reset_index.iteritems():\n",
      "/home/rockhight/Documents/gitRepos/bigDataUdemyDataframe/koalas/venv/lib/python3.8/site-packages/databricks/koalas/internal.py:1430: FutureWarning: iteritems is deprecated and will be removed in a future version. Use .items instead.\n",
      "  for name, col in reset_index.iteritems():\n",
      "/home/rockhight/Documents/gitRepos/bigDataUdemyDataframe/koalas/venv/lib/python3.8/site-packages/databricks/koalas/internal.py:1430: FutureWarning: iteritems is deprecated and will be removed in a future version. Use .items instead.\n",
      "  for name, col in reset_index.iteritems():\n",
      "/home/rockhight/Documents/gitRepos/bigDataUdemyDataframe/koalas/venv/lib/python3.8/site-packages/databricks/koalas/internal.py:1430: FutureWarning: iteritems is deprecated and will be removed in a future version. Use .items instead.\n",
      "  for name, col in reset_index.iteritems():\n",
      "/home/rockhight/Documents/gitRepos/bigDataUdemyDataframe/koalas/venv/lib/python3.8/site-packages/databricks/koalas/internal.py:1430: FutureWarning: iteritems is deprecated and will be removed in a future version. Use .items instead.\n",
      "  for name, col in reset_index.iteritems():\n",
      "/home/rockhight/Documents/gitRepos/bigDataUdemyDataframe/koalas/venv/lib/python3.8/site-packages/databricks/koalas/internal.py:1430: FutureWarning: iteritems is deprecated and will be removed in a future version. Use .items instead.\n",
      "  for name, col in reset_index.iteritems():\n",
      "/home/rockhight/Documents/gitRepos/bigDataUdemyDataframe/koalas/venv/lib/python3.8/site-packages/databricks/koalas/internal.py:1430: FutureWarning: iteritems is deprecated and will be removed in a future version. Use .items instead.\n",
      "  for name, col in reset_index.iteritems():\n",
      "/home/rockhight/Documents/gitRepos/bigDataUdemyDataframe/koalas/venv/lib/python3.8/site-packages/databricks/koalas/internal.py:1430: FutureWarning: iteritems is deprecated and will be removed in a future version. Use .items instead.\n",
      "  for name, col in reset_index.iteritems():\n",
      "/home/rockhight/Documents/gitRepos/bigDataUdemyDataframe/koalas/venv/lib/python3.8/site-packages/databricks/koalas/internal.py:1430: FutureWarning: iteritems is deprecated and will be removed in a future version. Use .items instead.\n",
      "  for name, col in reset_index.iteritems():\n",
      "/home/rockhight/Documents/gitRepos/bigDataUdemyDataframe/koalas/venv/lib/python3.8/site-packages/databricks/koalas/internal.py:1430: FutureWarning: iteritems is deprecated and will be removed in a future version. Use .items instead.\n",
      "  for name, col in reset_index.iteritems():\n",
      "/home/rockhight/Documents/gitRepos/bigDataUdemyDataframe/koalas/venv/lib/python3.8/site-packages/databricks/koalas/internal.py:1430: FutureWarning: iteritems is deprecated and will be removed in a future version. Use .items instead.\n",
      "  for name, col in reset_index.iteritems():\n",
      "/home/rockhight/Documents/gitRepos/bigDataUdemyDataframe/koalas/venv/lib/python3.8/site-packages/databricks/koalas/internal.py:1430: FutureWarning: iteritems is deprecated and will be removed in a future version. Use .items instead.\n",
      "  for name, col in reset_index.iteritems():\n",
      "/home/rockhight/Documents/gitRepos/bigDataUdemyDataframe/koalas/venv/lib/python3.8/site-packages/databricks/koalas/internal.py:1430: FutureWarning: iteritems is deprecated and will be removed in a future version. Use .items instead.\n",
      "  for name, col in reset_index.iteritems():\n",
      "/home/rockhight/Documents/gitRepos/bigDataUdemyDataframe/koalas/venv/lib/python3.8/site-packages/databricks/koalas/internal.py:1430: FutureWarning: iteritems is deprecated and will be removed in a future version. Use .items instead.\n",
      "  for name, col in reset_index.iteritems():\n",
      "/home/rockhight/Documents/gitRepos/bigDataUdemyDataframe/koalas/venv/lib/python3.8/site-packages/databricks/koalas/internal.py:1430: FutureWarning: iteritems is deprecated and will be removed in a future version. Use .items instead.\n",
      "  for name, col in reset_index.iteritems():\n",
      "/home/rockhight/Documents/gitRepos/bigDataUdemyDataframe/koalas/venv/lib/python3.8/site-packages/databricks/koalas/internal.py:1430: FutureWarning: iteritems is deprecated and will be removed in a future version. Use .items instead.\n",
      "  for name, col in reset_index.iteritems():\n"
     ]
    },
    {
     "name": "stdout",
     "output_type": "stream",
     "text": [
      "23/01/02 04:20:32 WARN WindowExec: No Partition Defined for Window operation! Moving all data to a single partition, this can cause serious performance degradation.\n",
      "23/01/02 04:20:32 WARN WindowExec: No Partition Defined for Window operation! Moving all data to a single partition, this can cause serious performance degradation.\n",
      "23/01/02 04:20:32 WARN WindowExec: No Partition Defined for Window operation! Moving all data to a single partition, this can cause serious performance degradation.\n",
      "23/01/02 04:20:32 WARN WindowExec: No Partition Defined for Window operation! Moving all data to a single partition, this can cause serious performance degradation.\n"
     ]
    },
    {
     "name": "stderr",
     "output_type": "stream",
     "text": [
      "/home/rockhight/Documents/gitRepos/bigDataUdemyDataframe/koalas/venv/lib/python3.8/site-packages/databricks/koalas/internal.py:1430: FutureWarning: iteritems is deprecated and will be removed in a future version. Use .items instead.\n",
      "  for name, col in reset_index.iteritems():\n",
      "/home/rockhight/Documents/gitRepos/bigDataUdemyDataframe/koalas/venv/lib/python3.8/site-packages/databricks/koalas/internal.py:1430: FutureWarning: iteritems is deprecated and will be removed in a future version. Use .items instead.\n",
      "  for name, col in reset_index.iteritems():\n",
      "/home/rockhight/Documents/gitRepos/bigDataUdemyDataframe/koalas/venv/lib/python3.8/site-packages/databricks/koalas/internal.py:1430: FutureWarning: iteritems is deprecated and will be removed in a future version. Use .items instead.\n",
      "  for name, col in reset_index.iteritems():\n",
      "/home/rockhight/Documents/gitRepos/bigDataUdemyDataframe/koalas/venv/lib/python3.8/site-packages/databricks/koalas/internal.py:1430: FutureWarning: iteritems is deprecated and will be removed in a future version. Use .items instead.\n",
      "  for name, col in reset_index.iteritems():\n",
      "/home/rockhight/Documents/gitRepos/bigDataUdemyDataframe/koalas/venv/lib/python3.8/site-packages/databricks/koalas/internal.py:1430: FutureWarning: iteritems is deprecated and will be removed in a future version. Use .items instead.\n",
      "  for name, col in reset_index.iteritems():\n",
      "/home/rockhight/Documents/gitRepos/bigDataUdemyDataframe/koalas/venv/lib/python3.8/site-packages/databricks/koalas/internal.py:1430: FutureWarning: iteritems is deprecated and will be removed in a future version. Use .items instead.\n",
      "  for name, col in reset_index.iteritems():\n",
      "/home/rockhight/Documents/gitRepos/bigDataUdemyDataframe/koalas/venv/lib/python3.8/site-packages/databricks/koalas/internal.py:1430: FutureWarning: iteritems is deprecated and will be removed in a future version. Use .items instead.\n",
      "  for name, col in reset_index.iteritems():\n",
      "/home/rockhight/Documents/gitRepos/bigDataUdemyDataframe/koalas/venv/lib/python3.8/site-packages/databricks/koalas/internal.py:1430: FutureWarning: iteritems is deprecated and will be removed in a future version. Use .items instead.\n",
      "  for name, col in reset_index.iteritems():\n",
      "/home/rockhight/Documents/gitRepos/bigDataUdemyDataframe/koalas/venv/lib/python3.8/site-packages/databricks/koalas/internal.py:1430: FutureWarning: iteritems is deprecated and will be removed in a future version. Use .items instead.\n",
      "  for name, col in reset_index.iteritems():\n",
      "/home/rockhight/Documents/gitRepos/bigDataUdemyDataframe/koalas/venv/lib/python3.8/site-packages/databricks/koalas/internal.py:1430: FutureWarning: iteritems is deprecated and will be removed in a future version. Use .items instead.\n",
      "  for name, col in reset_index.iteritems():\n",
      "/home/rockhight/Documents/gitRepos/bigDataUdemyDataframe/koalas/venv/lib/python3.8/site-packages/databricks/koalas/internal.py:1430: FutureWarning: iteritems is deprecated and will be removed in a future version. Use .items instead.\n",
      "  for name, col in reset_index.iteritems():\n",
      "/home/rockhight/Documents/gitRepos/bigDataUdemyDataframe/koalas/venv/lib/python3.8/site-packages/databricks/koalas/internal.py:1430: FutureWarning: iteritems is deprecated and will be removed in a future version. Use .items instead.\n",
      "  for name, col in reset_index.iteritems():\n",
      "/home/rockhight/Documents/gitRepos/bigDataUdemyDataframe/koalas/venv/lib/python3.8/site-packages/databricks/koalas/internal.py:1430: FutureWarning: iteritems is deprecated and will be removed in a future version. Use .items instead.\n",
      "  for name, col in reset_index.iteritems():\n",
      "WARNING:root:Found pyspark version \"3.3.1\" installed. The pyspark version 3.2 and above has a built-in \"pandas APIs on Spark\" module ported from Koalas. Try `import pyspark.pandas as ps` instead. \n",
      "/home/rockhight/Documents/gitRepos/bigDataUdemyDataframe/koalas/venv/lib/python3.8/site-packages/databricks/koalas/internal.py:1430: FutureWarning: iteritems is deprecated and will be removed in a future version. Use .items instead.\n",
      "  for name, col in reset_index.iteritems():\n",
      "/home/rockhight/Documents/gitRepos/bigDataUdemyDataframe/koalas/venv/lib/python3.8/site-packages/databricks/koalas/internal.py:1430: FutureWarning: iteritems is deprecated and will be removed in a future version. Use .items instead.\n",
      "  for name, col in reset_index.iteritems():\n",
      "/home/rockhight/Documents/gitRepos/bigDataUdemyDataframe/koalas/venv/lib/python3.8/site-packages/databricks/koalas/internal.py:1430: FutureWarning: iteritems is deprecated and will be removed in a future version. Use .items instead.\n",
      "  for name, col in reset_index.iteritems():\n"
     ]
    },
    {
     "data": {
      "text/html": [
       "<div>\n",
       "<style scoped>\n",
       "    .dataframe tbody tr th:only-of-type {\n",
       "        vertical-align: middle;\n",
       "    }\n",
       "\n",
       "    .dataframe tbody tr th {\n",
       "        vertical-align: top;\n",
       "    }\n",
       "\n",
       "    .dataframe thead th {\n",
       "        text-align: right;\n",
       "    }\n",
       "</style>\n",
       "<table border=\"1\" class=\"dataframe\">\n",
       "  <thead>\n",
       "    <tr style=\"text-align: right;\">\n",
       "      <th></th>\n",
       "      <th>username</th>\n",
       "      <th>name</th>\n",
       "      <th>avg_num_subscribers</th>\n",
       "      <th>avg_rating</th>\n",
       "      <th>avg_price</th>\n",
       "      <th>gender</th>\n",
       "    </tr>\n",
       "  </thead>\n",
       "  <tbody>\n",
       "    <tr>\n",
       "      <th>0</th>\n",
       "      <td>carolinejenkins</td>\n",
       "      <td>caroline</td>\n",
       "      <td>911.0</td>\n",
       "      <td>4.150000</td>\n",
       "      <td>49.99</td>\n",
       "      <td>female</td>\n",
       "    </tr>\n",
       "    <tr>\n",
       "      <th>1</th>\n",
       "      <td>jeremyschoemake</td>\n",
       "      <td>jeremy</td>\n",
       "      <td>16130.0</td>\n",
       "      <td>3.450000</td>\n",
       "      <td>27.49</td>\n",
       "      <td>male</td>\n",
       "    </tr>\n",
       "    <tr>\n",
       "      <th>2</th>\n",
       "      <td>markbailey</td>\n",
       "      <td>mark</td>\n",
       "      <td>193.0</td>\n",
       "      <td>4.825000</td>\n",
       "      <td>134.99</td>\n",
       "      <td>male</td>\n",
       "    </tr>\n",
       "    <tr>\n",
       "      <th>3</th>\n",
       "      <td>katyaseberso</td>\n",
       "      <td>katya</td>\n",
       "      <td>4855.0</td>\n",
       "      <td>4.372597</td>\n",
       "      <td>199.99</td>\n",
       "      <td>female</td>\n",
       "    </tr>\n",
       "    <tr>\n",
       "      <th>5</th>\n",
       "      <td>aaronnfletche</td>\n",
       "      <td>aaron</td>\n",
       "      <td>2434.0</td>\n",
       "      <td>4.150000</td>\n",
       "      <td>19.99</td>\n",
       "      <td>male</td>\n",
       "    </tr>\n",
       "  </tbody>\n",
       "</table>\n",
       "</div>"
      ],
      "text/plain": [
       "          username      name  avg_num_subscribers  avg_rating  avg_price  gender\n",
       "0  carolinejenkins  caroline                911.0    4.150000      49.99  female\n",
       "1  jeremyschoemake    jeremy              16130.0    3.450000      27.49    male\n",
       "2       markbailey      mark                193.0    4.825000     134.99    male\n",
       "3     katyaseberso     katya               4855.0    4.372597     199.99  female\n",
       "5    aaronnfletche     aaron               2434.0    4.150000      19.99    male"
      ]
     },
     "execution_count": 105,
     "metadata": {},
     "output_type": "execute_result"
    }
   ],
   "source": [
    "known_instructors.head()\n",
    "\n"
   ]
  },
  {
   "cell_type": "code",
   "execution_count": 106,
   "id": "2f6c498a",
   "metadata": {},
   "outputs": [
    {
     "data": {
      "text/html": [
       "        <script type=\"text/javascript\">\n",
       "        window.PlotlyConfig = {MathJaxConfig: 'local'};\n",
       "        if (window.MathJax && window.MathJax.Hub && window.MathJax.Hub.Config) {window.MathJax.Hub.Config({SVG: {font: \"STIX-Web\"}});}\n",
       "        if (typeof require !== 'undefined') {\n",
       "        require.undef(\"plotly\");\n",
       "        requirejs.config({\n",
       "            paths: {\n",
       "                'plotly': ['https://cdn.plot.ly/plotly-2.16.1.min']\n",
       "            }\n",
       "        });\n",
       "        require(['plotly'], function(Plotly) {\n",
       "            window._Plotly = Plotly;\n",
       "        });\n",
       "        }\n",
       "        </script>\n",
       "        "
      ]
     },
     "metadata": {},
     "output_type": "display_data"
    }
   ],
   "source": [
    "import matplotlib.pyplot as plt\n",
    "import seaborn as sns\n",
    "import pandas as pd\n",
    "import matplotlib.pyplot as plt # for importing matplotlib\n",
    "import plotly.offline as py # for importing plotly\n",
    "import cufflinks as cf\n",
    "cf.go_offline()\n",
    "import plotly.graph_objects as go\n",
    "import plotly.express as px\n",
    "import plotly.figure_factory as ff"
   ]
  },
  {
   "cell_type": "code",
   "execution_count": 107,
   "id": "ebcf5efd",
   "metadata": {},
   "outputs": [],
   "source": [
    "# the most succesfull according to sex\n",
    "avg_num_subscribers_per_gender_ks = known_instructors.groupby('gender').agg({'avg_num_subscribers':'mean'})"
   ]
  },
  {
   "cell_type": "code",
   "execution_count": 108,
   "id": "972d8edc",
   "metadata": {},
   "outputs": [],
   "source": [
    "avg_num_subscribers_per_gender_ks.reset_index(inplace=True)"
   ]
  },
  {
   "cell_type": "code",
   "execution_count": 109,
   "id": "065dc448",
   "metadata": {},
   "outputs": [
    {
     "name": "stdout",
     "output_type": "stream",
     "text": [
      "23/01/02 04:20:33 WARN WindowExec: No Partition Defined for Window operation! Moving all data to a single partition, this can cause serious performance degradation.\n",
      "23/01/02 04:20:33 WARN WindowExec: No Partition Defined for Window operation! Moving all data to a single partition, this can cause serious performance degradation.\n",
      "23/01/02 04:20:33 WARN WindowExec: No Partition Defined for Window operation! Moving all data to a single partition, this can cause serious performance degradation.\n",
      "23/01/02 04:20:33 WARN WindowExec: No Partition Defined for Window operation! Moving all data to a single partition, this can cause serious performance degradation.\n",
      "23/01/02 04:20:33 WARN WindowExec: No Partition Defined for Window operation! Moving all data to a single partition, this can cause serious performance degradation.\n",
      "23/01/02 04:20:33 WARN WindowExec: No Partition Defined for Window operation! Moving all data to a single partition, this can cause serious performance degradation.\n",
      "23/01/02 04:20:33 WARN WindowExec: No Partition Defined for Window operation! Moving all data to a single partition, this can cause serious performance degradation.\n",
      "23/01/02 04:20:33 WARN WindowExec: No Partition Defined for Window operation! Moving all data to a single partition, this can cause serious performance degradation.\n",
      "23/01/02 04:20:33 WARN WindowExec: No Partition Defined for Window operation! Moving all data to a single partition, this can cause serious performance degradation.\n",
      "23/01/02 04:20:33 WARN WindowExec: No Partition Defined for Window operation! Moving all data to a single partition, this can cause serious performance degradation.\n",
      "23/01/02 04:20:33 WARN WindowExec: No Partition Defined for Window operation! Moving all data to a single partition, this can cause serious performance degradation.\n",
      "23/01/02 04:20:33 WARN WindowExec: No Partition Defined for Window operation! Moving all data to a single partition, this can cause serious performance degradation.\n",
      "23/01/02 04:20:33 WARN WindowExec: No Partition Defined for Window operation! Moving all data to a single partition, this can cause serious performance degradation.\n"
     ]
    },
    {
     "name": "stderr",
     "output_type": "stream",
     "text": [
      "/home/rockhight/Documents/gitRepos/bigDataUdemyDataframe/koalas/venv/lib/python3.8/site-packages/databricks/koalas/internal.py:1430: FutureWarning: iteritems is deprecated and will be removed in a future version. Use .items instead.\n",
      "  for name, col in reset_index.iteritems():\n",
      "/home/rockhight/Documents/gitRepos/bigDataUdemyDataframe/koalas/venv/lib/python3.8/site-packages/databricks/koalas/internal.py:1430: FutureWarning: iteritems is deprecated and will be removed in a future version. Use .items instead.\n",
      "  for name, col in reset_index.iteritems():\n",
      "/home/rockhight/Documents/gitRepos/bigDataUdemyDataframe/koalas/venv/lib/python3.8/site-packages/databricks/koalas/internal.py:1430: FutureWarning: iteritems is deprecated and will be removed in a future version. Use .items instead.\n",
      "  for name, col in reset_index.iteritems():\n",
      "/home/rockhight/Documents/gitRepos/bigDataUdemyDataframe/koalas/venv/lib/python3.8/site-packages/databricks/koalas/internal.py:1430: FutureWarning: iteritems is deprecated and will be removed in a future version. Use .items instead.\n",
      "  for name, col in reset_index.iteritems():\n",
      "/home/rockhight/Documents/gitRepos/bigDataUdemyDataframe/koalas/venv/lib/python3.8/site-packages/databricks/koalas/internal.py:1430: FutureWarning: iteritems is deprecated and will be removed in a future version. Use .items instead.\n",
      "  for name, col in reset_index.iteritems():\n",
      "/home/rockhight/Documents/gitRepos/bigDataUdemyDataframe/koalas/venv/lib/python3.8/site-packages/databricks/koalas/internal.py:1430: FutureWarning: iteritems is deprecated and will be removed in a future version. Use .items instead.\n",
      "  for name, col in reset_index.iteritems():\n",
      "/home/rockhight/Documents/gitRepos/bigDataUdemyDataframe/koalas/venv/lib/python3.8/site-packages/databricks/koalas/internal.py:1430: FutureWarning: iteritems is deprecated and will be removed in a future version. Use .items instead.\n",
      "  for name, col in reset_index.iteritems():\n",
      "/home/rockhight/Documents/gitRepos/bigDataUdemyDataframe/koalas/venv/lib/python3.8/site-packages/databricks/koalas/internal.py:1430: FutureWarning: iteritems is deprecated and will be removed in a future version. Use .items instead.\n",
      "  for name, col in reset_index.iteritems():\n",
      "/home/rockhight/Documents/gitRepos/bigDataUdemyDataframe/koalas/venv/lib/python3.8/site-packages/databricks/koalas/internal.py:1430: FutureWarning: iteritems is deprecated and will be removed in a future version. Use .items instead.\n",
      "  for name, col in reset_index.iteritems():\n",
      "/home/rockhight/Documents/gitRepos/bigDataUdemyDataframe/koalas/venv/lib/python3.8/site-packages/databricks/koalas/internal.py:1430: FutureWarning: iteritems is deprecated and will be removed in a future version. Use .items instead.\n",
      "  for name, col in reset_index.iteritems():\n",
      "/home/rockhight/Documents/gitRepos/bigDataUdemyDataframe/koalas/venv/lib/python3.8/site-packages/databricks/koalas/internal.py:1430: FutureWarning: iteritems is deprecated and will be removed in a future version. Use .items instead.\n",
      "  for name, col in reset_index.iteritems():\n",
      "/home/rockhight/Documents/gitRepos/bigDataUdemyDataframe/koalas/venv/lib/python3.8/site-packages/databricks/koalas/internal.py:1430: FutureWarning: iteritems is deprecated and will be removed in a future version. Use .items instead.\n",
      "  for name, col in reset_index.iteritems():\n",
      "/home/rockhight/Documents/gitRepos/bigDataUdemyDataframe/koalas/venv/lib/python3.8/site-packages/databricks/koalas/internal.py:1430: FutureWarning: iteritems is deprecated and will be removed in a future version. Use .items instead.\n",
      "  for name, col in reset_index.iteritems():\n",
      "/home/rockhight/Documents/gitRepos/bigDataUdemyDataframe/koalas/venv/lib/python3.8/site-packages/databricks/koalas/internal.py:1430: FutureWarning: iteritems is deprecated and will be removed in a future version. Use .items instead.\n",
      "  for name, col in reset_index.iteritems():\n",
      "/home/rockhight/Documents/gitRepos/bigDataUdemyDataframe/koalas/venv/lib/python3.8/site-packages/databricks/koalas/internal.py:1430: FutureWarning: iteritems is deprecated and will be removed in a future version. Use .items instead.\n",
      "  for name, col in reset_index.iteritems():\n",
      "/home/rockhight/Documents/gitRepos/bigDataUdemyDataframe/koalas/venv/lib/python3.8/site-packages/databricks/koalas/internal.py:1430: FutureWarning: iteritems is deprecated and will be removed in a future version. Use .items instead.\n",
      "  for name, col in reset_index.iteritems():\n",
      "/home/rockhight/Documents/gitRepos/bigDataUdemyDataframe/koalas/venv/lib/python3.8/site-packages/databricks/koalas/internal.py:1430: FutureWarning: iteritems is deprecated and will be removed in a future version. Use .items instead.\n",
      "  for name, col in reset_index.iteritems():\n",
      "/home/rockhight/Documents/gitRepos/bigDataUdemyDataframe/koalas/venv/lib/python3.8/site-packages/databricks/koalas/internal.py:1430: FutureWarning: iteritems is deprecated and will be removed in a future version. Use .items instead.\n",
      "  for name, col in reset_index.iteritems():\n",
      "/home/rockhight/Documents/gitRepos/bigDataUdemyDataframe/koalas/venv/lib/python3.8/site-packages/databricks/koalas/internal.py:1430: FutureWarning: iteritems is deprecated and will be removed in a future version. Use .items instead.\n",
      "  for name, col in reset_index.iteritems():\n",
      "/home/rockhight/Documents/gitRepos/bigDataUdemyDataframe/koalas/venv/lib/python3.8/site-packages/databricks/koalas/internal.py:1430: FutureWarning: iteritems is deprecated and will be removed in a future version. Use .items instead.\n",
      "  for name, col in reset_index.iteritems():\n",
      "/home/rockhight/Documents/gitRepos/bigDataUdemyDataframe/koalas/venv/lib/python3.8/site-packages/databricks/koalas/internal.py:1430: FutureWarning: iteritems is deprecated and will be removed in a future version. Use .items instead.\n",
      "  for name, col in reset_index.iteritems():\n",
      "/home/rockhight/Documents/gitRepos/bigDataUdemyDataframe/koalas/venv/lib/python3.8/site-packages/databricks/koalas/internal.py:1430: FutureWarning: iteritems is deprecated and will be removed in a future version. Use .items instead.\n",
      "  for name, col in reset_index.iteritems():\n",
      "/home/rockhight/Documents/gitRepos/bigDataUdemyDataframe/koalas/venv/lib/python3.8/site-packages/databricks/koalas/internal.py:1430: FutureWarning: iteritems is deprecated and will be removed in a future version. Use .items instead.\n",
      "  for name, col in reset_index.iteritems():\n",
      "/home/rockhight/Documents/gitRepos/bigDataUdemyDataframe/koalas/venv/lib/python3.8/site-packages/databricks/koalas/internal.py:1430: FutureWarning: iteritems is deprecated and will be removed in a future version. Use .items instead.\n",
      "  for name, col in reset_index.iteritems():\n",
      "/home/rockhight/Documents/gitRepos/bigDataUdemyDataframe/koalas/venv/lib/python3.8/site-packages/databricks/koalas/internal.py:1430: FutureWarning: iteritems is deprecated and will be removed in a future version. Use .items instead.\n",
      "  for name, col in reset_index.iteritems():\n",
      "/home/rockhight/Documents/gitRepos/bigDataUdemyDataframe/koalas/venv/lib/python3.8/site-packages/databricks/koalas/internal.py:1430: FutureWarning: iteritems is deprecated and will be removed in a future version. Use .items instead.\n",
      "  for name, col in reset_index.iteritems():\n"
     ]
    },
    {
     "name": "stdout",
     "output_type": "stream",
     "text": [
      "23/01/02 04:20:33 WARN WindowExec: No Partition Defined for Window operation! Moving all data to a single partition, this can cause serious performance degradation.\n",
      "23/01/02 04:20:33 WARN WindowExec: No Partition Defined for Window operation! Moving all data to a single partition, this can cause serious performance degradation.\n",
      "23/01/02 04:20:33 WARN WindowExec: No Partition Defined for Window operation! Moving all data to a single partition, this can cause serious performance degradation.\n",
      "23/01/02 04:20:33 WARN WindowExec: No Partition Defined for Window operation! Moving all data to a single partition, this can cause serious performance degradation.\n",
      "23/01/02 04:20:33 WARN WindowExec: No Partition Defined for Window operation! Moving all data to a single partition, this can cause serious performance degradation.\n",
      "23/01/02 04:20:33 WARN WindowExec: No Partition Defined for Window operation! Moving all data to a single partition, this can cause serious performance degradation.\n",
      "23/01/02 04:20:33 WARN WindowExec: No Partition Defined for Window operation! Moving all data to a single partition, this can cause serious performance degradation.\n",
      "23/01/02 04:20:33 WARN WindowExec: No Partition Defined for Window operation! Moving all data to a single partition, this can cause serious performance degradation.\n"
     ]
    },
    {
     "name": "stderr",
     "output_type": "stream",
     "text": [
      "/home/rockhight/Documents/gitRepos/bigDataUdemyDataframe/koalas/venv/lib/python3.8/site-packages/databricks/koalas/internal.py:1430: FutureWarning: iteritems is deprecated and will be removed in a future version. Use .items instead.\n",
      "  for name, col in reset_index.iteritems():\n",
      "/home/rockhight/Documents/gitRepos/bigDataUdemyDataframe/koalas/venv/lib/python3.8/site-packages/databricks/koalas/internal.py:1430: FutureWarning: iteritems is deprecated and will be removed in a future version. Use .items instead.\n",
      "  for name, col in reset_index.iteritems():\n",
      "/home/rockhight/Documents/gitRepos/bigDataUdemyDataframe/koalas/venv/lib/python3.8/site-packages/databricks/koalas/internal.py:1430: FutureWarning: iteritems is deprecated and will be removed in a future version. Use .items instead.\n",
      "  for name, col in reset_index.iteritems():\n",
      "/home/rockhight/Documents/gitRepos/bigDataUdemyDataframe/koalas/venv/lib/python3.8/site-packages/databricks/koalas/internal.py:1430: FutureWarning: iteritems is deprecated and will be removed in a future version. Use .items instead.\n",
      "  for name, col in reset_index.iteritems():\n",
      "/home/rockhight/Documents/gitRepos/bigDataUdemyDataframe/koalas/venv/lib/python3.8/site-packages/databricks/koalas/internal.py:1430: FutureWarning: iteritems is deprecated and will be removed in a future version. Use .items instead.\n",
      "  for name, col in reset_index.iteritems():\n",
      "/home/rockhight/Documents/gitRepos/bigDataUdemyDataframe/koalas/venv/lib/python3.8/site-packages/databricks/koalas/internal.py:1430: FutureWarning: iteritems is deprecated and will be removed in a future version. Use .items instead.\n",
      "  for name, col in reset_index.iteritems():\n",
      "/home/rockhight/Documents/gitRepos/bigDataUdemyDataframe/koalas/venv/lib/python3.8/site-packages/databricks/koalas/internal.py:1430: FutureWarning: iteritems is deprecated and will be removed in a future version. Use .items instead.\n",
      "  for name, col in reset_index.iteritems():\n",
      "/home/rockhight/Documents/gitRepos/bigDataUdemyDataframe/koalas/venv/lib/python3.8/site-packages/databricks/koalas/internal.py:1430: FutureWarning: iteritems is deprecated and will be removed in a future version. Use .items instead.\n",
      "  for name, col in reset_index.iteritems():\n",
      "/home/rockhight/Documents/gitRepos/bigDataUdemyDataframe/koalas/venv/lib/python3.8/site-packages/databricks/koalas/internal.py:1430: FutureWarning: iteritems is deprecated and will be removed in a future version. Use .items instead.\n",
      "  for name, col in reset_index.iteritems():\n",
      "/home/rockhight/Documents/gitRepos/bigDataUdemyDataframe/koalas/venv/lib/python3.8/site-packages/databricks/koalas/internal.py:1430: FutureWarning: iteritems is deprecated and will be removed in a future version. Use .items instead.\n",
      "  for name, col in reset_index.iteritems():\n",
      "/home/rockhight/Documents/gitRepos/bigDataUdemyDataframe/koalas/venv/lib/python3.8/site-packages/databricks/koalas/internal.py:1430: FutureWarning: iteritems is deprecated and will be removed in a future version. Use .items instead.\n",
      "  for name, col in reset_index.iteritems():\n",
      "/home/rockhight/Documents/gitRepos/bigDataUdemyDataframe/koalas/venv/lib/python3.8/site-packages/databricks/koalas/internal.py:1430: FutureWarning: iteritems is deprecated and will be removed in a future version. Use .items instead.\n",
      "  for name, col in reset_index.iteritems():\n",
      "/home/rockhight/Documents/gitRepos/bigDataUdemyDataframe/koalas/venv/lib/python3.8/site-packages/databricks/koalas/internal.py:1430: FutureWarning: iteritems is deprecated and will be removed in a future version. Use .items instead.\n",
      "  for name, col in reset_index.iteritems():\n",
      "WARNING:root:Found pyspark version \"3.3.1\" installed. The pyspark version 3.2 and above has a built-in \"pandas APIs on Spark\" module ported from Koalas. Try `import pyspark.pandas as ps` instead. \n",
      "/home/rockhight/Documents/gitRepos/bigDataUdemyDataframe/koalas/venv/lib/python3.8/site-packages/databricks/koalas/internal.py:1430: FutureWarning: iteritems is deprecated and will be removed in a future version. Use .items instead.\n",
      "  for name, col in reset_index.iteritems():\n"
     ]
    },
    {
     "name": "stdout",
     "output_type": "stream",
     "text": [
      "23/01/02 04:20:34 WARN WindowExec: No Partition Defined for Window operation! Moving all data to a single partition, this can cause serious performance degradation.\n",
      "23/01/02 04:20:34 WARN WindowExec: No Partition Defined for Window operation! Moving all data to a single partition, this can cause serious performance degradation.\n",
      "23/01/02 04:20:34 WARN WindowExec: No Partition Defined for Window operation! Moving all data to a single partition, this can cause serious performance degradation.\n",
      "23/01/02 04:20:34 WARN WindowExec: No Partition Defined for Window operation! Moving all data to a single partition, this can cause serious performance degradation.\n"
     ]
    },
    {
     "name": "stderr",
     "output_type": "stream",
     "text": [
      "/home/rockhight/Documents/gitRepos/bigDataUdemyDataframe/koalas/venv/lib/python3.8/site-packages/databricks/koalas/internal.py:1430: FutureWarning: iteritems is deprecated and will be removed in a future version. Use .items instead.\n",
      "  for name, col in reset_index.iteritems():\n",
      "/home/rockhight/Documents/gitRepos/bigDataUdemyDataframe/koalas/venv/lib/python3.8/site-packages/databricks/koalas/internal.py:1430: FutureWarning: iteritems is deprecated and will be removed in a future version. Use .items instead.\n",
      "  for name, col in reset_index.iteritems():\n",
      "\r",
      "                                                                                \r"
     ]
    }
   ],
   "source": [
    "\n",
    "avg_num_subscribers_per_gender = avg_num_subscribers_per_gender_ks.to_pandas()"
   ]
  },
  {
   "cell_type": "code",
   "execution_count": 110,
   "id": "ee9f7116",
   "metadata": {},
   "outputs": [
    {
     "data": {
      "text/html": [
       "<div>\n",
       "<style scoped>\n",
       "    .dataframe tbody tr th:only-of-type {\n",
       "        vertical-align: middle;\n",
       "    }\n",
       "\n",
       "    .dataframe tbody tr th {\n",
       "        vertical-align: top;\n",
       "    }\n",
       "\n",
       "    .dataframe thead th {\n",
       "        text-align: right;\n",
       "    }\n",
       "</style>\n",
       "<table border=\"1\" class=\"dataframe\">\n",
       "  <thead>\n",
       "    <tr style=\"text-align: right;\">\n",
       "      <th></th>\n",
       "      <th>gender</th>\n",
       "      <th>avg_num_subscribers</th>\n",
       "    </tr>\n",
       "  </thead>\n",
       "  <tbody>\n",
       "    <tr>\n",
       "      <th>0</th>\n",
       "      <td>mostly_female</td>\n",
       "      <td>2054.773661</td>\n",
       "    </tr>\n",
       "    <tr>\n",
       "      <th>1</th>\n",
       "      <td>female</td>\n",
       "      <td>1337.588612</td>\n",
       "    </tr>\n",
       "    <tr>\n",
       "      <th>2</th>\n",
       "      <td>andy</td>\n",
       "      <td>2169.628408</td>\n",
       "    </tr>\n",
       "    <tr>\n",
       "      <th>3</th>\n",
       "      <td>male</td>\n",
       "      <td>3181.537079</td>\n",
       "    </tr>\n",
       "    <tr>\n",
       "      <th>4</th>\n",
       "      <td>mostly_male</td>\n",
       "      <td>3083.706504</td>\n",
       "    </tr>\n",
       "  </tbody>\n",
       "</table>\n",
       "</div>"
      ],
      "text/plain": [
       "          gender  avg_num_subscribers\n",
       "0  mostly_female          2054.773661\n",
       "1         female          1337.588612\n",
       "2           andy          2169.628408\n",
       "3           male          3181.537079\n",
       "4    mostly_male          3083.706504"
      ]
     },
     "execution_count": 110,
     "metadata": {},
     "output_type": "execute_result"
    }
   ],
   "source": [
    "avg_num_subscribers_per_gender.head()"
   ]
  },
  {
   "cell_type": "code",
   "execution_count": 111,
   "id": "faa96c70",
   "metadata": {
    "scrolled": true
   },
   "outputs": [
    {
     "name": "stdout",
     "output_type": "stream",
     "text": [
      "23/01/02 04:20:34 WARN WindowExec: No Partition Defined for Window operation! Moving all data to a single partition, this can cause serious performance degradation.\n",
      "23/01/02 04:20:34 WARN WindowExec: No Partition Defined for Window operation! Moving all data to a single partition, this can cause serious performance degradation.\n",
      "23/01/02 04:20:34 WARN WindowExec: No Partition Defined for Window operation! Moving all data to a single partition, this can cause serious performance degradation.\n",
      "23/01/02 04:20:34 WARN WindowExec: No Partition Defined for Window operation! Moving all data to a single partition, this can cause serious performance degradation.\n",
      "23/01/02 04:20:34 WARN WindowExec: No Partition Defined for Window operation! Moving all data to a single partition, this can cause serious performance degradation.\n",
      "23/01/02 04:20:34 WARN WindowExec: No Partition Defined for Window operation! Moving all data to a single partition, this can cause serious performance degradation.\n",
      "23/01/02 04:20:34 WARN WindowExec: No Partition Defined for Window operation! Moving all data to a single partition, this can cause serious performance degradation.\n",
      "23/01/02 04:20:34 WARN WindowExec: No Partition Defined for Window operation! Moving all data to a single partition, this can cause serious performance degradation.\n",
      "23/01/02 04:20:34 WARN WindowExec: No Partition Defined for Window operation! Moving all data to a single partition, this can cause serious performance degradation.\n",
      "23/01/02 04:20:34 WARN WindowExec: No Partition Defined for Window operation! Moving all data to a single partition, this can cause serious performance degradation.\n",
      "23/01/02 04:20:34 WARN WindowExec: No Partition Defined for Window operation! Moving all data to a single partition, this can cause serious performance degradation.\n",
      "23/01/02 04:20:34 WARN WindowExec: No Partition Defined for Window operation! Moving all data to a single partition, this can cause serious performance degradation.\n",
      "23/01/02 04:20:34 WARN WindowExec: No Partition Defined for Window operation! Moving all data to a single partition, this can cause serious performance degradation.\n"
     ]
    },
    {
     "name": "stderr",
     "output_type": "stream",
     "text": [
      "/home/rockhight/Documents/gitRepos/bigDataUdemyDataframe/koalas/venv/lib/python3.8/site-packages/databricks/koalas/internal.py:1430: FutureWarning: iteritems is deprecated and will be removed in a future version. Use .items instead.\n",
      "  for name, col in reset_index.iteritems():\n",
      "/home/rockhight/Documents/gitRepos/bigDataUdemyDataframe/koalas/venv/lib/python3.8/site-packages/databricks/koalas/internal.py:1430: FutureWarning: iteritems is deprecated and will be removed in a future version. Use .items instead.\n",
      "  for name, col in reset_index.iteritems():\n",
      "/home/rockhight/Documents/gitRepos/bigDataUdemyDataframe/koalas/venv/lib/python3.8/site-packages/databricks/koalas/internal.py:1430: FutureWarning: iteritems is deprecated and will be removed in a future version. Use .items instead.\n",
      "  for name, col in reset_index.iteritems():\n",
      "/home/rockhight/Documents/gitRepos/bigDataUdemyDataframe/koalas/venv/lib/python3.8/site-packages/databricks/koalas/internal.py:1430: FutureWarning: iteritems is deprecated and will be removed in a future version. Use .items instead.\n",
      "  for name, col in reset_index.iteritems():\n",
      "/home/rockhight/Documents/gitRepos/bigDataUdemyDataframe/koalas/venv/lib/python3.8/site-packages/databricks/koalas/internal.py:1430: FutureWarning: iteritems is deprecated and will be removed in a future version. Use .items instead.\n",
      "  for name, col in reset_index.iteritems():\n",
      "/home/rockhight/Documents/gitRepos/bigDataUdemyDataframe/koalas/venv/lib/python3.8/site-packages/databricks/koalas/internal.py:1430: FutureWarning: iteritems is deprecated and will be removed in a future version. Use .items instead.\n",
      "  for name, col in reset_index.iteritems():\n",
      "/home/rockhight/Documents/gitRepos/bigDataUdemyDataframe/koalas/venv/lib/python3.8/site-packages/databricks/koalas/internal.py:1430: FutureWarning: iteritems is deprecated and will be removed in a future version. Use .items instead.\n",
      "  for name, col in reset_index.iteritems():\n",
      "/home/rockhight/Documents/gitRepos/bigDataUdemyDataframe/koalas/venv/lib/python3.8/site-packages/databricks/koalas/internal.py:1430: FutureWarning: iteritems is deprecated and will be removed in a future version. Use .items instead.\n",
      "  for name, col in reset_index.iteritems():\n",
      "/home/rockhight/Documents/gitRepos/bigDataUdemyDataframe/koalas/venv/lib/python3.8/site-packages/databricks/koalas/internal.py:1430: FutureWarning: iteritems is deprecated and will be removed in a future version. Use .items instead.\n",
      "  for name, col in reset_index.iteritems():\n",
      "/home/rockhight/Documents/gitRepos/bigDataUdemyDataframe/koalas/venv/lib/python3.8/site-packages/databricks/koalas/internal.py:1430: FutureWarning: iteritems is deprecated and will be removed in a future version. Use .items instead.\n",
      "  for name, col in reset_index.iteritems():\n",
      "/home/rockhight/Documents/gitRepos/bigDataUdemyDataframe/koalas/venv/lib/python3.8/site-packages/databricks/koalas/internal.py:1430: FutureWarning: iteritems is deprecated and will be removed in a future version. Use .items instead.\n",
      "  for name, col in reset_index.iteritems():\n",
      "/home/rockhight/Documents/gitRepos/bigDataUdemyDataframe/koalas/venv/lib/python3.8/site-packages/databricks/koalas/internal.py:1430: FutureWarning: iteritems is deprecated and will be removed in a future version. Use .items instead.\n",
      "  for name, col in reset_index.iteritems():\n",
      "/home/rockhight/Documents/gitRepos/bigDataUdemyDataframe/koalas/venv/lib/python3.8/site-packages/databricks/koalas/internal.py:1430: FutureWarning: iteritems is deprecated and will be removed in a future version. Use .items instead.\n",
      "  for name, col in reset_index.iteritems():\n",
      "/home/rockhight/Documents/gitRepos/bigDataUdemyDataframe/koalas/venv/lib/python3.8/site-packages/databricks/koalas/internal.py:1430: FutureWarning: iteritems is deprecated and will be removed in a future version. Use .items instead.\n",
      "  for name, col in reset_index.iteritems():\n",
      "/home/rockhight/Documents/gitRepos/bigDataUdemyDataframe/koalas/venv/lib/python3.8/site-packages/databricks/koalas/internal.py:1430: FutureWarning: iteritems is deprecated and will be removed in a future version. Use .items instead.\n",
      "  for name, col in reset_index.iteritems():\n",
      "/home/rockhight/Documents/gitRepos/bigDataUdemyDataframe/koalas/venv/lib/python3.8/site-packages/databricks/koalas/internal.py:1430: FutureWarning: iteritems is deprecated and will be removed in a future version. Use .items instead.\n",
      "  for name, col in reset_index.iteritems():\n",
      "/home/rockhight/Documents/gitRepos/bigDataUdemyDataframe/koalas/venv/lib/python3.8/site-packages/databricks/koalas/internal.py:1430: FutureWarning: iteritems is deprecated and will be removed in a future version. Use .items instead.\n",
      "  for name, col in reset_index.iteritems():\n",
      "/home/rockhight/Documents/gitRepos/bigDataUdemyDataframe/koalas/venv/lib/python3.8/site-packages/databricks/koalas/internal.py:1430: FutureWarning: iteritems is deprecated and will be removed in a future version. Use .items instead.\n",
      "  for name, col in reset_index.iteritems():\n",
      "/home/rockhight/Documents/gitRepos/bigDataUdemyDataframe/koalas/venv/lib/python3.8/site-packages/databricks/koalas/internal.py:1430: FutureWarning: iteritems is deprecated and will be removed in a future version. Use .items instead.\n",
      "  for name, col in reset_index.iteritems():\n",
      "/home/rockhight/Documents/gitRepos/bigDataUdemyDataframe/koalas/venv/lib/python3.8/site-packages/databricks/koalas/internal.py:1430: FutureWarning: iteritems is deprecated and will be removed in a future version. Use .items instead.\n",
      "  for name, col in reset_index.iteritems():\n",
      "/home/rockhight/Documents/gitRepos/bigDataUdemyDataframe/koalas/venv/lib/python3.8/site-packages/databricks/koalas/internal.py:1430: FutureWarning: iteritems is deprecated and will be removed in a future version. Use .items instead.\n",
      "  for name, col in reset_index.iteritems():\n",
      "/home/rockhight/Documents/gitRepos/bigDataUdemyDataframe/koalas/venv/lib/python3.8/site-packages/databricks/koalas/internal.py:1430: FutureWarning: iteritems is deprecated and will be removed in a future version. Use .items instead.\n",
      "  for name, col in reset_index.iteritems():\n",
      "/home/rockhight/Documents/gitRepos/bigDataUdemyDataframe/koalas/venv/lib/python3.8/site-packages/databricks/koalas/internal.py:1430: FutureWarning: iteritems is deprecated and will be removed in a future version. Use .items instead.\n",
      "  for name, col in reset_index.iteritems():\n",
      "/home/rockhight/Documents/gitRepos/bigDataUdemyDataframe/koalas/venv/lib/python3.8/site-packages/databricks/koalas/internal.py:1430: FutureWarning: iteritems is deprecated and will be removed in a future version. Use .items instead.\n",
      "  for name, col in reset_index.iteritems():\n",
      "/home/rockhight/Documents/gitRepos/bigDataUdemyDataframe/koalas/venv/lib/python3.8/site-packages/databricks/koalas/internal.py:1430: FutureWarning: iteritems is deprecated and will be removed in a future version. Use .items instead.\n",
      "  for name, col in reset_index.iteritems():\n",
      "/home/rockhight/Documents/gitRepos/bigDataUdemyDataframe/koalas/venv/lib/python3.8/site-packages/databricks/koalas/internal.py:1430: FutureWarning: iteritems is deprecated and will be removed in a future version. Use .items instead.\n",
      "  for name, col in reset_index.iteritems():\n"
     ]
    },
    {
     "name": "stdout",
     "output_type": "stream",
     "text": [
      "23/01/02 04:20:35 WARN WindowExec: No Partition Defined for Window operation! Moving all data to a single partition, this can cause serious performance degradation.\n",
      "23/01/02 04:20:35 WARN WindowExec: No Partition Defined for Window operation! Moving all data to a single partition, this can cause serious performance degradation.\n",
      "23/01/02 04:20:35 WARN WindowExec: No Partition Defined for Window operation! Moving all data to a single partition, this can cause serious performance degradation.\n",
      "23/01/02 04:20:35 WARN WindowExec: No Partition Defined for Window operation! Moving all data to a single partition, this can cause serious performance degradation.\n",
      "23/01/02 04:20:35 WARN WindowExec: No Partition Defined for Window operation! Moving all data to a single partition, this can cause serious performance degradation.\n",
      "23/01/02 04:20:35 WARN WindowExec: No Partition Defined for Window operation! Moving all data to a single partition, this can cause serious performance degradation.\n",
      "23/01/02 04:20:35 WARN WindowExec: No Partition Defined for Window operation! Moving all data to a single partition, this can cause serious performance degradation.\n",
      "23/01/02 04:20:35 WARN WindowExec: No Partition Defined for Window operation! Moving all data to a single partition, this can cause serious performance degradation.\n"
     ]
    },
    {
     "name": "stderr",
     "output_type": "stream",
     "text": [
      "/home/rockhight/Documents/gitRepos/bigDataUdemyDataframe/koalas/venv/lib/python3.8/site-packages/databricks/koalas/internal.py:1430: FutureWarning: iteritems is deprecated and will be removed in a future version. Use .items instead.\n",
      "  for name, col in reset_index.iteritems():\n",
      "/home/rockhight/Documents/gitRepos/bigDataUdemyDataframe/koalas/venv/lib/python3.8/site-packages/databricks/koalas/internal.py:1430: FutureWarning: iteritems is deprecated and will be removed in a future version. Use .items instead.\n",
      "  for name, col in reset_index.iteritems():\n",
      "/home/rockhight/Documents/gitRepos/bigDataUdemyDataframe/koalas/venv/lib/python3.8/site-packages/databricks/koalas/internal.py:1430: FutureWarning: iteritems is deprecated and will be removed in a future version. Use .items instead.\n",
      "  for name, col in reset_index.iteritems():\n",
      "/home/rockhight/Documents/gitRepos/bigDataUdemyDataframe/koalas/venv/lib/python3.8/site-packages/databricks/koalas/internal.py:1430: FutureWarning: iteritems is deprecated and will be removed in a future version. Use .items instead.\n",
      "  for name, col in reset_index.iteritems():\n",
      "/home/rockhight/Documents/gitRepos/bigDataUdemyDataframe/koalas/venv/lib/python3.8/site-packages/databricks/koalas/internal.py:1430: FutureWarning: iteritems is deprecated and will be removed in a future version. Use .items instead.\n",
      "  for name, col in reset_index.iteritems():\n",
      "/home/rockhight/Documents/gitRepos/bigDataUdemyDataframe/koalas/venv/lib/python3.8/site-packages/databricks/koalas/internal.py:1430: FutureWarning: iteritems is deprecated and will be removed in a future version. Use .items instead.\n",
      "  for name, col in reset_index.iteritems():\n",
      "/home/rockhight/Documents/gitRepos/bigDataUdemyDataframe/koalas/venv/lib/python3.8/site-packages/databricks/koalas/internal.py:1430: FutureWarning: iteritems is deprecated and will be removed in a future version. Use .items instead.\n",
      "  for name, col in reset_index.iteritems():\n",
      "/home/rockhight/Documents/gitRepos/bigDataUdemyDataframe/koalas/venv/lib/python3.8/site-packages/databricks/koalas/internal.py:1430: FutureWarning: iteritems is deprecated and will be removed in a future version. Use .items instead.\n",
      "  for name, col in reset_index.iteritems():\n",
      "/home/rockhight/Documents/gitRepos/bigDataUdemyDataframe/koalas/venv/lib/python3.8/site-packages/databricks/koalas/internal.py:1430: FutureWarning: iteritems is deprecated and will be removed in a future version. Use .items instead.\n",
      "  for name, col in reset_index.iteritems():\n",
      "/home/rockhight/Documents/gitRepos/bigDataUdemyDataframe/koalas/venv/lib/python3.8/site-packages/databricks/koalas/internal.py:1430: FutureWarning: iteritems is deprecated and will be removed in a future version. Use .items instead.\n",
      "  for name, col in reset_index.iteritems():\n",
      "/home/rockhight/Documents/gitRepos/bigDataUdemyDataframe/koalas/venv/lib/python3.8/site-packages/databricks/koalas/internal.py:1430: FutureWarning: iteritems is deprecated and will be removed in a future version. Use .items instead.\n",
      "  for name, col in reset_index.iteritems():\n",
      "/home/rockhight/Documents/gitRepos/bigDataUdemyDataframe/koalas/venv/lib/python3.8/site-packages/databricks/koalas/internal.py:1430: FutureWarning: iteritems is deprecated and will be removed in a future version. Use .items instead.\n",
      "  for name, col in reset_index.iteritems():\n",
      "/home/rockhight/Documents/gitRepos/bigDataUdemyDataframe/koalas/venv/lib/python3.8/site-packages/databricks/koalas/internal.py:1430: FutureWarning: iteritems is deprecated and will be removed in a future version. Use .items instead.\n",
      "  for name, col in reset_index.iteritems():\n",
      "/home/rockhight/Documents/gitRepos/bigDataUdemyDataframe/koalas/venv/lib/python3.8/site-packages/databricks/koalas/internal.py:1430: FutureWarning: iteritems is deprecated and will be removed in a future version. Use .items instead.\n",
      "  for name, col in reset_index.iteritems():\n",
      "/home/rockhight/Documents/gitRepos/bigDataUdemyDataframe/koalas/venv/lib/python3.8/site-packages/databricks/koalas/internal.py:1430: FutureWarning: iteritems is deprecated and will be removed in a future version. Use .items instead.\n",
      "  for name, col in reset_index.iteritems():\n",
      "/home/rockhight/Documents/gitRepos/bigDataUdemyDataframe/koalas/venv/lib/python3.8/site-packages/databricks/koalas/internal.py:1430: FutureWarning: iteritems is deprecated and will be removed in a future version. Use .items instead.\n",
      "  for name, col in reset_index.iteritems():\n"
     ]
    },
    {
     "name": "stdout",
     "output_type": "stream",
     "text": [
      "23/01/02 04:20:35 WARN WindowExec: No Partition Defined for Window operation! Moving all data to a single partition, this can cause serious performance degradation.\n",
      "23/01/02 04:20:35 WARN WindowExec: No Partition Defined for Window operation! Moving all data to a single partition, this can cause serious performance degradation.\n",
      "23/01/02 04:20:35 WARN WindowExec: No Partition Defined for Window operation! Moving all data to a single partition, this can cause serious performance degradation.\n"
     ]
    },
    {
     "data": {
      "application/vnd.plotly.v1+json": {
       "config": {
        "plotlyServerURL": "https://plot.ly"
       },
       "data": [
        {
         "alignmentgroup": "True",
         "hovertemplate": "gender=%{x}<br>avg_num_subscribers=%{y}<extra></extra>",
         "legendgroup": "",
         "marker": {
          "color": "#636efa",
          "pattern": {
           "shape": ""
          }
         },
         "name": "",
         "offsetgroup": "",
         "orientation": "v",
         "showlegend": false,
         "textposition": "auto",
         "type": "bar",
         "x": [
          "mostly_female",
          "female",
          "andy",
          "male",
          "mostly_male"
         ],
         "xaxis": "x",
         "y": [
          2054.773661272373,
          1337.588611746536,
          2169.6284082465795,
          3181.5370789790445,
          3083.706503545565
         ],
         "yaxis": "y"
        }
       ],
       "layout": {
        "barmode": "relative",
        "legend": {
         "tracegroupgap": 0
        },
        "template": {
         "data": {
          "bar": [
           {
            "error_x": {
             "color": "#2a3f5f"
            },
            "error_y": {
             "color": "#2a3f5f"
            },
            "marker": {
             "line": {
              "color": "#E5ECF6",
              "width": 0.5
             },
             "pattern": {
              "fillmode": "overlay",
              "size": 10,
              "solidity": 0.2
             }
            },
            "type": "bar"
           }
          ],
          "barpolar": [
           {
            "marker": {
             "line": {
              "color": "#E5ECF6",
              "width": 0.5
             },
             "pattern": {
              "fillmode": "overlay",
              "size": 10,
              "solidity": 0.2
             }
            },
            "type": "barpolar"
           }
          ],
          "carpet": [
           {
            "aaxis": {
             "endlinecolor": "#2a3f5f",
             "gridcolor": "white",
             "linecolor": "white",
             "minorgridcolor": "white",
             "startlinecolor": "#2a3f5f"
            },
            "baxis": {
             "endlinecolor": "#2a3f5f",
             "gridcolor": "white",
             "linecolor": "white",
             "minorgridcolor": "white",
             "startlinecolor": "#2a3f5f"
            },
            "type": "carpet"
           }
          ],
          "choropleth": [
           {
            "colorbar": {
             "outlinewidth": 0,
             "ticks": ""
            },
            "type": "choropleth"
           }
          ],
          "contour": [
           {
            "colorbar": {
             "outlinewidth": 0,
             "ticks": ""
            },
            "colorscale": [
             [
              0,
              "#0d0887"
             ],
             [
              0.1111111111111111,
              "#46039f"
             ],
             [
              0.2222222222222222,
              "#7201a8"
             ],
             [
              0.3333333333333333,
              "#9c179e"
             ],
             [
              0.4444444444444444,
              "#bd3786"
             ],
             [
              0.5555555555555556,
              "#d8576b"
             ],
             [
              0.6666666666666666,
              "#ed7953"
             ],
             [
              0.7777777777777778,
              "#fb9f3a"
             ],
             [
              0.8888888888888888,
              "#fdca26"
             ],
             [
              1,
              "#f0f921"
             ]
            ],
            "type": "contour"
           }
          ],
          "contourcarpet": [
           {
            "colorbar": {
             "outlinewidth": 0,
             "ticks": ""
            },
            "type": "contourcarpet"
           }
          ],
          "heatmap": [
           {
            "colorbar": {
             "outlinewidth": 0,
             "ticks": ""
            },
            "colorscale": [
             [
              0,
              "#0d0887"
             ],
             [
              0.1111111111111111,
              "#46039f"
             ],
             [
              0.2222222222222222,
              "#7201a8"
             ],
             [
              0.3333333333333333,
              "#9c179e"
             ],
             [
              0.4444444444444444,
              "#bd3786"
             ],
             [
              0.5555555555555556,
              "#d8576b"
             ],
             [
              0.6666666666666666,
              "#ed7953"
             ],
             [
              0.7777777777777778,
              "#fb9f3a"
             ],
             [
              0.8888888888888888,
              "#fdca26"
             ],
             [
              1,
              "#f0f921"
             ]
            ],
            "type": "heatmap"
           }
          ],
          "heatmapgl": [
           {
            "colorbar": {
             "outlinewidth": 0,
             "ticks": ""
            },
            "colorscale": [
             [
              0,
              "#0d0887"
             ],
             [
              0.1111111111111111,
              "#46039f"
             ],
             [
              0.2222222222222222,
              "#7201a8"
             ],
             [
              0.3333333333333333,
              "#9c179e"
             ],
             [
              0.4444444444444444,
              "#bd3786"
             ],
             [
              0.5555555555555556,
              "#d8576b"
             ],
             [
              0.6666666666666666,
              "#ed7953"
             ],
             [
              0.7777777777777778,
              "#fb9f3a"
             ],
             [
              0.8888888888888888,
              "#fdca26"
             ],
             [
              1,
              "#f0f921"
             ]
            ],
            "type": "heatmapgl"
           }
          ],
          "histogram": [
           {
            "marker": {
             "pattern": {
              "fillmode": "overlay",
              "size": 10,
              "solidity": 0.2
             }
            },
            "type": "histogram"
           }
          ],
          "histogram2d": [
           {
            "colorbar": {
             "outlinewidth": 0,
             "ticks": ""
            },
            "colorscale": [
             [
              0,
              "#0d0887"
             ],
             [
              0.1111111111111111,
              "#46039f"
             ],
             [
              0.2222222222222222,
              "#7201a8"
             ],
             [
              0.3333333333333333,
              "#9c179e"
             ],
             [
              0.4444444444444444,
              "#bd3786"
             ],
             [
              0.5555555555555556,
              "#d8576b"
             ],
             [
              0.6666666666666666,
              "#ed7953"
             ],
             [
              0.7777777777777778,
              "#fb9f3a"
             ],
             [
              0.8888888888888888,
              "#fdca26"
             ],
             [
              1,
              "#f0f921"
             ]
            ],
            "type": "histogram2d"
           }
          ],
          "histogram2dcontour": [
           {
            "colorbar": {
             "outlinewidth": 0,
             "ticks": ""
            },
            "colorscale": [
             [
              0,
              "#0d0887"
             ],
             [
              0.1111111111111111,
              "#46039f"
             ],
             [
              0.2222222222222222,
              "#7201a8"
             ],
             [
              0.3333333333333333,
              "#9c179e"
             ],
             [
              0.4444444444444444,
              "#bd3786"
             ],
             [
              0.5555555555555556,
              "#d8576b"
             ],
             [
              0.6666666666666666,
              "#ed7953"
             ],
             [
              0.7777777777777778,
              "#fb9f3a"
             ],
             [
              0.8888888888888888,
              "#fdca26"
             ],
             [
              1,
              "#f0f921"
             ]
            ],
            "type": "histogram2dcontour"
           }
          ],
          "mesh3d": [
           {
            "colorbar": {
             "outlinewidth": 0,
             "ticks": ""
            },
            "type": "mesh3d"
           }
          ],
          "parcoords": [
           {
            "line": {
             "colorbar": {
              "outlinewidth": 0,
              "ticks": ""
             }
            },
            "type": "parcoords"
           }
          ],
          "pie": [
           {
            "automargin": true,
            "type": "pie"
           }
          ],
          "scatter": [
           {
            "fillpattern": {
             "fillmode": "overlay",
             "size": 10,
             "solidity": 0.2
            },
            "type": "scatter"
           }
          ],
          "scatter3d": [
           {
            "line": {
             "colorbar": {
              "outlinewidth": 0,
              "ticks": ""
             }
            },
            "marker": {
             "colorbar": {
              "outlinewidth": 0,
              "ticks": ""
             }
            },
            "type": "scatter3d"
           }
          ],
          "scattercarpet": [
           {
            "marker": {
             "colorbar": {
              "outlinewidth": 0,
              "ticks": ""
             }
            },
            "type": "scattercarpet"
           }
          ],
          "scattergeo": [
           {
            "marker": {
             "colorbar": {
              "outlinewidth": 0,
              "ticks": ""
             }
            },
            "type": "scattergeo"
           }
          ],
          "scattergl": [
           {
            "marker": {
             "colorbar": {
              "outlinewidth": 0,
              "ticks": ""
             }
            },
            "type": "scattergl"
           }
          ],
          "scattermapbox": [
           {
            "marker": {
             "colorbar": {
              "outlinewidth": 0,
              "ticks": ""
             }
            },
            "type": "scattermapbox"
           }
          ],
          "scatterpolar": [
           {
            "marker": {
             "colorbar": {
              "outlinewidth": 0,
              "ticks": ""
             }
            },
            "type": "scatterpolar"
           }
          ],
          "scatterpolargl": [
           {
            "marker": {
             "colorbar": {
              "outlinewidth": 0,
              "ticks": ""
             }
            },
            "type": "scatterpolargl"
           }
          ],
          "scatterternary": [
           {
            "marker": {
             "colorbar": {
              "outlinewidth": 0,
              "ticks": ""
             }
            },
            "type": "scatterternary"
           }
          ],
          "surface": [
           {
            "colorbar": {
             "outlinewidth": 0,
             "ticks": ""
            },
            "colorscale": [
             [
              0,
              "#0d0887"
             ],
             [
              0.1111111111111111,
              "#46039f"
             ],
             [
              0.2222222222222222,
              "#7201a8"
             ],
             [
              0.3333333333333333,
              "#9c179e"
             ],
             [
              0.4444444444444444,
              "#bd3786"
             ],
             [
              0.5555555555555556,
              "#d8576b"
             ],
             [
              0.6666666666666666,
              "#ed7953"
             ],
             [
              0.7777777777777778,
              "#fb9f3a"
             ],
             [
              0.8888888888888888,
              "#fdca26"
             ],
             [
              1,
              "#f0f921"
             ]
            ],
            "type": "surface"
           }
          ],
          "table": [
           {
            "cells": {
             "fill": {
              "color": "#EBF0F8"
             },
             "line": {
              "color": "white"
             }
            },
            "header": {
             "fill": {
              "color": "#C8D4E3"
             },
             "line": {
              "color": "white"
             }
            },
            "type": "table"
           }
          ]
         },
         "layout": {
          "annotationdefaults": {
           "arrowcolor": "#2a3f5f",
           "arrowhead": 0,
           "arrowwidth": 1
          },
          "autotypenumbers": "strict",
          "coloraxis": {
           "colorbar": {
            "outlinewidth": 0,
            "ticks": ""
           }
          },
          "colorscale": {
           "diverging": [
            [
             0,
             "#8e0152"
            ],
            [
             0.1,
             "#c51b7d"
            ],
            [
             0.2,
             "#de77ae"
            ],
            [
             0.3,
             "#f1b6da"
            ],
            [
             0.4,
             "#fde0ef"
            ],
            [
             0.5,
             "#f7f7f7"
            ],
            [
             0.6,
             "#e6f5d0"
            ],
            [
             0.7,
             "#b8e186"
            ],
            [
             0.8,
             "#7fbc41"
            ],
            [
             0.9,
             "#4d9221"
            ],
            [
             1,
             "#276419"
            ]
           ],
           "sequential": [
            [
             0,
             "#0d0887"
            ],
            [
             0.1111111111111111,
             "#46039f"
            ],
            [
             0.2222222222222222,
             "#7201a8"
            ],
            [
             0.3333333333333333,
             "#9c179e"
            ],
            [
             0.4444444444444444,
             "#bd3786"
            ],
            [
             0.5555555555555556,
             "#d8576b"
            ],
            [
             0.6666666666666666,
             "#ed7953"
            ],
            [
             0.7777777777777778,
             "#fb9f3a"
            ],
            [
             0.8888888888888888,
             "#fdca26"
            ],
            [
             1,
             "#f0f921"
            ]
           ],
           "sequentialminus": [
            [
             0,
             "#0d0887"
            ],
            [
             0.1111111111111111,
             "#46039f"
            ],
            [
             0.2222222222222222,
             "#7201a8"
            ],
            [
             0.3333333333333333,
             "#9c179e"
            ],
            [
             0.4444444444444444,
             "#bd3786"
            ],
            [
             0.5555555555555556,
             "#d8576b"
            ],
            [
             0.6666666666666666,
             "#ed7953"
            ],
            [
             0.7777777777777778,
             "#fb9f3a"
            ],
            [
             0.8888888888888888,
             "#fdca26"
            ],
            [
             1,
             "#f0f921"
            ]
           ]
          },
          "colorway": [
           "#636efa",
           "#EF553B",
           "#00cc96",
           "#ab63fa",
           "#FFA15A",
           "#19d3f3",
           "#FF6692",
           "#B6E880",
           "#FF97FF",
           "#FECB52"
          ],
          "font": {
           "color": "#2a3f5f"
          },
          "geo": {
           "bgcolor": "white",
           "lakecolor": "white",
           "landcolor": "#E5ECF6",
           "showlakes": true,
           "showland": true,
           "subunitcolor": "white"
          },
          "hoverlabel": {
           "align": "left"
          },
          "hovermode": "closest",
          "mapbox": {
           "style": "light"
          },
          "paper_bgcolor": "white",
          "plot_bgcolor": "#E5ECF6",
          "polar": {
           "angularaxis": {
            "gridcolor": "white",
            "linecolor": "white",
            "ticks": ""
           },
           "bgcolor": "#E5ECF6",
           "radialaxis": {
            "gridcolor": "white",
            "linecolor": "white",
            "ticks": ""
           }
          },
          "scene": {
           "xaxis": {
            "backgroundcolor": "#E5ECF6",
            "gridcolor": "white",
            "gridwidth": 2,
            "linecolor": "white",
            "showbackground": true,
            "ticks": "",
            "zerolinecolor": "white"
           },
           "yaxis": {
            "backgroundcolor": "#E5ECF6",
            "gridcolor": "white",
            "gridwidth": 2,
            "linecolor": "white",
            "showbackground": true,
            "ticks": "",
            "zerolinecolor": "white"
           },
           "zaxis": {
            "backgroundcolor": "#E5ECF6",
            "gridcolor": "white",
            "gridwidth": 2,
            "linecolor": "white",
            "showbackground": true,
            "ticks": "",
            "zerolinecolor": "white"
           }
          },
          "shapedefaults": {
           "line": {
            "color": "#2a3f5f"
           }
          },
          "ternary": {
           "aaxis": {
            "gridcolor": "white",
            "linecolor": "white",
            "ticks": ""
           },
           "baxis": {
            "gridcolor": "white",
            "linecolor": "white",
            "ticks": ""
           },
           "bgcolor": "#E5ECF6",
           "caxis": {
            "gridcolor": "white",
            "linecolor": "white",
            "ticks": ""
           }
          },
          "title": {
           "x": 0.05
          },
          "xaxis": {
           "automargin": true,
           "gridcolor": "white",
           "linecolor": "white",
           "ticks": "",
           "title": {
            "standoff": 15
           },
           "zerolinecolor": "white",
           "zerolinewidth": 2
          },
          "yaxis": {
           "automargin": true,
           "gridcolor": "white",
           "linecolor": "white",
           "ticks": "",
           "title": {
            "standoff": 15
           },
           "zerolinecolor": "white",
           "zerolinewidth": 2
          }
         }
        },
        "title": {
         "text": "Average number of subscribers"
        },
        "xaxis": {
         "anchor": "y",
         "domain": [
          0,
          1
         ],
         "title": {
          "text": "gender"
         }
        },
        "yaxis": {
         "anchor": "x",
         "domain": [
          0,
          1
         ],
         "title": {
          "text": "avg_num_subscribers"
         }
        }
       }
      },
      "text/html": [
       "<div>                            <div id=\"788014d1-d09a-4f41-861e-e8f34e41cc9f\" class=\"plotly-graph-div\" style=\"height:525px; width:100%;\"></div>            <script type=\"text/javascript\">                require([\"plotly\"], function(Plotly) {                    window.PLOTLYENV=window.PLOTLYENV || {};                                    if (document.getElementById(\"788014d1-d09a-4f41-861e-e8f34e41cc9f\")) {                    Plotly.newPlot(                        \"788014d1-d09a-4f41-861e-e8f34e41cc9f\",                        [{\"alignmentgroup\":\"True\",\"hovertemplate\":\"gender=%{x}<br>avg_num_subscribers=%{y}<extra></extra>\",\"legendgroup\":\"\",\"marker\":{\"color\":\"#636efa\",\"pattern\":{\"shape\":\"\"}},\"name\":\"\",\"offsetgroup\":\"\",\"orientation\":\"v\",\"showlegend\":false,\"textposition\":\"auto\",\"x\":[\"mostly_female\",\"female\",\"andy\",\"male\",\"mostly_male\"],\"xaxis\":\"x\",\"y\":[2054.773661272373,1337.588611746536,2169.6284082465795,3181.5370789790445,3083.706503545565],\"yaxis\":\"y\",\"type\":\"bar\"}],                        {\"template\":{\"data\":{\"histogram2dcontour\":[{\"type\":\"histogram2dcontour\",\"colorbar\":{\"outlinewidth\":0,\"ticks\":\"\"},\"colorscale\":[[0.0,\"#0d0887\"],[0.1111111111111111,\"#46039f\"],[0.2222222222222222,\"#7201a8\"],[0.3333333333333333,\"#9c179e\"],[0.4444444444444444,\"#bd3786\"],[0.5555555555555556,\"#d8576b\"],[0.6666666666666666,\"#ed7953\"],[0.7777777777777778,\"#fb9f3a\"],[0.8888888888888888,\"#fdca26\"],[1.0,\"#f0f921\"]]}],\"choropleth\":[{\"type\":\"choropleth\",\"colorbar\":{\"outlinewidth\":0,\"ticks\":\"\"}}],\"histogram2d\":[{\"type\":\"histogram2d\",\"colorbar\":{\"outlinewidth\":0,\"ticks\":\"\"},\"colorscale\":[[0.0,\"#0d0887\"],[0.1111111111111111,\"#46039f\"],[0.2222222222222222,\"#7201a8\"],[0.3333333333333333,\"#9c179e\"],[0.4444444444444444,\"#bd3786\"],[0.5555555555555556,\"#d8576b\"],[0.6666666666666666,\"#ed7953\"],[0.7777777777777778,\"#fb9f3a\"],[0.8888888888888888,\"#fdca26\"],[1.0,\"#f0f921\"]]}],\"heatmap\":[{\"type\":\"heatmap\",\"colorbar\":{\"outlinewidth\":0,\"ticks\":\"\"},\"colorscale\":[[0.0,\"#0d0887\"],[0.1111111111111111,\"#46039f\"],[0.2222222222222222,\"#7201a8\"],[0.3333333333333333,\"#9c179e\"],[0.4444444444444444,\"#bd3786\"],[0.5555555555555556,\"#d8576b\"],[0.6666666666666666,\"#ed7953\"],[0.7777777777777778,\"#fb9f3a\"],[0.8888888888888888,\"#fdca26\"],[1.0,\"#f0f921\"]]}],\"heatmapgl\":[{\"type\":\"heatmapgl\",\"colorbar\":{\"outlinewidth\":0,\"ticks\":\"\"},\"colorscale\":[[0.0,\"#0d0887\"],[0.1111111111111111,\"#46039f\"],[0.2222222222222222,\"#7201a8\"],[0.3333333333333333,\"#9c179e\"],[0.4444444444444444,\"#bd3786\"],[0.5555555555555556,\"#d8576b\"],[0.6666666666666666,\"#ed7953\"],[0.7777777777777778,\"#fb9f3a\"],[0.8888888888888888,\"#fdca26\"],[1.0,\"#f0f921\"]]}],\"contourcarpet\":[{\"type\":\"contourcarpet\",\"colorbar\":{\"outlinewidth\":0,\"ticks\":\"\"}}],\"contour\":[{\"type\":\"contour\",\"colorbar\":{\"outlinewidth\":0,\"ticks\":\"\"},\"colorscale\":[[0.0,\"#0d0887\"],[0.1111111111111111,\"#46039f\"],[0.2222222222222222,\"#7201a8\"],[0.3333333333333333,\"#9c179e\"],[0.4444444444444444,\"#bd3786\"],[0.5555555555555556,\"#d8576b\"],[0.6666666666666666,\"#ed7953\"],[0.7777777777777778,\"#fb9f3a\"],[0.8888888888888888,\"#fdca26\"],[1.0,\"#f0f921\"]]}],\"surface\":[{\"type\":\"surface\",\"colorbar\":{\"outlinewidth\":0,\"ticks\":\"\"},\"colorscale\":[[0.0,\"#0d0887\"],[0.1111111111111111,\"#46039f\"],[0.2222222222222222,\"#7201a8\"],[0.3333333333333333,\"#9c179e\"],[0.4444444444444444,\"#bd3786\"],[0.5555555555555556,\"#d8576b\"],[0.6666666666666666,\"#ed7953\"],[0.7777777777777778,\"#fb9f3a\"],[0.8888888888888888,\"#fdca26\"],[1.0,\"#f0f921\"]]}],\"mesh3d\":[{\"type\":\"mesh3d\",\"colorbar\":{\"outlinewidth\":0,\"ticks\":\"\"}}],\"scatter\":[{\"fillpattern\":{\"fillmode\":\"overlay\",\"size\":10,\"solidity\":0.2},\"type\":\"scatter\"}],\"parcoords\":[{\"type\":\"parcoords\",\"line\":{\"colorbar\":{\"outlinewidth\":0,\"ticks\":\"\"}}}],\"scatterpolargl\":[{\"type\":\"scatterpolargl\",\"marker\":{\"colorbar\":{\"outlinewidth\":0,\"ticks\":\"\"}}}],\"bar\":[{\"error_x\":{\"color\":\"#2a3f5f\"},\"error_y\":{\"color\":\"#2a3f5f\"},\"marker\":{\"line\":{\"color\":\"#E5ECF6\",\"width\":0.5},\"pattern\":{\"fillmode\":\"overlay\",\"size\":10,\"solidity\":0.2}},\"type\":\"bar\"}],\"scattergeo\":[{\"type\":\"scattergeo\",\"marker\":{\"colorbar\":{\"outlinewidth\":0,\"ticks\":\"\"}}}],\"scatterpolar\":[{\"type\":\"scatterpolar\",\"marker\":{\"colorbar\":{\"outlinewidth\":0,\"ticks\":\"\"}}}],\"histogram\":[{\"marker\":{\"pattern\":{\"fillmode\":\"overlay\",\"size\":10,\"solidity\":0.2}},\"type\":\"histogram\"}],\"scattergl\":[{\"type\":\"scattergl\",\"marker\":{\"colorbar\":{\"outlinewidth\":0,\"ticks\":\"\"}}}],\"scatter3d\":[{\"type\":\"scatter3d\",\"line\":{\"colorbar\":{\"outlinewidth\":0,\"ticks\":\"\"}},\"marker\":{\"colorbar\":{\"outlinewidth\":0,\"ticks\":\"\"}}}],\"scattermapbox\":[{\"type\":\"scattermapbox\",\"marker\":{\"colorbar\":{\"outlinewidth\":0,\"ticks\":\"\"}}}],\"scatterternary\":[{\"type\":\"scatterternary\",\"marker\":{\"colorbar\":{\"outlinewidth\":0,\"ticks\":\"\"}}}],\"scattercarpet\":[{\"type\":\"scattercarpet\",\"marker\":{\"colorbar\":{\"outlinewidth\":0,\"ticks\":\"\"}}}],\"carpet\":[{\"aaxis\":{\"endlinecolor\":\"#2a3f5f\",\"gridcolor\":\"white\",\"linecolor\":\"white\",\"minorgridcolor\":\"white\",\"startlinecolor\":\"#2a3f5f\"},\"baxis\":{\"endlinecolor\":\"#2a3f5f\",\"gridcolor\":\"white\",\"linecolor\":\"white\",\"minorgridcolor\":\"white\",\"startlinecolor\":\"#2a3f5f\"},\"type\":\"carpet\"}],\"table\":[{\"cells\":{\"fill\":{\"color\":\"#EBF0F8\"},\"line\":{\"color\":\"white\"}},\"header\":{\"fill\":{\"color\":\"#C8D4E3\"},\"line\":{\"color\":\"white\"}},\"type\":\"table\"}],\"barpolar\":[{\"marker\":{\"line\":{\"color\":\"#E5ECF6\",\"width\":0.5},\"pattern\":{\"fillmode\":\"overlay\",\"size\":10,\"solidity\":0.2}},\"type\":\"barpolar\"}],\"pie\":[{\"automargin\":true,\"type\":\"pie\"}]},\"layout\":{\"autotypenumbers\":\"strict\",\"colorway\":[\"#636efa\",\"#EF553B\",\"#00cc96\",\"#ab63fa\",\"#FFA15A\",\"#19d3f3\",\"#FF6692\",\"#B6E880\",\"#FF97FF\",\"#FECB52\"],\"font\":{\"color\":\"#2a3f5f\"},\"hovermode\":\"closest\",\"hoverlabel\":{\"align\":\"left\"},\"paper_bgcolor\":\"white\",\"plot_bgcolor\":\"#E5ECF6\",\"polar\":{\"bgcolor\":\"#E5ECF6\",\"angularaxis\":{\"gridcolor\":\"white\",\"linecolor\":\"white\",\"ticks\":\"\"},\"radialaxis\":{\"gridcolor\":\"white\",\"linecolor\":\"white\",\"ticks\":\"\"}},\"ternary\":{\"bgcolor\":\"#E5ECF6\",\"aaxis\":{\"gridcolor\":\"white\",\"linecolor\":\"white\",\"ticks\":\"\"},\"baxis\":{\"gridcolor\":\"white\",\"linecolor\":\"white\",\"ticks\":\"\"},\"caxis\":{\"gridcolor\":\"white\",\"linecolor\":\"white\",\"ticks\":\"\"}},\"coloraxis\":{\"colorbar\":{\"outlinewidth\":0,\"ticks\":\"\"}},\"colorscale\":{\"sequential\":[[0.0,\"#0d0887\"],[0.1111111111111111,\"#46039f\"],[0.2222222222222222,\"#7201a8\"],[0.3333333333333333,\"#9c179e\"],[0.4444444444444444,\"#bd3786\"],[0.5555555555555556,\"#d8576b\"],[0.6666666666666666,\"#ed7953\"],[0.7777777777777778,\"#fb9f3a\"],[0.8888888888888888,\"#fdca26\"],[1.0,\"#f0f921\"]],\"sequentialminus\":[[0.0,\"#0d0887\"],[0.1111111111111111,\"#46039f\"],[0.2222222222222222,\"#7201a8\"],[0.3333333333333333,\"#9c179e\"],[0.4444444444444444,\"#bd3786\"],[0.5555555555555556,\"#d8576b\"],[0.6666666666666666,\"#ed7953\"],[0.7777777777777778,\"#fb9f3a\"],[0.8888888888888888,\"#fdca26\"],[1.0,\"#f0f921\"]],\"diverging\":[[0,\"#8e0152\"],[0.1,\"#c51b7d\"],[0.2,\"#de77ae\"],[0.3,\"#f1b6da\"],[0.4,\"#fde0ef\"],[0.5,\"#f7f7f7\"],[0.6,\"#e6f5d0\"],[0.7,\"#b8e186\"],[0.8,\"#7fbc41\"],[0.9,\"#4d9221\"],[1,\"#276419\"]]},\"xaxis\":{\"gridcolor\":\"white\",\"linecolor\":\"white\",\"ticks\":\"\",\"title\":{\"standoff\":15},\"zerolinecolor\":\"white\",\"automargin\":true,\"zerolinewidth\":2},\"yaxis\":{\"gridcolor\":\"white\",\"linecolor\":\"white\",\"ticks\":\"\",\"title\":{\"standoff\":15},\"zerolinecolor\":\"white\",\"automargin\":true,\"zerolinewidth\":2},\"scene\":{\"xaxis\":{\"backgroundcolor\":\"#E5ECF6\",\"gridcolor\":\"white\",\"linecolor\":\"white\",\"showbackground\":true,\"ticks\":\"\",\"zerolinecolor\":\"white\",\"gridwidth\":2},\"yaxis\":{\"backgroundcolor\":\"#E5ECF6\",\"gridcolor\":\"white\",\"linecolor\":\"white\",\"showbackground\":true,\"ticks\":\"\",\"zerolinecolor\":\"white\",\"gridwidth\":2},\"zaxis\":{\"backgroundcolor\":\"#E5ECF6\",\"gridcolor\":\"white\",\"linecolor\":\"white\",\"showbackground\":true,\"ticks\":\"\",\"zerolinecolor\":\"white\",\"gridwidth\":2}},\"shapedefaults\":{\"line\":{\"color\":\"#2a3f5f\"}},\"annotationdefaults\":{\"arrowcolor\":\"#2a3f5f\",\"arrowhead\":0,\"arrowwidth\":1},\"geo\":{\"bgcolor\":\"white\",\"landcolor\":\"#E5ECF6\",\"subunitcolor\":\"white\",\"showland\":true,\"showlakes\":true,\"lakecolor\":\"white\"},\"title\":{\"x\":0.05},\"mapbox\":{\"style\":\"light\"}}},\"xaxis\":{\"anchor\":\"y\",\"domain\":[0.0,1.0],\"title\":{\"text\":\"gender\"}},\"yaxis\":{\"anchor\":\"x\",\"domain\":[0.0,1.0],\"title\":{\"text\":\"avg_num_subscribers\"}},\"legend\":{\"tracegroupgap\":0},\"title\":{\"text\":\"Average number of subscribers\"},\"barmode\":\"relative\"},                        {\"responsive\": true}                    ).then(function(){\n",
       "                            \n",
       "var gd = document.getElementById('788014d1-d09a-4f41-861e-e8f34e41cc9f');\n",
       "var x = new MutationObserver(function (mutations, observer) {{\n",
       "        var display = window.getComputedStyle(gd).display;\n",
       "        if (!display || display === 'none') {{\n",
       "            console.log([gd, 'removed!']);\n",
       "            Plotly.purge(gd);\n",
       "            observer.disconnect();\n",
       "        }}\n",
       "}});\n",
       "\n",
       "// Listen for the removal of the full notebook cells\n",
       "var notebookContainer = gd.closest('#notebook-container');\n",
       "if (notebookContainer) {{\n",
       "    x.observe(notebookContainer, {childList: true});\n",
       "}}\n",
       "\n",
       "// Listen for the clearing of the current output cell\n",
       "var outputEl = gd.closest('.output');\n",
       "if (outputEl) {{\n",
       "    x.observe(outputEl, {childList: true});\n",
       "}}\n",
       "\n",
       "                        })                };                });            </script>        </div>"
      ]
     },
     "metadata": {},
     "output_type": "display_data"
    }
   ],
   "source": [
    "\n",
    "avg_num_subscribers_per_gender_ks.plot.bar(x='gender',y='avg_num_subscribers',title='Average number of subscribers')"
   ]
  },
  {
   "cell_type": "code",
   "execution_count": null,
   "id": "550e4c11",
   "metadata": {},
   "outputs": [],
   "source": []
  },
  {
   "cell_type": "code",
   "execution_count": 112,
   "id": "e2aab98c",
   "metadata": {},
   "outputs": [
    {
     "name": "stdout",
     "output_type": "stream",
     "text": [
      "23/01/02 04:20:35 WARN WindowExec: No Partition Defined for Window operation! Moving all data to a single partition, this can cause serious performance degradation.\n",
      "23/01/02 04:20:35 WARN WindowExec: No Partition Defined for Window operation! Moving all data to a single partition, this can cause serious performance degradation.\n",
      "23/01/02 04:20:35 WARN WindowExec: No Partition Defined for Window operation! Moving all data to a single partition, this can cause serious performance degradation.\n",
      "23/01/02 04:20:35 WARN WindowExec: No Partition Defined for Window operation! Moving all data to a single partition, this can cause serious performance degradation.\n",
      "23/01/02 04:20:35 WARN WindowExec: No Partition Defined for Window operation! Moving all data to a single partition, this can cause serious performance degradation.\n",
      "23/01/02 04:20:35 WARN WindowExec: No Partition Defined for Window operation! Moving all data to a single partition, this can cause serious performance degradation.\n",
      "23/01/02 04:20:35 WARN WindowExec: No Partition Defined for Window operation! Moving all data to a single partition, this can cause serious performance degradation.\n",
      "23/01/02 04:20:35 WARN WindowExec: No Partition Defined for Window operation! Moving all data to a single partition, this can cause serious performance degradation.\n"
     ]
    },
    {
     "name": "stderr",
     "output_type": "stream",
     "text": [
      "/home/rockhight/Documents/gitRepos/bigDataUdemyDataframe/koalas/venv/lib/python3.8/site-packages/databricks/koalas/internal.py:1430: FutureWarning: iteritems is deprecated and will be removed in a future version. Use .items instead.\n",
      "  for name, col in reset_index.iteritems():\n",
      "/home/rockhight/Documents/gitRepos/bigDataUdemyDataframe/koalas/venv/lib/python3.8/site-packages/databricks/koalas/internal.py:1430: FutureWarning: iteritems is deprecated and will be removed in a future version. Use .items instead.\n",
      "  for name, col in reset_index.iteritems():\n",
      "/home/rockhight/Documents/gitRepos/bigDataUdemyDataframe/koalas/venv/lib/python3.8/site-packages/databricks/koalas/internal.py:1430: FutureWarning: iteritems is deprecated and will be removed in a future version. Use .items instead.\n",
      "  for name, col in reset_index.iteritems():\n",
      "/home/rockhight/Documents/gitRepos/bigDataUdemyDataframe/koalas/venv/lib/python3.8/site-packages/databricks/koalas/internal.py:1430: FutureWarning: iteritems is deprecated and will be removed in a future version. Use .items instead.\n",
      "  for name, col in reset_index.iteritems():\n",
      "/home/rockhight/Documents/gitRepos/bigDataUdemyDataframe/koalas/venv/lib/python3.8/site-packages/databricks/koalas/internal.py:1430: FutureWarning: iteritems is deprecated and will be removed in a future version. Use .items instead.\n",
      "  for name, col in reset_index.iteritems():\n",
      "/home/rockhight/Documents/gitRepos/bigDataUdemyDataframe/koalas/venv/lib/python3.8/site-packages/databricks/koalas/internal.py:1430: FutureWarning: iteritems is deprecated and will be removed in a future version. Use .items instead.\n",
      "  for name, col in reset_index.iteritems():\n",
      "/home/rockhight/Documents/gitRepos/bigDataUdemyDataframe/koalas/venv/lib/python3.8/site-packages/databricks/koalas/internal.py:1430: FutureWarning: iteritems is deprecated and will be removed in a future version. Use .items instead.\n",
      "  for name, col in reset_index.iteritems():\n",
      "/home/rockhight/Documents/gitRepos/bigDataUdemyDataframe/koalas/venv/lib/python3.8/site-packages/databricks/koalas/internal.py:1430: FutureWarning: iteritems is deprecated and will be removed in a future version. Use .items instead.\n",
      "  for name, col in reset_index.iteritems():\n",
      "/home/rockhight/Documents/gitRepos/bigDataUdemyDataframe/koalas/venv/lib/python3.8/site-packages/databricks/koalas/internal.py:1430: FutureWarning: iteritems is deprecated and will be removed in a future version. Use .items instead.\n",
      "  for name, col in reset_index.iteritems():\n",
      "/home/rockhight/Documents/gitRepos/bigDataUdemyDataframe/koalas/venv/lib/python3.8/site-packages/databricks/koalas/internal.py:1430: FutureWarning: iteritems is deprecated and will be removed in a future version. Use .items instead.\n",
      "  for name, col in reset_index.iteritems():\n",
      "/home/rockhight/Documents/gitRepos/bigDataUdemyDataframe/koalas/venv/lib/python3.8/site-packages/databricks/koalas/internal.py:1430: FutureWarning: iteritems is deprecated and will be removed in a future version. Use .items instead.\n",
      "  for name, col in reset_index.iteritems():\n",
      "/home/rockhight/Documents/gitRepos/bigDataUdemyDataframe/koalas/venv/lib/python3.8/site-packages/databricks/koalas/internal.py:1430: FutureWarning: iteritems is deprecated and will be removed in a future version. Use .items instead.\n",
      "  for name, col in reset_index.iteritems():\n",
      "/home/rockhight/Documents/gitRepos/bigDataUdemyDataframe/koalas/venv/lib/python3.8/site-packages/databricks/koalas/internal.py:1430: FutureWarning: iteritems is deprecated and will be removed in a future version. Use .items instead.\n",
      "  for name, col in reset_index.iteritems():\n",
      "/home/rockhight/Documents/gitRepos/bigDataUdemyDataframe/koalas/venv/lib/python3.8/site-packages/databricks/koalas/internal.py:1430: FutureWarning: iteritems is deprecated and will be removed in a future version. Use .items instead.\n",
      "  for name, col in reset_index.iteritems():\n",
      "/home/rockhight/Documents/gitRepos/bigDataUdemyDataframe/koalas/venv/lib/python3.8/site-packages/databricks/koalas/internal.py:1430: FutureWarning: iteritems is deprecated and will be removed in a future version. Use .items instead.\n",
      "  for name, col in reset_index.iteritems():\n",
      "/home/rockhight/Documents/gitRepos/bigDataUdemyDataframe/koalas/venv/lib/python3.8/site-packages/databricks/koalas/internal.py:1430: FutureWarning: iteritems is deprecated and will be removed in a future version. Use .items instead.\n",
      "  for name, col in reset_index.iteritems():\n",
      "/home/rockhight/Documents/gitRepos/bigDataUdemyDataframe/koalas/venv/lib/python3.8/site-packages/databricks/koalas/internal.py:1430: FutureWarning: iteritems is deprecated and will be removed in a future version. Use .items instead.\n",
      "  for name, col in reset_index.iteritems():\n",
      "/home/rockhight/Documents/gitRepos/bigDataUdemyDataframe/koalas/venv/lib/python3.8/site-packages/databricks/koalas/internal.py:1430: FutureWarning: iteritems is deprecated and will be removed in a future version. Use .items instead.\n",
      "  for name, col in reset_index.iteritems():\n",
      "/home/rockhight/Documents/gitRepos/bigDataUdemyDataframe/koalas/venv/lib/python3.8/site-packages/databricks/koalas/internal.py:1430: FutureWarning: iteritems is deprecated and will be removed in a future version. Use .items instead.\n",
      "  for name, col in reset_index.iteritems():\n",
      "/home/rockhight/Documents/gitRepos/bigDataUdemyDataframe/koalas/venv/lib/python3.8/site-packages/databricks/koalas/internal.py:1430: FutureWarning: iteritems is deprecated and will be removed in a future version. Use .items instead.\n",
      "  for name, col in reset_index.iteritems():\n",
      "/home/rockhight/Documents/gitRepos/bigDataUdemyDataframe/koalas/venv/lib/python3.8/site-packages/databricks/koalas/internal.py:1430: FutureWarning: iteritems is deprecated and will be removed in a future version. Use .items instead.\n",
      "  for name, col in reset_index.iteritems():\n",
      "/home/rockhight/Documents/gitRepos/bigDataUdemyDataframe/koalas/venv/lib/python3.8/site-packages/databricks/koalas/internal.py:1430: FutureWarning: iteritems is deprecated and will be removed in a future version. Use .items instead.\n",
      "  for name, col in reset_index.iteritems():\n",
      "/home/rockhight/Documents/gitRepos/bigDataUdemyDataframe/koalas/venv/lib/python3.8/site-packages/databricks/koalas/internal.py:1430: FutureWarning: iteritems is deprecated and will be removed in a future version. Use .items instead.\n",
      "  for name, col in reset_index.iteritems():\n",
      "/home/rockhight/Documents/gitRepos/bigDataUdemyDataframe/koalas/venv/lib/python3.8/site-packages/databricks/koalas/internal.py:1430: FutureWarning: iteritems is deprecated and will be removed in a future version. Use .items instead.\n",
      "  for name, col in reset_index.iteritems():\n",
      "/home/rockhight/Documents/gitRepos/bigDataUdemyDataframe/koalas/venv/lib/python3.8/site-packages/databricks/koalas/internal.py:1430: FutureWarning: iteritems is deprecated and will be removed in a future version. Use .items instead.\n",
      "  for name, col in reset_index.iteritems():\n",
      "/home/rockhight/Documents/gitRepos/bigDataUdemyDataframe/koalas/venv/lib/python3.8/site-packages/databricks/koalas/internal.py:1430: FutureWarning: iteritems is deprecated and will be removed in a future version. Use .items instead.\n",
      "  for name, col in reset_index.iteritems():\n"
     ]
    },
    {
     "name": "stdout",
     "output_type": "stream",
     "text": [
      "23/01/02 04:20:36 WARN WindowExec: No Partition Defined for Window operation! Moving all data to a single partition, this can cause serious performance degradation.\n",
      "23/01/02 04:20:36 WARN WindowExec: No Partition Defined for Window operation! Moving all data to a single partition, this can cause serious performance degradation.\n",
      "23/01/02 04:20:36 WARN WindowExec: No Partition Defined for Window operation! Moving all data to a single partition, this can cause serious performance degradation.\n",
      "23/01/02 04:20:36 WARN WindowExec: No Partition Defined for Window operation! Moving all data to a single partition, this can cause serious performance degradation.\n"
     ]
    },
    {
     "name": "stderr",
     "output_type": "stream",
     "text": [
      "/home/rockhight/Documents/gitRepos/bigDataUdemyDataframe/koalas/venv/lib/python3.8/site-packages/databricks/koalas/internal.py:1430: FutureWarning: iteritems is deprecated and will be removed in a future version. Use .items instead.\n",
      "  for name, col in reset_index.iteritems():\n",
      "/home/rockhight/Documents/gitRepos/bigDataUdemyDataframe/koalas/venv/lib/python3.8/site-packages/databricks/koalas/internal.py:1430: FutureWarning: iteritems is deprecated and will be removed in a future version. Use .items instead.\n",
      "  for name, col in reset_index.iteritems():\n",
      "/home/rockhight/Documents/gitRepos/bigDataUdemyDataframe/koalas/venv/lib/python3.8/site-packages/databricks/koalas/internal.py:1430: FutureWarning: iteritems is deprecated and will be removed in a future version. Use .items instead.\n",
      "  for name, col in reset_index.iteritems():\n",
      "/home/rockhight/Documents/gitRepos/bigDataUdemyDataframe/koalas/venv/lib/python3.8/site-packages/databricks/koalas/internal.py:1430: FutureWarning: iteritems is deprecated and will be removed in a future version. Use .items instead.\n",
      "  for name, col in reset_index.iteritems():\n",
      "/home/rockhight/Documents/gitRepos/bigDataUdemyDataframe/koalas/venv/lib/python3.8/site-packages/databricks/koalas/internal.py:1430: FutureWarning: iteritems is deprecated and will be removed in a future version. Use .items instead.\n",
      "  for name, col in reset_index.iteritems():\n",
      "/home/rockhight/Documents/gitRepos/bigDataUdemyDataframe/koalas/venv/lib/python3.8/site-packages/databricks/koalas/internal.py:1430: FutureWarning: iteritems is deprecated and will be removed in a future version. Use .items instead.\n",
      "  for name, col in reset_index.iteritems():\n",
      "/home/rockhight/Documents/gitRepos/bigDataUdemyDataframe/koalas/venv/lib/python3.8/site-packages/databricks/koalas/internal.py:1430: FutureWarning: iteritems is deprecated and will be removed in a future version. Use .items instead.\n",
      "  for name, col in reset_index.iteritems():\n",
      "/home/rockhight/Documents/gitRepos/bigDataUdemyDataframe/koalas/venv/lib/python3.8/site-packages/databricks/koalas/internal.py:1430: FutureWarning: iteritems is deprecated and will be removed in a future version. Use .items instead.\n",
      "  for name, col in reset_index.iteritems():\n",
      "/home/rockhight/Documents/gitRepos/bigDataUdemyDataframe/koalas/venv/lib/python3.8/site-packages/databricks/koalas/internal.py:1430: FutureWarning: iteritems is deprecated and will be removed in a future version. Use .items instead.\n",
      "  for name, col in reset_index.iteritems():\n",
      "/home/rockhight/Documents/gitRepos/bigDataUdemyDataframe/koalas/venv/lib/python3.8/site-packages/databricks/koalas/internal.py:1430: FutureWarning: iteritems is deprecated and will be removed in a future version. Use .items instead.\n",
      "  for name, col in reset_index.iteritems():\n",
      "/home/rockhight/Documents/gitRepos/bigDataUdemyDataframe/koalas/venv/lib/python3.8/site-packages/databricks/koalas/internal.py:1430: FutureWarning: iteritems is deprecated and will be removed in a future version. Use .items instead.\n",
      "  for name, col in reset_index.iteritems():\n",
      "/home/rockhight/Documents/gitRepos/bigDataUdemyDataframe/koalas/venv/lib/python3.8/site-packages/databricks/koalas/internal.py:1430: FutureWarning: iteritems is deprecated and will be removed in a future version. Use .items instead.\n",
      "  for name, col in reset_index.iteritems():\n",
      "/home/rockhight/Documents/gitRepos/bigDataUdemyDataframe/koalas/venv/lib/python3.8/site-packages/databricks/koalas/internal.py:1430: FutureWarning: iteritems is deprecated and will be removed in a future version. Use .items instead.\n",
      "  for name, col in reset_index.iteritems():\n",
      "/home/rockhight/Documents/gitRepos/bigDataUdemyDataframe/koalas/venv/lib/python3.8/site-packages/databricks/koalas/internal.py:1430: FutureWarning: iteritems is deprecated and will be removed in a future version. Use .items instead.\n",
      "  for name, col in reset_index.iteritems():\n",
      "/home/rockhight/Documents/gitRepos/bigDataUdemyDataframe/koalas/venv/lib/python3.8/site-packages/databricks/koalas/internal.py:1430: FutureWarning: iteritems is deprecated and will be removed in a future version. Use .items instead.\n",
      "  for name, col in reset_index.iteritems():\n",
      "/home/rockhight/Documents/gitRepos/bigDataUdemyDataframe/koalas/venv/lib/python3.8/site-packages/databricks/koalas/internal.py:1430: FutureWarning: iteritems is deprecated and will be removed in a future version. Use .items instead.\n",
      "  for name, col in reset_index.iteritems():\n"
     ]
    }
   ],
   "source": [
    "avg_rating_per_gender_ks = known_instructors.groupby('gender').agg({'avg_rating':'mean'})\n",
    "avg_rating_per_gender = avg_rating_per_gender_ks.to_pandas()"
   ]
  },
  {
   "cell_type": "code",
   "execution_count": 113,
   "id": "3a01c76e",
   "metadata": {},
   "outputs": [
    {
     "data": {
      "text/html": [
       "<div>\n",
       "<style scoped>\n",
       "    .dataframe tbody tr th:only-of-type {\n",
       "        vertical-align: middle;\n",
       "    }\n",
       "\n",
       "    .dataframe tbody tr th {\n",
       "        vertical-align: top;\n",
       "    }\n",
       "\n",
       "    .dataframe thead th {\n",
       "        text-align: right;\n",
       "    }\n",
       "</style>\n",
       "<table border=\"1\" class=\"dataframe\">\n",
       "  <thead>\n",
       "    <tr style=\"text-align: right;\">\n",
       "      <th></th>\n",
       "      <th>avg_rating</th>\n",
       "    </tr>\n",
       "    <tr>\n",
       "      <th>gender</th>\n",
       "      <th></th>\n",
       "    </tr>\n",
       "  </thead>\n",
       "  <tbody>\n",
       "    <tr>\n",
       "      <th>mostly_female</th>\n",
       "      <td>3.569634</td>\n",
       "    </tr>\n",
       "    <tr>\n",
       "      <th>female</th>\n",
       "      <td>3.543443</td>\n",
       "    </tr>\n",
       "    <tr>\n",
       "      <th>andy</th>\n",
       "      <td>3.575397</td>\n",
       "    </tr>\n",
       "    <tr>\n",
       "      <th>male</th>\n",
       "      <td>3.767375</td>\n",
       "    </tr>\n",
       "    <tr>\n",
       "      <th>mostly_male</th>\n",
       "      <td>3.733086</td>\n",
       "    </tr>\n",
       "  </tbody>\n",
       "</table>\n",
       "</div>"
      ],
      "text/plain": [
       "               avg_rating\n",
       "gender                   \n",
       "mostly_female    3.569634\n",
       "female           3.543443\n",
       "andy             3.575397\n",
       "male             3.767375\n",
       "mostly_male      3.733086"
      ]
     },
     "execution_count": 113,
     "metadata": {},
     "output_type": "execute_result"
    }
   ],
   "source": [
    "avg_rating_per_gender"
   ]
  },
  {
   "cell_type": "code",
   "execution_count": 114,
   "id": "77603312",
   "metadata": {},
   "outputs": [
    {
     "data": {
      "text/plain": [
       "<AxesSubplot: xlabel='gender', ylabel='avg_rating'>"
      ]
     },
     "execution_count": 114,
     "metadata": {},
     "output_type": "execute_result"
    },
    {
     "data": {
      "image/png": "[encoded data removed]",
      "text/plain": [
       "<Figure size 640x480 with 1 Axes>"
      ]
     },
     "metadata": {},
     "output_type": "display_data"
    }
   ],
   "source": [
    "# set the x range to be from 3 to 5\n",
    "plt.ylim(3,5)\n",
    "sns.barplot(x = avg_rating_per_gender.index, y = 'avg_rating', data = avg_rating_per_gender)"
   ]
  }
 ],
 "metadata": {
  "kernelspec": {
   "display_name": "Python 3 (ipykernel)",
   "language": "python",
   "name": "python3"
  },
  "language_info": {
   "codemirror_mode": {
    "name": "ipython",
    "version": 3
   },
   "file_extension": ".py",
   "mimetype": "text/x-python",
   "name": "python",
   "nbconvert_exporter": "python",
   "pygments_lexer": "ipython3",
   "version": "3.8.16"
  }
 },
 "nbformat": 4,
 "nbformat_minor": 5
}
